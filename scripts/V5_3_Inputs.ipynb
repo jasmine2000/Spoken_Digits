{
 "cells": [
  {
   "cell_type": "code",
   "execution_count": 1,
   "id": "58c5d74a",
   "metadata": {},
   "outputs": [],
   "source": [
    "import random\n",
    "\n",
    "# for data, model, training\n",
    "import pandas as pd\n",
    "import numpy as np\n",
    "import tensorflow as tf\n",
    "import librosa\n",
    "\n",
    "import matplotlib.pyplot as plt\n",
    "import seaborn as sns\n",
    "\n",
    "import basics\n",
    "\n",
    "# Set the seed value for experiment reproducibility.\n",
    "seed = 42\n",
    "random.seed(42)\n",
    "tf.random.set_seed(seed)\n",
    "np.random.seed(seed)"
   ]
  },
  {
   "cell_type": "code",
   "execution_count": 2,
   "id": "b0c14066",
   "metadata": {},
   "outputs": [
    {
     "name": "stdout",
     "output_type": "stream",
     "text": [
      "['./recordings/2_jackson_13.wav', './recordings/6_george_34.wav', './recordings/7_george_5.wav', './recordings/1_yweweler_21.wav', './recordings/2_george_42.wav']\n"
     ]
    }
   ],
   "source": [
    "filenames = basics.get_and_shuffle_filenames(\"./recordings\")\n",
    "\n",
    "print(filenames[:5])"
   ]
  },
  {
   "cell_type": "code",
   "execution_count": 3,
   "id": "d9ba658e",
   "metadata": {},
   "outputs": [
    {
     "name": "stdout",
     "output_type": "stream",
     "text": [
      "4608\n"
     ]
    }
   ],
   "source": [
    "X_unfiltered = [(file_path, basics.decode_audio(file_path)) for file_path in filenames]\n",
    "\n",
    "# to remove outliers \n",
    "max_length = basics.get_max_length2(X_unfiltered, 1)\n",
    "print(max_length)"
   ]
  },
  {
   "cell_type": "code",
   "execution_count": 4,
   "id": "4a0b2050",
   "metadata": {},
   "outputs": [
    {
     "name": "stdout",
     "output_type": "stream",
     "text": [
      "2078\n",
      "2304\n",
      "[2 6 1 2 6 6 4 3 2 4]\n"
     ]
    }
   ],
   "source": [
    "X_full = [] # padded X values 0-7\n",
    "y_full = []\n",
    "\n",
    "numbers = [0] * 8\n",
    "\n",
    "for file_path, audio in X_unfiltered:\n",
    "    x_val = audio\n",
    "    y_val = basics.get_label(file_path)\n",
    "    signal_length = audio.shape[0]\n",
    "    \n",
    "    if y_val > 7:\n",
    "        continue\n",
    "    if signal_length > max_length:\n",
    "        numbers[y_val] += 1\n",
    "        continue\n",
    "        \n",
    "    x_val = np.pad(\n",
    "        x_val, (0, max_length - signal_length), \n",
    "        'constant', constant_values=(0, 0))\n",
    "\n",
    "    x_spect = basics.spect(x_val, max_length)\n",
    "    x_spect = x_spect.flatten()\n",
    "\n",
    "    X_full.append(x_spect)\n",
    "    y_full.append(y_val)\n",
    "\n",
    "X_full = np.array(X_full)\n",
    "y_full = np.array(y_full)\n",
    "\n",
    "num_samples, sample_w = X_full.shape\n",
    "print(num_samples)\n",
    "print(sample_w)\n",
    "\n",
    "print(y_full[:10])"
   ]
  },
  {
   "cell_type": "code",
   "execution_count": 5,
   "id": "fa5cda69",
   "metadata": {},
   "outputs": [
    {
     "name": "stdout",
     "output_type": "stream",
     "text": [
      "   quantities\n",
      "0          84\n",
      "1          25\n",
      "2          16\n",
      "3          29\n",
      "4          21\n",
      "5          41\n",
      "6          70\n",
      "7          36\n",
      "322\n"
     ]
    }
   ],
   "source": [
    "# dropped outliers\n",
    "df = pd.DataFrame.from_dict({\"quantities\": numbers})\n",
    "print(df)\n",
    "print(sum(numbers))"
   ]
  },
  {
   "cell_type": "code",
   "execution_count": 6,
   "id": "e7c6c677",
   "metadata": {},
   "outputs": [
    {
     "name": "stdout",
     "output_type": "stream",
     "text": [
      "Training set size 1656\n",
      "Validation set size 207\n",
      "Test set size 215\n"
     ]
    }
   ],
   "source": [
    "# normalize data\n",
    "X_full = basics.normalize_arr(X_full)\n",
    "\n",
    "# partition into 80:10:10\n",
    "partitions = basics.split_full(X_full, y_full)\n",
    "\n",
    "X_train, y_train = partitions[0]\n",
    "X_val, y_val = partitions[1]\n",
    "X_test, y_test = partitions[2]\n",
    "\n",
    "print('Training set size', len(X_train))\n",
    "print('Validation set size', len(X_val))\n",
    "print('Test set size', len(X_test))"
   ]
  },
  {
   "cell_type": "code",
   "execution_count": 7,
   "id": "ca02ea9f",
   "metadata": {
    "scrolled": true
   },
   "outputs": [
    {
     "name": "stdout",
     "output_type": "stream",
     "text": [
      "Model: \"sequential\"\n",
      "_________________________________________________________________\n",
      " Layer (type)                Output Shape              Param #   \n",
      "=================================================================\n",
      " reshape (Reshape)           (None, 128, 18, 1)        0         \n",
      "                                                                 \n",
      " conv2d (Conv2D)             (None, 125, 15, 32)       544       \n",
      "                                                                 \n",
      " dropout (Dropout)           (None, 125, 15, 32)       0         \n",
      "                                                                 \n",
      " average_pooling2d (AverageP  (None, 62, 7, 32)        0         \n",
      " ooling2D)                                                       \n",
      "                                                                 \n",
      " conv2d_1 (Conv2D)           (None, 59, 4, 16)         8208      \n",
      "                                                                 \n",
      " dropout_1 (Dropout)         (None, 59, 4, 16)         0         \n",
      "                                                                 \n",
      " average_pooling2d_1 (Averag  (None, 29, 2, 16)        0         \n",
      " ePooling2D)                                                     \n",
      "                                                                 \n",
      " flatten (Flatten)           (None, 928)               0         \n",
      "                                                                 \n",
      " dropout_2 (Dropout)         (None, 928)               0         \n",
      "                                                                 \n",
      " dense (Dense)               (None, 40)                37160     \n",
      "                                                                 \n",
      " dense_1 (Dense)             (None, 8)                 328       \n",
      "                                                                 \n",
      "=================================================================\n",
      "Total params: 46,240\n",
      "Trainable params: 46,240\n",
      "Non-trainable params: 0\n",
      "_________________________________________________________________\n"
     ]
    },
    {
     "name": "stderr",
     "output_type": "stream",
     "text": [
      "2022-05-07 19:56:54.092091: I tensorflow/core/platform/cpu_feature_guard.cc:151] This TensorFlow binary is optimized with oneAPI Deep Neural Network Library (oneDNN) to use the following CPU instructions in performance-critical operations:  AVX2 FMA\n",
      "To enable them in other operations, rebuild TensorFlow with the appropriate compiler flags.\n"
     ]
    }
   ],
   "source": [
    "# INPUTS ARE NORMALIZED\n",
    "\n",
    "model = tf.keras.models.Sequential()\n",
    "model.add(tf.keras.layers.Reshape((128, 18, 1), input_shape=(sample_w,)))\n",
    "\n",
    "model.add(tf.keras.layers.Conv2D(32, (4, 4), activation='relu', input_shape=(128, 18, 1)))\n",
    "model.add(tf.keras.layers.Dropout(0.25))\n",
    "model.add(tf.keras.layers.AveragePooling2D(2,2))\n",
    "\n",
    "model.add(tf.keras.layers.Conv2D(16, (4, 4), activation='relu'))\n",
    "model.add(tf.keras.layers.Dropout(0.25))\n",
    "model.add(tf.keras.layers.AveragePooling2D(2,2))\n",
    " \n",
    "model.add(tf.keras.layers.Flatten())\n",
    "\n",
    "model.add(tf.keras.layers.Dropout(0.15))    \n",
    "model.add(tf.keras.layers.Dense(40, activation='relu'))\n",
    "model.add(tf.keras.layers.Dense(8, activation='softmax'))\n",
    "\n",
    "model.build()\n",
    "model.summary()"
   ]
  },
  {
   "cell_type": "code",
   "execution_count": 8,
   "id": "d4c0b4e2",
   "metadata": {},
   "outputs": [],
   "source": [
    "model.compile(loss=\"sparse_categorical_crossentropy\",\n",
    "             optimizer=\"adam\",\n",
    "             metrics=[\"accuracy\"])"
   ]
  },
  {
   "cell_type": "code",
   "execution_count": 9,
   "id": "b4e4acc5",
   "metadata": {},
   "outputs": [
    {
     "name": "stdout",
     "output_type": "stream",
     "text": [
      "Epoch 1/30\n",
      "52/52 [==============================] - 2s 32ms/step - loss: 1.9285 - accuracy: 0.2621 - val_loss: 1.6642 - val_accuracy: 0.4348\n",
      "Epoch 2/30\n",
      "52/52 [==============================] - 2s 29ms/step - loss: 1.3251 - accuracy: 0.5175 - val_loss: 1.0215 - val_accuracy: 0.6522\n",
      "Epoch 3/30\n",
      "52/52 [==============================] - 2s 29ms/step - loss: 0.9528 - accuracy: 0.6655 - val_loss: 0.7855 - val_accuracy: 0.7343\n",
      "Epoch 4/30\n",
      "52/52 [==============================] - 2s 29ms/step - loss: 0.7775 - accuracy: 0.7216 - val_loss: 0.6843 - val_accuracy: 0.7778\n",
      "Epoch 5/30\n",
      "52/52 [==============================] - 2s 29ms/step - loss: 0.6623 - accuracy: 0.7645 - val_loss: 0.5829 - val_accuracy: 0.8068\n",
      "Epoch 6/30\n",
      "52/52 [==============================] - 1s 28ms/step - loss: 0.6125 - accuracy: 0.7917 - val_loss: 0.5413 - val_accuracy: 0.8357\n",
      "Epoch 7/30\n",
      "52/52 [==============================] - 1s 28ms/step - loss: 0.4922 - accuracy: 0.8309 - val_loss: 0.4816 - val_accuracy: 0.8406\n",
      "Epoch 8/30\n",
      "52/52 [==============================] - 1s 29ms/step - loss: 0.4388 - accuracy: 0.8502 - val_loss: 0.4218 - val_accuracy: 0.8696\n",
      "Epoch 9/30\n",
      "52/52 [==============================] - 1s 29ms/step - loss: 0.3833 - accuracy: 0.8665 - val_loss: 0.3947 - val_accuracy: 0.8889\n",
      "Epoch 10/30\n",
      "52/52 [==============================] - 2s 30ms/step - loss: 0.3322 - accuracy: 0.8925 - val_loss: 0.3412 - val_accuracy: 0.9034\n",
      "Epoch 11/30\n",
      "52/52 [==============================] - 2s 33ms/step - loss: 0.3133 - accuracy: 0.8967 - val_loss: 0.3653 - val_accuracy: 0.8937\n",
      "Epoch 12/30\n",
      "52/52 [==============================] - 2s 32ms/step - loss: 0.2801 - accuracy: 0.9064 - val_loss: 0.3260 - val_accuracy: 0.9179\n",
      "Epoch 13/30\n",
      "52/52 [==============================] - 2s 29ms/step - loss: 0.2605 - accuracy: 0.9155 - val_loss: 0.2663 - val_accuracy: 0.9372\n",
      "Epoch 14/30\n",
      "52/52 [==============================] - 2s 30ms/step - loss: 0.2497 - accuracy: 0.9185 - val_loss: 0.3491 - val_accuracy: 0.9130\n",
      "Epoch 15/30\n",
      "52/52 [==============================] - 2s 31ms/step - loss: 0.2203 - accuracy: 0.9275 - val_loss: 0.3085 - val_accuracy: 0.9082\n",
      "Epoch 16/30\n",
      "52/52 [==============================] - 2s 31ms/step - loss: 0.2132 - accuracy: 0.9263 - val_loss: 0.2459 - val_accuracy: 0.9324\n",
      "Epoch 17/30\n",
      "52/52 [==============================] - 2s 30ms/step - loss: 0.1597 - accuracy: 0.9487 - val_loss: 0.2516 - val_accuracy: 0.9130\n",
      "Epoch 18/30\n",
      "52/52 [==============================] - 2s 31ms/step - loss: 0.1642 - accuracy: 0.9360 - val_loss: 0.2734 - val_accuracy: 0.9082\n",
      "Epoch 19/30\n",
      "52/52 [==============================] - 2s 29ms/step - loss: 0.1593 - accuracy: 0.9505 - val_loss: 0.2832 - val_accuracy: 0.9082\n",
      "Epoch 20/30\n",
      "52/52 [==============================] - 2s 29ms/step - loss: 0.1445 - accuracy: 0.9517 - val_loss: 0.2350 - val_accuracy: 0.9227\n",
      "Epoch 21/30\n",
      "52/52 [==============================] - 2s 30ms/step - loss: 0.1382 - accuracy: 0.9505 - val_loss: 0.2377 - val_accuracy: 0.9372\n",
      "Epoch 22/30\n",
      "52/52 [==============================] - 2s 30ms/step - loss: 0.1285 - accuracy: 0.9595 - val_loss: 0.2720 - val_accuracy: 0.9275\n",
      "Epoch 23/30\n",
      "52/52 [==============================] - 2s 30ms/step - loss: 0.1475 - accuracy: 0.9523 - val_loss: 0.2956 - val_accuracy: 0.9227\n",
      "Epoch 24/30\n",
      "52/52 [==============================] - 2s 33ms/step - loss: 0.1206 - accuracy: 0.9614 - val_loss: 0.2362 - val_accuracy: 0.9517\n",
      "Epoch 25/30\n",
      "52/52 [==============================] - 2s 31ms/step - loss: 0.1140 - accuracy: 0.9601 - val_loss: 0.2607 - val_accuracy: 0.9227\n",
      "Epoch 26/30\n",
      "52/52 [==============================] - 2s 31ms/step - loss: 0.1245 - accuracy: 0.9601 - val_loss: 0.2254 - val_accuracy: 0.9469\n",
      "Epoch 27/30\n",
      "52/52 [==============================] - 2s 32ms/step - loss: 0.0951 - accuracy: 0.9704 - val_loss: 0.2320 - val_accuracy: 0.9517\n",
      "Epoch 28/30\n",
      "52/52 [==============================] - 2s 33ms/step - loss: 0.0911 - accuracy: 0.9728 - val_loss: 0.2240 - val_accuracy: 0.9420\n",
      "Epoch 29/30\n",
      "52/52 [==============================] - 2s 31ms/step - loss: 0.0842 - accuracy: 0.9758 - val_loss: 0.2728 - val_accuracy: 0.9179\n",
      "Epoch 30/30\n",
      "52/52 [==============================] - 2s 30ms/step - loss: 0.0874 - accuracy: 0.9722 - val_loss: 0.2806 - val_accuracy: 0.9469\n"
     ]
    }
   ],
   "source": [
    "history = model.fit(X_train, y_train, epochs=30,\n",
    "                   validation_data=(X_val, y_val))"
   ]
  },
  {
   "cell_type": "code",
   "execution_count": 10,
   "id": "31ce3853",
   "metadata": {},
   "outputs": [
    {
     "name": "stdout",
     "output_type": "stream",
     "text": [
      "7/7 [==============================] - 0s 5ms/step - loss: 0.2471 - accuracy: 0.9256\n"
     ]
    },
    {
     "data": {
      "text/plain": [
       "[0.2471337616443634, 0.9255813956260681]"
      ]
     },
     "execution_count": 10,
     "metadata": {},
     "output_type": "execute_result"
    }
   ],
   "source": [
    "model.evaluate(X_test, y_test)"
   ]
  },
  {
   "cell_type": "code",
   "execution_count": 11,
   "id": "f49dbcc8",
   "metadata": {},
   "outputs": [
    {
     "data": {
      "image/png": "[encoded data removed]",
      "text/plain": [
       "<Figure size 720x576 with 2 Axes>"
      ]
     },
     "metadata": {
      "needs_background": "light"
     },
     "output_type": "display_data"
    }
   ],
   "source": [
    "y_pred = np.argmax(model.predict(X_test), axis=1)\n",
    "\n",
    "all_labels = list(range(8))\n",
    "\n",
    "confusion_mtx = tf.math.confusion_matrix(y_test, y_pred)\n",
    "plt.figure(figsize=(10, 8))\n",
    "sns.heatmap(confusion_mtx, xticklabels=all_labels, yticklabels=all_labels, annot=True, fmt='g')\n",
    "\n",
    "plt.xlabel('Prediction')\n",
    "plt.ylabel('Label')\n",
    "plt.show()"
   ]
  },
  {
   "cell_type": "code",
   "execution_count": 12,
   "id": "64b90426",
   "metadata": {},
   "outputs": [],
   "source": [
    "model.save(\"v12.h5\")"
   ]
  },
  {
   "cell_type": "code",
   "execution_count": null,
   "id": "6763a0b3",
   "metadata": {},
   "outputs": [],
   "source": []
  }
 ],
 "metadata": {
  "kernelspec": {
   "display_name": "Python 3 (ipykernel)",
   "language": "python",
   "name": "python3"
  },
  "language_info": {
   "codemirror_mode": {
    "name": "ipython",
    "version": 3
   },
   "file_extension": ".py",
   "mimetype": "text/x-python",
   "name": "python",
   "nbconvert_exporter": "python",
   "pygments_lexer": "ipython3",
   "version": "3.7.7"
  }
 },
 "nbformat": 4,
 "nbformat_minor": 5
}
