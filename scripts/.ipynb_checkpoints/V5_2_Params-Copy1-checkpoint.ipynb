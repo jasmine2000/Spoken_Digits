{
 "cells": [
  {
   "cell_type": "code",
   "execution_count": 1,
   "id": "58c5d74a",
   "metadata": {},
   "outputs": [],
   "source": [
    "import random\n",
    "\n",
    "# for data, model, training\n",
    "import pandas as pd\n",
    "import numpy as np\n",
    "import tensorflow as tf\n",
    "import librosa\n",
    "\n",
    "import matplotlib.pyplot as plt\n",
    "import seaborn as sns\n",
    "\n",
    "import basics\n",
    "\n",
    "# Set the seed value for experiment reproducibility.\n",
    "seed = 42\n",
    "random.seed(42)\n",
    "tf.random.set_seed(seed)\n",
    "np.random.seed(seed)"
   ]
  },
  {
   "cell_type": "code",
   "execution_count": 2,
   "id": "b0c14066",
   "metadata": {},
   "outputs": [
    {
     "name": "stdout",
     "output_type": "stream",
     "text": [
      "['./recordings/2_jackson_13.wav', './recordings/6_george_34.wav', './recordings/7_george_5.wav', './recordings/1_yweweler_21.wav', './recordings/2_george_42.wav']\n"
     ]
    }
   ],
   "source": [
    "filenames = basics.get_and_shuffle_filenames(\"./recordings\")\n",
    "\n",
    "print(filenames[:5])"
   ]
  },
  {
   "cell_type": "code",
   "execution_count": 3,
   "id": "d9ba658e",
   "metadata": {},
   "outputs": [
    {
     "name": "stdout",
     "output_type": "stream",
     "text": [
      "5632\n"
     ]
    }
   ],
   "source": [
    "X_unfiltered = [(file_path, basics.decode_audio(file_path)) for file_path in filenames]\n",
    "\n",
    "# to remove outliers \n",
    "max_length = basics.get_max_length(X_unfiltered)\n",
    "print(max_length)"
   ]
  },
  {
   "cell_type": "code",
   "execution_count": 4,
   "id": "4a0b2050",
   "metadata": {},
   "outputs": [
    {
     "name": "stdout",
     "output_type": "stream",
     "text": [
      "(2312, 2816)\n",
      "2312\n",
      "2816\n",
      "[2 6 7 1 2 6 6 4 3 2]\n"
     ]
    }
   ],
   "source": [
    "X_full = [] # padded X values 0-7\n",
    "y_full = []\n",
    "\n",
    "numbers = [0] * 8\n",
    "\n",
    "for file_path, audio in X_unfiltered:\n",
    "    x_val = audio\n",
    "    y_val = basics.get_label(file_path)\n",
    "    signal_length = audio.shape[0]\n",
    "    \n",
    "    if y_val > 7:\n",
    "        continue\n",
    "    if signal_length > max_length:\n",
    "        numbers[y_val] += 1\n",
    "        continue\n",
    "        \n",
    "    x_val = np.pad(\n",
    "        x_val, (0, max_length - signal_length), \n",
    "        'constant', constant_values=(0, 0))\n",
    "\n",
    "    x_spect = basics.spect(x_val, max_length)\n",
    "    x_spect = x_spect.flatten()\n",
    "\n",
    "    X_full.append(x_spect)\n",
    "    y_full.append(y_val)\n",
    "\n",
    "X_full = np.array(X_full)\n",
    "y_full = np.array(y_full)\n",
    "\n",
    "print(X_full.shape)\n",
    "\n",
    "num_samples, sample_w = X_full.shape\n",
    "print(num_samples)\n",
    "print(sample_w)\n",
    "\n",
    "print(y_full[:10])"
   ]
  },
  {
   "cell_type": "code",
   "execution_count": 5,
   "id": "fa5cda69",
   "metadata": {},
   "outputs": [
    {
     "name": "stdout",
     "output_type": "stream",
     "text": [
      "   quantities\n",
      "0          12\n",
      "1           9\n",
      "2           7\n",
      "3           9\n",
      "4           3\n",
      "5           8\n",
      "6          29\n",
      "7          11\n",
      "88\n"
     ]
    }
   ],
   "source": [
    "# dropped outliers\n",
    "df = pd.DataFrame.from_dict({\"quantities\": numbers})\n",
    "print(df)\n",
    "print(sum(numbers))"
   ]
  },
  {
   "cell_type": "code",
   "execution_count": 6,
   "id": "e7c6c677",
   "metadata": {},
   "outputs": [
    {
     "name": "stdout",
     "output_type": "stream",
     "text": [
      "Training set size 1848\n",
      "Validation set size 231\n",
      "Test set size 233\n"
     ]
    }
   ],
   "source": [
    "# normalize data\n",
    "X_full = basics.normalize_arr(X_full)\n",
    "\n",
    "# partition into 80:10:10\n",
    "partitions = basics.split_full(X_full, y_full)\n",
    "\n",
    "X_train, y_train = partitions[0]\n",
    "X_val, y_val = partitions[1]\n",
    "X_test, y_test = partitions[2]\n",
    "\n",
    "print('Training set size', len(X_train))\n",
    "print('Validation set size', len(X_val))\n",
    "print('Test set size', len(X_test))"
   ]
  },
  {
   "cell_type": "code",
   "execution_count": 9,
   "id": "ca02ea9f",
   "metadata": {
    "scrolled": true
   },
   "outputs": [
    {
     "name": "stdout",
     "output_type": "stream",
     "text": [
      "Model: \"sequential_2\"\n",
      "_________________________________________________________________\n",
      " Layer (type)                Output Shape              Param #   \n",
      "=================================================================\n",
      " reshape_2 (Reshape)         (None, 128, 22, 1)        0         \n",
      "                                                                 \n",
      " conv2d_4 (Conv2D)           (None, 125, 19, 64)       1088      \n",
      "                                                                 \n",
      " dropout_6 (Dropout)         (None, 125, 19, 64)       0         \n",
      "                                                                 \n",
      " average_pooling2d_4 (Averag  (None, 62, 9, 64)        0         \n",
      " ePooling2D)                                                     \n",
      "                                                                 \n",
      " conv2d_5 (Conv2D)           (None, 59, 6, 16)         16400     \n",
      "                                                                 \n",
      " dropout_7 (Dropout)         (None, 59, 6, 16)         0         \n",
      "                                                                 \n",
      " average_pooling2d_5 (Averag  (None, 29, 3, 16)        0         \n",
      " ePooling2D)                                                     \n",
      "                                                                 \n",
      " flatten_2 (Flatten)         (None, 1392)              0         \n",
      "                                                                 \n",
      " dropout_8 (Dropout)         (None, 1392)              0         \n",
      "                                                                 \n",
      " dense_4 (Dense)             (None, 40)                55720     \n",
      "                                                                 \n",
      " dense_5 (Dense)             (None, 8)                 328       \n",
      "                                                                 \n",
      "=================================================================\n",
      "Total params: 73,536\n",
      "Trainable params: 73,536\n",
      "Non-trainable params: 0\n",
      "_________________________________________________________________\n"
     ]
    }
   ],
   "source": [
    "# INPUTS ARE NORMALIZED\n",
    "\n",
    "model = tf.keras.models.Sequential()\n",
    "model.add(tf.keras.layers.Reshape((128, 22, 1), input_shape=(sample_w,)))\n",
    "\n",
    "model.add(tf.keras.layers.Conv2D(64, (4, 4), activation='relu', input_shape=(128, 22, 1)))\n",
    "model.add(tf.keras.layers.Dropout(0.25))\n",
    "model.add(tf.keras.layers.AveragePooling2D(2,2))\n",
    "\n",
    "model.add(tf.keras.layers.Conv2D(16, (4, 4), activation='relu'))\n",
    "model.add(tf.keras.layers.Dropout(0.25))\n",
    "model.add(tf.keras.layers.AveragePooling2D(2,2))\n",
    " \n",
    "model.add(tf.keras.layers.Flatten())\n",
    "\n",
    "model.add(tf.keras.layers.Dropout(0.15))    \n",
    "model.add(tf.keras.layers.Dense(40, activation='relu'))\n",
    "model.add(tf.keras.layers.Dense(8, activation='softmax'))\n",
    "\n",
    "model.build()\n",
    "model.summary()"
   ]
  },
  {
   "cell_type": "code",
   "execution_count": 10,
   "id": "d4c0b4e2",
   "metadata": {},
   "outputs": [],
   "source": [
    "model.compile(loss=\"sparse_categorical_crossentropy\",\n",
    "             optimizer=\"adam\",\n",
    "             metrics=[\"accuracy\"])"
   ]
  },
  {
   "cell_type": "code",
   "execution_count": 11,
   "id": "b4e4acc5",
   "metadata": {},
   "outputs": [
    {
     "name": "stdout",
     "output_type": "stream",
     "text": [
      "Epoch 1/30\n",
      "58/58 [==============================] - 5s 76ms/step - loss: 1.9995 - accuracy: 0.2213 - val_loss: 1.8780 - val_accuracy: 0.3203\n",
      "Epoch 2/30\n",
      "58/58 [==============================] - 4s 75ms/step - loss: 1.7366 - accuracy: 0.3550 - val_loss: 1.4748 - val_accuracy: 0.4978\n",
      "Epoch 3/30\n",
      "58/58 [==============================] - 4s 76ms/step - loss: 1.3485 - accuracy: 0.4989 - val_loss: 1.0649 - val_accuracy: 0.6667\n",
      "Epoch 4/30\n",
      "58/58 [==============================] - 5s 84ms/step - loss: 0.9505 - accuracy: 0.6661 - val_loss: 0.7653 - val_accuracy: 0.7446\n",
      "Epoch 5/30\n",
      "58/58 [==============================] - 4s 77ms/step - loss: 0.7318 - accuracy: 0.7457 - val_loss: 0.6053 - val_accuracy: 0.8095\n",
      "Epoch 6/30\n",
      "58/58 [==============================] - 4s 75ms/step - loss: 0.5806 - accuracy: 0.7944 - val_loss: 0.5861 - val_accuracy: 0.8009\n",
      "Epoch 7/30\n",
      "58/58 [==============================] - 4s 68ms/step - loss: 0.4919 - accuracy: 0.8415 - val_loss: 0.4387 - val_accuracy: 0.8658\n",
      "Epoch 8/30\n",
      "58/58 [==============================] - 4s 71ms/step - loss: 0.4063 - accuracy: 0.8615 - val_loss: 0.3547 - val_accuracy: 0.9048\n",
      "Epoch 9/30\n",
      "58/58 [==============================] - 4s 74ms/step - loss: 0.3771 - accuracy: 0.8690 - val_loss: 0.3393 - val_accuracy: 0.8961\n",
      "Epoch 10/30\n",
      "58/58 [==============================] - 4s 71ms/step - loss: 0.3253 - accuracy: 0.8874 - val_loss: 0.3223 - val_accuracy: 0.9048\n",
      "Epoch 11/30\n",
      "58/58 [==============================] - 4s 68ms/step - loss: 0.2666 - accuracy: 0.9085 - val_loss: 0.3031 - val_accuracy: 0.9177\n",
      "Epoch 12/30\n",
      "58/58 [==============================] - 4s 73ms/step - loss: 0.2804 - accuracy: 0.9004 - val_loss: 0.2652 - val_accuracy: 0.9221\n",
      "Epoch 13/30\n",
      "58/58 [==============================] - 4s 72ms/step - loss: 0.2183 - accuracy: 0.9286 - val_loss: 0.2821 - val_accuracy: 0.9351\n",
      "Epoch 14/30\n",
      "58/58 [==============================] - 4s 71ms/step - loss: 0.2159 - accuracy: 0.9275 - val_loss: 0.2750 - val_accuracy: 0.9177\n",
      "Epoch 15/30\n",
      "58/58 [==============================] - 4s 72ms/step - loss: 0.1882 - accuracy: 0.9372 - val_loss: 0.2494 - val_accuracy: 0.9351\n",
      "Epoch 16/30\n",
      "58/58 [==============================] - 4s 68ms/step - loss: 0.1979 - accuracy: 0.9345 - val_loss: 0.2544 - val_accuracy: 0.9264\n",
      "Epoch 17/30\n",
      "58/58 [==============================] - 4s 68ms/step - loss: 0.1603 - accuracy: 0.9508 - val_loss: 0.2957 - val_accuracy: 0.9091\n",
      "Epoch 18/30\n",
      "58/58 [==============================] - 4s 68ms/step - loss: 0.1558 - accuracy: 0.9524 - val_loss: 0.2466 - val_accuracy: 0.9221\n",
      "Epoch 19/30\n",
      "58/58 [==============================] - 4s 75ms/step - loss: 0.1633 - accuracy: 0.9459 - val_loss: 0.2130 - val_accuracy: 0.9394\n",
      "Epoch 20/30\n",
      "58/58 [==============================] - 4s 69ms/step - loss: 0.1425 - accuracy: 0.9491 - val_loss: 0.2744 - val_accuracy: 0.9221\n",
      "Epoch 21/30\n",
      "58/58 [==============================] - 4s 75ms/step - loss: 0.1227 - accuracy: 0.9573 - val_loss: 0.2748 - val_accuracy: 0.9351\n",
      "Epoch 22/30\n",
      "58/58 [==============================] - 4s 71ms/step - loss: 0.1310 - accuracy: 0.9567 - val_loss: 0.2645 - val_accuracy: 0.9351\n",
      "Epoch 23/30\n",
      "58/58 [==============================] - 4s 76ms/step - loss: 0.1351 - accuracy: 0.9562 - val_loss: 0.2903 - val_accuracy: 0.9004\n",
      "Epoch 24/30\n",
      "58/58 [==============================] - 4s 73ms/step - loss: 0.1175 - accuracy: 0.9589 - val_loss: 0.2495 - val_accuracy: 0.9394\n",
      "Epoch 25/30\n",
      "58/58 [==============================] - 4s 67ms/step - loss: 0.0893 - accuracy: 0.9708 - val_loss: 0.2608 - val_accuracy: 0.9437\n",
      "Epoch 26/30\n",
      "58/58 [==============================] - 4s 74ms/step - loss: 0.1085 - accuracy: 0.9627 - val_loss: 0.2517 - val_accuracy: 0.9394\n",
      "Epoch 27/30\n",
      "58/58 [==============================] - 4s 68ms/step - loss: 0.1029 - accuracy: 0.9616 - val_loss: 0.2324 - val_accuracy: 0.9307\n",
      "Epoch 28/30\n",
      "58/58 [==============================] - 4s 73ms/step - loss: 0.0853 - accuracy: 0.9762 - val_loss: 0.2691 - val_accuracy: 0.9091\n",
      "Epoch 29/30\n",
      "58/58 [==============================] - 4s 68ms/step - loss: 0.0855 - accuracy: 0.9719 - val_loss: 0.2438 - val_accuracy: 0.9351\n",
      "Epoch 30/30\n",
      "58/58 [==============================] - 4s 71ms/step - loss: 0.0817 - accuracy: 0.9713 - val_loss: 0.2601 - val_accuracy: 0.9437\n"
     ]
    }
   ],
   "source": [
    "history = model.fit(X_train, y_train, epochs=30,\n",
    "                   validation_data=(X_val, y_val))"
   ]
  },
  {
   "cell_type": "code",
   "execution_count": 12,
   "id": "31ce3853",
   "metadata": {},
   "outputs": [
    {
     "name": "stdout",
     "output_type": "stream",
     "text": [
      "8/8 [==============================] - 0s 18ms/step - loss: 0.2244 - accuracy: 0.9270\n"
     ]
    },
    {
     "data": {
      "text/plain": [
       "[0.22443091869354248, 0.9270386099815369]"
      ]
     },
     "execution_count": 12,
     "metadata": {},
     "output_type": "execute_result"
    }
   ],
   "source": [
    "model.evaluate(X_test, y_test)"
   ]
  },
  {
   "cell_type": "code",
   "execution_count": 14,
   "id": "f49dbcc8",
   "metadata": {},
   "outputs": [
    {
     "data": {
      "image/png": "[encoded data removed]",
      "text/plain": [
       "<Figure size 720x576 with 2 Axes>"
      ]
     },
     "metadata": {
      "needs_background": "light"
     },
     "output_type": "display_data"
    }
   ],
   "source": [
    "y_pred = np.argmax(model.predict(X_test), axis=1)\n",
    "\n",
    "all_labels = list(range(8))\n",
    "\n",
    "confusion_mtx = tf.math.confusion_matrix(y_test, y_pred)\n",
    "plt.figure(figsize=(10, 8))\n",
    "sns.heatmap(confusion_mtx, xticklabels=all_labels, yticklabels=all_labels, annot=True, fmt='g')\n",
    "\n",
    "plt.xlabel('Prediction')\n",
    "plt.ylabel('Label')\n",
    "plt.show()"
   ]
  },
  {
   "cell_type": "code",
   "execution_count": 15,
   "id": "64b90426",
   "metadata": {},
   "outputs": [],
   "source": [
    "model.save(\"v11.h5\")"
   ]
  },
  {
   "cell_type": "code",
   "execution_count": null,
   "id": "6763a0b3",
   "metadata": {},
   "outputs": [],
   "source": []
  }
 ],
 "metadata": {
  "kernelspec": {
   "display_name": "Python 3 (ipykernel)",
   "language": "python",
   "name": "python3"
  },
  "language_info": {
   "codemirror_mode": {
    "name": "ipython",
    "version": 3
   },
   "file_extension": ".py",
   "mimetype": "text/x-python",
   "name": "python",
   "nbconvert_exporter": "python",
   "pygments_lexer": "ipython3",
   "version": "3.7.7"
  }
 },
 "nbformat": 4,
 "nbformat_minor": 5
}
