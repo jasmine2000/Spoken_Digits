{
 "cells": [
  {
   "cell_type": "code",
   "execution_count": 1,
   "id": "58c5d74a",
   "metadata": {},
   "outputs": [],
   "source": [
    "import random\n",
    "\n",
    "# for data, model, training\n",
    "import pandas as pd\n",
    "import numpy as np\n",
    "import tensorflow as tf\n",
    "import librosa\n",
    "\n",
    "import matplotlib.pyplot as plt\n",
    "import seaborn as sns\n",
    "\n",
    "import basics\n",
    "\n",
    "# Set the seed value for experiment reproducibility.\n",
    "seed = 42\n",
    "random.seed(42)\n",
    "tf.random.set_seed(seed)\n",
    "np.random.seed(seed)"
   ]
  },
  {
   "cell_type": "code",
   "execution_count": 2,
   "id": "b0c14066",
   "metadata": {},
   "outputs": [
    {
     "name": "stdout",
     "output_type": "stream",
     "text": [
      "['./recordings/2_jackson_13.wav', './recordings/6_george_34.wav', './recordings/7_george_5.wav', './recordings/1_yweweler_21.wav', './recordings/2_george_42.wav']\n"
     ]
    }
   ],
   "source": [
    "filenames = basics.get_and_shuffle_filenames(\"./recordings\")\n",
    "\n",
    "print(filenames[:5])"
   ]
  },
  {
   "cell_type": "code",
   "execution_count": 3,
   "id": "d9ba658e",
   "metadata": {},
   "outputs": [
    {
     "name": "stdout",
     "output_type": "stream",
     "text": [
      "5632\n"
     ]
    }
   ],
   "source": [
    "X_unfiltered = [(file_path, basics.decode_audio(file_path)) for file_path in filenames]\n",
    "\n",
    "# to remove outliers \n",
    "max_length = basics.get_max_length(X_unfiltered)\n",
    "print(max_length)"
   ]
  },
  {
   "cell_type": "code",
   "execution_count": 4,
   "id": "4a0b2050",
   "metadata": {},
   "outputs": [
    {
     "name": "stdout",
     "output_type": "stream",
     "text": [
      "(2312, 2816)\n",
      "2312\n",
      "2816\n",
      "[2 6 7 1 2 6 6 4 3 2]\n"
     ]
    }
   ],
   "source": [
    "X_full = [] # padded X values 0-7\n",
    "y_full = []\n",
    "\n",
    "numbers = [0] * 8\n",
    "\n",
    "for file_path, audio in X_unfiltered:\n",
    "    x_val = audio\n",
    "    y_val = basics.get_label(file_path)\n",
    "    signal_length = audio.shape[0]\n",
    "    \n",
    "    if y_val > 7:\n",
    "        continue\n",
    "    if signal_length > max_length:\n",
    "        numbers[y_val] += 1\n",
    "        continue\n",
    "        \n",
    "    x_val = np.pad(\n",
    "        x_val, (0, max_length - signal_length), \n",
    "        'constant', constant_values=(0, 0))\n",
    "\n",
    "    x_spect = basics.spect(x_val, max_length)\n",
    "    x_spect = x_spect.flatten()\n",
    "\n",
    "    X_full.append(x_spect)\n",
    "    y_full.append(y_val)\n",
    "\n",
    "X_full = np.array(X_full)\n",
    "y_full = np.array(y_full)\n",
    "\n",
    "print(X_full.shape)\n",
    "\n",
    "num_samples, sample_w = X_full.shape\n",
    "print(num_samples)\n",
    "print(sample_w)\n",
    "\n",
    "print(y_full[:10])"
   ]
  },
  {
   "cell_type": "code",
   "execution_count": 5,
   "id": "fa5cda69",
   "metadata": {},
   "outputs": [
    {
     "name": "stdout",
     "output_type": "stream",
     "text": [
      "   quantities\n",
      "0          12\n",
      "1           9\n",
      "2           7\n",
      "3           9\n",
      "4           3\n",
      "5           8\n",
      "6          29\n",
      "7          11\n",
      "88\n"
     ]
    }
   ],
   "source": [
    "# dropped outliers\n",
    "df = pd.DataFrame.from_dict({\"quantities\": numbers})\n",
    "print(df)\n",
    "print(sum(numbers))"
   ]
  },
  {
   "cell_type": "code",
   "execution_count": 6,
   "id": "e7c6c677",
   "metadata": {},
   "outputs": [
    {
     "name": "stdout",
     "output_type": "stream",
     "text": [
      "Training set size 1848\n",
      "Validation set size 231\n",
      "Test set size 233\n"
     ]
    }
   ],
   "source": [
    "# normalize data\n",
    "X_full = basics.normalize_arr(X_full)\n",
    "\n",
    "# partition into 80:10:10\n",
    "partitions = basics.split_full(X_full, y_full)\n",
    "\n",
    "X_train, y_train = partitions[0]\n",
    "X_val, y_val = partitions[1]\n",
    "X_test, y_test = partitions[2]\n",
    "\n",
    "print('Training set size', len(X_train))\n",
    "print('Validation set size', len(X_val))\n",
    "print('Test set size', len(X_test))"
   ]
  },
  {
   "cell_type": "code",
   "execution_count": 7,
   "id": "ca02ea9f",
   "metadata": {
    "scrolled": true
   },
   "outputs": [
    {
     "name": "stdout",
     "output_type": "stream",
     "text": [
      "Model: \"sequential\"\n",
      "_________________________________________________________________\n",
      " Layer (type)                Output Shape              Param #   \n",
      "=================================================================\n",
      " reshape (Reshape)           (None, 128, 22, 1)        0         \n",
      "                                                                 \n",
      " conv2d (Conv2D)             (None, 125, 19, 32)       544       \n",
      "                                                                 \n",
      " dropout (Dropout)           (None, 125, 19, 32)       0         \n",
      "                                                                 \n",
      " average_pooling2d (AverageP  (None, 62, 9, 32)        0         \n",
      " ooling2D)                                                       \n",
      "                                                                 \n",
      " conv2d_1 (Conv2D)           (None, 59, 6, 16)         8208      \n",
      "                                                                 \n",
      " dropout_1 (Dropout)         (None, 59, 6, 16)         0         \n",
      "                                                                 \n",
      " average_pooling2d_1 (Averag  (None, 29, 3, 16)        0         \n",
      " ePooling2D)                                                     \n",
      "                                                                 \n",
      " flatten (Flatten)           (None, 1392)              0         \n",
      "                                                                 \n",
      " dropout_2 (Dropout)         (None, 1392)              0         \n",
      "                                                                 \n",
      " dense (Dense)               (None, 30)                41790     \n",
      "                                                                 \n",
      " dense_1 (Dense)             (None, 8)                 248       \n",
      "                                                                 \n",
      "=================================================================\n",
      "Total params: 50,790\n",
      "Trainable params: 50,790\n",
      "Non-trainable params: 0\n",
      "_________________________________________________________________\n"
     ]
    },
    {
     "name": "stderr",
     "output_type": "stream",
     "text": [
      "2022-05-07 20:26:18.996168: I tensorflow/core/platform/cpu_feature_guard.cc:151] This TensorFlow binary is optimized with oneAPI Deep Neural Network Library (oneDNN) to use the following CPU instructions in performance-critical operations:  AVX2 FMA\n",
      "To enable them in other operations, rebuild TensorFlow with the appropriate compiler flags.\n"
     ]
    }
   ],
   "source": [
    "# INPUTS ARE NORMALIZED\n",
    "\n",
    "model = tf.keras.models.Sequential()\n",
    "model.add(tf.keras.layers.Reshape((128, 22, 1), input_shape=(sample_w,)))\n",
    "\n",
    "model.add(tf.keras.layers.Conv2D(32, (4, 4), activation='relu', input_shape=(128, 22, 1)))\n",
    "model.add(tf.keras.layers.Dropout(0.25))\n",
    "model.add(tf.keras.layers.AveragePooling2D(2,2))\n",
    "\n",
    "model.add(tf.keras.layers.Conv2D(16, (4, 4), activation='relu'))\n",
    "model.add(tf.keras.layers.Dropout(0.25))\n",
    "model.add(tf.keras.layers.AveragePooling2D(2,2))\n",
    " \n",
    "model.add(tf.keras.layers.Flatten())\n",
    "\n",
    "model.add(tf.keras.layers.Dropout(0.15))    \n",
    "model.add(tf.keras.layers.Dense(30, activation='relu'))\n",
    "model.add(tf.keras.layers.Dense(8, activation='softmax'))\n",
    "\n",
    "model.build()\n",
    "model.summary()"
   ]
  },
  {
   "cell_type": "code",
   "execution_count": 8,
   "id": "d4c0b4e2",
   "metadata": {},
   "outputs": [],
   "source": [
    "model.compile(loss=\"sparse_categorical_crossentropy\",\n",
    "             optimizer=\"adam\",\n",
    "             metrics=[\"accuracy\"])"
   ]
  },
  {
   "cell_type": "code",
   "execution_count": 9,
   "id": "b4e4acc5",
   "metadata": {},
   "outputs": [
    {
     "name": "stdout",
     "output_type": "stream",
     "text": [
      "Epoch 1/30\n",
      "58/58 [==============================] - 3s 44ms/step - loss: 1.9961 - accuracy: 0.2197 - val_loss: 1.8697 - val_accuracy: 0.3333\n",
      "Epoch 2/30\n",
      "58/58 [==============================] - 2s 40ms/step - loss: 1.7204 - accuracy: 0.3804 - val_loss: 1.5022 - val_accuracy: 0.4892\n",
      "Epoch 3/30\n",
      "58/58 [==============================] - 3s 47ms/step - loss: 1.2666 - accuracy: 0.5498 - val_loss: 1.1202 - val_accuracy: 0.6494\n",
      "Epoch 4/30\n",
      "58/58 [==============================] - 3s 49ms/step - loss: 1.0096 - accuracy: 0.6456 - val_loss: 0.9437 - val_accuracy: 0.6926\n",
      "Epoch 5/30\n",
      "58/58 [==============================] - 3s 49ms/step - loss: 0.8507 - accuracy: 0.6953 - val_loss: 0.7806 - val_accuracy: 0.7749\n",
      "Epoch 6/30\n",
      "58/58 [==============================] - 2s 39ms/step - loss: 0.7309 - accuracy: 0.7597 - val_loss: 0.7337 - val_accuracy: 0.7446\n",
      "Epoch 7/30\n",
      "58/58 [==============================] - 2s 37ms/step - loss: 0.6105 - accuracy: 0.7873 - val_loss: 0.5504 - val_accuracy: 0.8398\n",
      "Epoch 8/30\n",
      "58/58 [==============================] - 2s 40ms/step - loss: 0.5314 - accuracy: 0.8111 - val_loss: 0.4898 - val_accuracy: 0.8874\n",
      "Epoch 9/30\n",
      "58/58 [==============================] - 2s 39ms/step - loss: 0.4484 - accuracy: 0.8463 - val_loss: 0.4503 - val_accuracy: 0.8615\n",
      "Epoch 10/30\n",
      "58/58 [==============================] - 2s 38ms/step - loss: 0.3937 - accuracy: 0.8631 - val_loss: 0.4106 - val_accuracy: 0.8874\n",
      "Epoch 11/30\n",
      "58/58 [==============================] - 2s 38ms/step - loss: 0.3637 - accuracy: 0.8772 - val_loss: 0.3825 - val_accuracy: 0.8874\n",
      "Epoch 12/30\n",
      "58/58 [==============================] - 2s 39ms/step - loss: 0.3049 - accuracy: 0.8988 - val_loss: 0.3790 - val_accuracy: 0.8788\n",
      "Epoch 13/30\n",
      "58/58 [==============================] - 2s 38ms/step - loss: 0.2606 - accuracy: 0.9118 - val_loss: 0.3768 - val_accuracy: 0.8745\n",
      "Epoch 14/30\n",
      "58/58 [==============================] - 2s 39ms/step - loss: 0.2650 - accuracy: 0.9058 - val_loss: 0.3788 - val_accuracy: 0.8831\n",
      "Epoch 15/30\n",
      "58/58 [==============================] - 2s 39ms/step - loss: 0.2072 - accuracy: 0.9378 - val_loss: 0.3484 - val_accuracy: 0.8701\n",
      "Epoch 16/30\n",
      "58/58 [==============================] - 2s 39ms/step - loss: 0.2090 - accuracy: 0.9286 - val_loss: 0.3323 - val_accuracy: 0.9091\n",
      "Epoch 17/30\n",
      "58/58 [==============================] - 2s 39ms/step - loss: 0.1705 - accuracy: 0.9416 - val_loss: 0.3036 - val_accuracy: 0.9177\n",
      "Epoch 18/30\n",
      "58/58 [==============================] - 2s 38ms/step - loss: 0.1751 - accuracy: 0.9329 - val_loss: 0.3140 - val_accuracy: 0.9221\n",
      "Epoch 19/30\n",
      "58/58 [==============================] - 2s 39ms/step - loss: 0.1611 - accuracy: 0.9475 - val_loss: 0.2842 - val_accuracy: 0.9221\n",
      "Epoch 20/30\n",
      "58/58 [==============================] - 2s 39ms/step - loss: 0.1653 - accuracy: 0.9421 - val_loss: 0.2942 - val_accuracy: 0.9134\n",
      "Epoch 21/30\n",
      "58/58 [==============================] - 2s 40ms/step - loss: 0.1608 - accuracy: 0.9470 - val_loss: 0.2745 - val_accuracy: 0.9221\n",
      "Epoch 22/30\n",
      "58/58 [==============================] - 2s 40ms/step - loss: 0.1220 - accuracy: 0.9605 - val_loss: 0.2987 - val_accuracy: 0.9177\n",
      "Epoch 23/30\n",
      "58/58 [==============================] - 2s 40ms/step - loss: 0.1261 - accuracy: 0.9627 - val_loss: 0.3108 - val_accuracy: 0.9264\n",
      "Epoch 24/30\n",
      "58/58 [==============================] - 2s 41ms/step - loss: 0.1146 - accuracy: 0.9643 - val_loss: 0.2848 - val_accuracy: 0.9264\n",
      "Epoch 25/30\n",
      "58/58 [==============================] - 2s 40ms/step - loss: 0.1169 - accuracy: 0.9621 - val_loss: 0.2908 - val_accuracy: 0.9307\n",
      "Epoch 26/30\n",
      "58/58 [==============================] - 2s 39ms/step - loss: 0.1108 - accuracy: 0.9643 - val_loss: 0.2643 - val_accuracy: 0.9351\n",
      "Epoch 27/30\n",
      "58/58 [==============================] - 2s 40ms/step - loss: 0.1076 - accuracy: 0.9681 - val_loss: 0.2935 - val_accuracy: 0.9351\n",
      "Epoch 28/30\n",
      "58/58 [==============================] - 2s 40ms/step - loss: 0.1073 - accuracy: 0.9594 - val_loss: 0.2737 - val_accuracy: 0.9351\n",
      "Epoch 29/30\n",
      "58/58 [==============================] - 2s 42ms/step - loss: 0.0896 - accuracy: 0.9692 - val_loss: 0.2617 - val_accuracy: 0.9524\n",
      "Epoch 30/30\n",
      "58/58 [==============================] - 2s 39ms/step - loss: 0.1003 - accuracy: 0.9648 - val_loss: 0.2844 - val_accuracy: 0.9307\n"
     ]
    }
   ],
   "source": [
    "history = model.fit(X_train, y_train, epochs=30,\n",
    "                   validation_data=(X_val, y_val))"
   ]
  },
  {
   "cell_type": "code",
   "execution_count": 10,
   "id": "31ce3853",
   "metadata": {},
   "outputs": [
    {
     "name": "stdout",
     "output_type": "stream",
     "text": [
      "8/8 [==============================] - 0s 10ms/step - loss: 0.2627 - accuracy: 0.9313\n"
     ]
    },
    {
     "data": {
      "text/plain": [
       "[0.2627321183681488, 0.9313304424285889]"
      ]
     },
     "execution_count": 10,
     "metadata": {},
     "output_type": "execute_result"
    }
   ],
   "source": [
    "model.evaluate(X_test, y_test)"
   ]
  },
  {
   "cell_type": "code",
   "execution_count": 11,
   "id": "f49dbcc8",
   "metadata": {},
   "outputs": [
    {
     "data": {
      "image/png": "[encoded data removed]",
      "text/plain": [
       "<Figure size 720x576 with 2 Axes>"
      ]
     },
     "metadata": {
      "needs_background": "light"
     },
     "output_type": "display_data"
    }
   ],
   "source": [
    "y_pred = np.argmax(model.predict(X_test), axis=1)\n",
    "\n",
    "all_labels = list(range(8))\n",
    "\n",
    "confusion_mtx = tf.math.confusion_matrix(y_test, y_pred)\n",
    "plt.figure(figsize=(10, 8))\n",
    "sns.heatmap(confusion_mtx, xticklabels=all_labels, yticklabels=all_labels, annot=True, fmt='g')\n",
    "\n",
    "plt.xlabel('Prediction')\n",
    "plt.ylabel('Label')\n",
    "plt.show()"
   ]
  },
  {
   "cell_type": "code",
   "execution_count": 12,
   "id": "64b90426",
   "metadata": {},
   "outputs": [],
   "source": [
    "model.save(\"v13_params2.h5\")"
   ]
  },
  {
   "cell_type": "code",
   "execution_count": 13,
   "id": "6763a0b3",
   "metadata": {},
   "outputs": [
    {
     "name": "stderr",
     "output_type": "stream",
     "text": [
      "/Users/jasminewu/Documents/6115/II/Spoken_Digits/scripts/venv/lib/python3.7/site-packages/tensorflow_model_optimization/python/core/sparsity/keras/pruning_wrapper.py:238: UserWarning: `layer.add_variable` is deprecated and will be removed in a future version. Please use `layer.add_weight` method instead.\n",
      "  trainable=False)\n"
     ]
    },
    {
     "name": "stdout",
     "output_type": "stream",
     "text": [
      "Model: \"sequential\"\n",
      "_________________________________________________________________\n",
      " Layer (type)                Output Shape              Param #   \n",
      "=================================================================\n",
      " prune_low_magnitude_reshape  (None, 128, 22, 1)       1         \n",
      "  (PruneLowMagnitude)                                            \n",
      "                                                                 \n",
      " prune_low_magnitude_conv2d   (None, 125, 19, 32)      1058      \n",
      " (PruneLowMagnitude)                                             \n",
      "                                                                 \n",
      " prune_low_magnitude_dropout  (None, 125, 19, 32)      1         \n",
      "  (PruneLowMagnitude)                                            \n",
      "                                                                 \n",
      " prune_low_magnitude_average  (None, 62, 9, 32)        1         \n",
      " _pooling2d (PruneLowMagnitu                                     \n",
      " de)                                                             \n",
      "                                                                 \n",
      " prune_low_magnitude_conv2d_  (None, 59, 6, 16)        16402     \n",
      " 1 (PruneLowMagnitude)                                           \n",
      "                                                                 \n",
      " prune_low_magnitude_dropout  (None, 59, 6, 16)        1         \n",
      " _1 (PruneLowMagnitude)                                          \n",
      "                                                                 \n",
      " prune_low_magnitude_average  (None, 29, 3, 16)        1         \n",
      " _pooling2d_1 (PruneLowMagni                                     \n",
      " tude)                                                           \n",
      "                                                                 \n",
      " prune_low_magnitude_flatten  (None, 1392)             1         \n",
      "  (PruneLowMagnitude)                                            \n",
      "                                                                 \n",
      " prune_low_magnitude_dropout  (None, 1392)             1         \n",
      " _2 (PruneLowMagnitude)                                          \n",
      "                                                                 \n",
      " prune_low_magnitude_dense (  (None, 30)               83552     \n",
      " PruneLowMagnitude)                                              \n",
      "                                                                 \n",
      " prune_low_magnitude_dense_1  (None, 8)                490       \n",
      "  (PruneLowMagnitude)                                            \n",
      "                                                                 \n",
      "=================================================================\n",
      "Total params: 101,509\n",
      "Trainable params: 50,790\n",
      "Non-trainable params: 50,719\n",
      "_________________________________________________________________\n"
     ]
    },
    {
     "name": "stderr",
     "output_type": "stream",
     "text": [
      "/Users/jasminewu/Documents/6115/II/Spoken_Digits/scripts/venv/lib/python3.7/site-packages/tensorflow_model_optimization/python/core/sparsity/keras/pruning_wrapper.py:218: UserWarning: `layer.add_variable` is deprecated and will be removed in a future version. Please use `layer.add_weight` method instead.\n",
      "  aggregation=tf.VariableAggregation.MEAN)\n",
      "/Users/jasminewu/Documents/6115/II/Spoken_Digits/scripts/venv/lib/python3.7/site-packages/tensorflow_model_optimization/python/core/sparsity/keras/pruning_wrapper.py:225: UserWarning: `layer.add_variable` is deprecated and will be removed in a future version. Please use `layer.add_weight` method instead.\n",
      "  aggregation=tf.VariableAggregation.MEAN)\n"
     ]
    }
   ],
   "source": [
    "import tensorflow_model_optimization as tfmot\n",
    "\n",
    "prune_low_magnitude = tfmot.sparsity.keras.prune_low_magnitude\n",
    "\n",
    "# Compute end step to finish pruning after 2 epochs.\n",
    "batch_size = 128\n",
    "epochs = 15\n",
    "validation_split = 0.1 # 10% of training set will be used for validation set. \n",
    "\n",
    "num_images = len(X_train)\n",
    "end_step = np.ceil(num_images / batch_size).astype(np.int32) * epochs\n",
    "\n",
    "# Define model for pruning.\n",
    "pruning_params = {\n",
    "      'pruning_schedule': tfmot.sparsity.keras.PolynomialDecay(initial_sparsity=0.50,\n",
    "                                                               final_sparsity=0.80,\n",
    "                                                               begin_step=0,\n",
    "                                                               end_step=end_step)\n",
    "}\n",
    "\n",
    "model_for_pruning = prune_low_magnitude(model, **pruning_params)\n",
    "\n",
    "# `prune_low_magnitude` requires a recompile.\n",
    "model_for_pruning.compile(loss=\"sparse_categorical_crossentropy\",\n",
    "             optimizer=\"adam\",\n",
    "             metrics=[\"accuracy\"])\n",
    "\n",
    "model_for_pruning.summary()"
   ]
  },
  {
   "cell_type": "code",
   "execution_count": 14,
   "id": "e222f78e",
   "metadata": {},
   "outputs": [
    {
     "name": "stdout",
     "output_type": "stream",
     "text": [
      "Epoch 1/15\n",
      "13/13 [==============================] - 5s 167ms/step - loss: 0.0743 - accuracy: 0.9778 - val_loss: 0.0410 - val_accuracy: 0.9892\n",
      "Epoch 2/15\n",
      "13/13 [==============================] - 2s 152ms/step - loss: 0.0717 - accuracy: 0.9753 - val_loss: 0.0599 - val_accuracy: 0.9838\n",
      "Epoch 3/15\n",
      "13/13 [==============================] - 2s 148ms/step - loss: 0.0850 - accuracy: 0.9747 - val_loss: 0.0341 - val_accuracy: 0.9892\n",
      "Epoch 4/15\n",
      "13/13 [==============================] - 2s 149ms/step - loss: 0.0574 - accuracy: 0.9832 - val_loss: 0.0515 - val_accuracy: 0.9946\n",
      "Epoch 5/15\n",
      "13/13 [==============================] - 2s 151ms/step - loss: 0.0674 - accuracy: 0.9820 - val_loss: 0.0393 - val_accuracy: 0.9838\n",
      "Epoch 6/15\n",
      "13/13 [==============================] - 2s 151ms/step - loss: 0.0572 - accuracy: 0.9820 - val_loss: 0.0323 - val_accuracy: 0.9946\n",
      "Epoch 7/15\n",
      "13/13 [==============================] - 2s 153ms/step - loss: 0.0654 - accuracy: 0.9765 - val_loss: 0.0426 - val_accuracy: 1.0000\n",
      "Epoch 8/15\n",
      "13/13 [==============================] - 2s 147ms/step - loss: 0.5938 - accuracy: 0.7956 - val_loss: 1.1328 - val_accuracy: 0.5622\n",
      "Epoch 9/15\n",
      "13/13 [==============================] - 2s 148ms/step - loss: 0.8634 - accuracy: 0.7132 - val_loss: 0.5942 - val_accuracy: 0.8270\n",
      "Epoch 10/15\n",
      "13/13 [==============================] - 2s 145ms/step - loss: 0.5410 - accuracy: 0.8334 - val_loss: 0.4570 - val_accuracy: 0.8541\n",
      "Epoch 11/15\n",
      "13/13 [==============================] - 2s 145ms/step - loss: 0.3991 - accuracy: 0.8900 - val_loss: 0.3284 - val_accuracy: 0.9297\n",
      "Epoch 12/15\n",
      "13/13 [==============================] - 2s 153ms/step - loss: 0.3212 - accuracy: 0.9116 - val_loss: 0.2737 - val_accuracy: 0.9243\n",
      "Epoch 13/15\n",
      "13/13 [==============================] - 2s 151ms/step - loss: 0.2759 - accuracy: 0.9218 - val_loss: 0.2475 - val_accuracy: 0.9351\n",
      "Epoch 14/15\n",
      "13/13 [==============================] - 2s 149ms/step - loss: 0.2421 - accuracy: 0.9302 - val_loss: 0.2193 - val_accuracy: 0.9351\n",
      "Epoch 15/15\n",
      "13/13 [==============================] - 2s 147ms/step - loss: 0.2299 - accuracy: 0.9314 - val_loss: 0.1974 - val_accuracy: 0.9405\n"
     ]
    },
    {
     "data": {
      "text/plain": [
       "<keras.callbacks.History at 0x7f9ffa1c6910>"
      ]
     },
     "execution_count": 14,
     "metadata": {},
     "output_type": "execute_result"
    }
   ],
   "source": [
    "import tempfile\n",
    "\n",
    "logdir = tempfile.mkdtemp()\n",
    "\n",
    "callbacks = [\n",
    "  tfmot.sparsity.keras.UpdatePruningStep(),\n",
    "  tfmot.sparsity.keras.PruningSummaries(log_dir=logdir),\n",
    "]\n",
    "\n",
    "model_for_pruning.fit(X_train, y_train,\n",
    "                  batch_size=batch_size, epochs=epochs, validation_split=validation_split,\n",
    "                  callbacks=callbacks)"
   ]
  },
  {
   "cell_type": "code",
   "execution_count": 15,
   "id": "2bbc8a61",
   "metadata": {},
   "outputs": [
    {
     "name": "stdout",
     "output_type": "stream",
     "text": [
      "8/8 [==============================] - 0s 8ms/step - loss: 0.2653 - accuracy: 0.9142\n"
     ]
    },
    {
     "data": {
      "text/plain": [
       "[0.2652705907821655, 0.9141631126403809]"
      ]
     },
     "execution_count": 15,
     "metadata": {},
     "output_type": "execute_result"
    }
   ],
   "source": [
    "model_for_pruning.evaluate(X_test, y_test)"
   ]
  },
  {
   "cell_type": "code",
   "execution_count": 16,
   "id": "a774cf12",
   "metadata": {},
   "outputs": [
    {
     "name": "stdout",
     "output_type": "stream",
     "text": [
      "WARNING:tensorflow:Compiled the loaded model, but the compiled metrics have yet to be built. `model.compile_metrics` will be empty until you train or evaluate the model.\n",
      "Saved pruned Keras model to: /var/folders/vs/b_y62_cj4859tj4h1ch0glg80000gn/T/tmpqiuq62o8.h5\n"
     ]
    }
   ],
   "source": [
    "model_for_export = tfmot.sparsity.keras.strip_pruning(model_for_pruning)\n",
    "_, pruned_keras_file = tempfile.mkstemp('.h5')\n",
    "tf.keras.models.save_model(model_for_export, pruned_keras_file, include_optimizer=False)\n",
    "print('Saved pruned Keras model to:', pruned_keras_file)"
   ]
  },
  {
   "cell_type": "code",
   "execution_count": null,
   "id": "ee6b0047",
   "metadata": {},
   "outputs": [],
   "source": []
  }
 ],
 "metadata": {
  "kernelspec": {
   "display_name": "Python 3 (ipykernel)",
   "language": "python",
   "name": "python3"
  },
  "language_info": {
   "codemirror_mode": {
    "name": "ipython",
    "version": 3
   },
   "file_extension": ".py",
   "mimetype": "text/x-python",
   "name": "python",
   "nbconvert_exporter": "python",
   "pygments_lexer": "ipython3",
   "version": "3.7.7"
  }
 },
 "nbformat": 4,
 "nbformat_minor": 5
}
