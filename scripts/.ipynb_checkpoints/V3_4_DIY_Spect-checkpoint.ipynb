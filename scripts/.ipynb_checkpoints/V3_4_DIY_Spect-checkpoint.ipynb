{
 "cells": [
  {
   "cell_type": "code",
   "execution_count": 1,
   "id": "d2426841",
   "metadata": {},
   "outputs": [],
   "source": [
    "import random\n",
    "\n",
    "# for data, model, training\n",
    "import pandas as pd\n",
    "import numpy as np\n",
    "import tensorflow as tf\n",
    "import librosa\n",
    "\n",
    "import matplotlib.pyplot as plt\n",
    "import seaborn as sns\n",
    "\n",
    "import basics\n",
    "\n",
    "# Set the seed value for experiment reproducibility.\n",
    "seed = 42\n",
    "random.seed(42)\n",
    "tf.random.set_seed(seed)\n",
    "np.random.seed(seed)"
   ]
  },
  {
   "cell_type": "code",
   "execution_count": 2,
   "id": "7178b3c4",
   "metadata": {},
   "outputs": [
    {
     "name": "stdout",
     "output_type": "stream",
     "text": [
      "['./recordings/2_jackson_13.wav', './recordings/6_george_34.wav', './recordings/7_george_5.wav', './recordings/1_yweweler_21.wav', './recordings/2_george_42.wav']\n"
     ]
    }
   ],
   "source": [
    "filenames = basics.get_and_shuffle_filenames(\"./recordings\")\n",
    "\n",
    "print(filenames[:5])"
   ]
  },
  {
   "cell_type": "code",
   "execution_count": 3,
   "id": "9bf2071f",
   "metadata": {},
   "outputs": [
    {
     "name": "stdout",
     "output_type": "stream",
     "text": [
      "5632\n"
     ]
    }
   ],
   "source": [
    "X_unfiltered = [(file_path, basics.decode_audio(file_path)) for file_path in filenames]\n",
    "\n",
    "# to remove outliers \n",
    "max_length = basics.get_max_length(X_unfiltered)\n",
    "print(max_length)"
   ]
  },
  {
   "cell_type": "code",
   "execution_count": 11,
   "id": "7bb3405d",
   "metadata": {},
   "outputs": [
    {
     "name": "stdout",
     "output_type": "stream",
     "text": [
      "2896\n",
      "2816\n"
     ]
    }
   ],
   "source": [
    "X_full = [] # padded X values\n",
    "y_full = []\n",
    "\n",
    "numbers = [0] * 10\n",
    "\n",
    "for file_path, audio in X_unfiltered:\n",
    "    x_val = audio\n",
    "    y_val = basics.get_label(file_path)\n",
    "    \n",
    "    signal_length = audio.shape[0]\n",
    "    if signal_length > max_length:\n",
    "        numbers[y_val] += 1\n",
    "        continue\n",
    "        \n",
    "    x_val = np.pad(\n",
    "        x_val, (0, max_length - signal_length), \n",
    "        'constant', constant_values=(0, 0))\n",
    "\n",
    "    spect_x = basics.spect(x_val, max_length).flatten()\n",
    "\n",
    "    X_full.append(spect_x)\n",
    "    y_full.append(y_val)\n",
    "\n",
    "X_full = np.array(X_full)\n",
    "y_full = np.array(y_full)\n",
    "\n",
    "num_samples, sample_w = X_full.shape\n",
    "print(num_samples)\n",
    "print(sample_w)"
   ]
  },
  {
   "cell_type": "code",
   "execution_count": 12,
   "id": "63b6980a",
   "metadata": {},
   "outputs": [
    {
     "name": "stdout",
     "output_type": "stream",
     "text": [
      "   quantities\n",
      "0          12\n",
      "1           9\n",
      "2           7\n",
      "3           9\n",
      "4           3\n",
      "5           8\n",
      "6          29\n",
      "7          11\n",
      "8           6\n",
      "9          10\n",
      "104\n"
     ]
    }
   ],
   "source": [
    "# dropped outliers\n",
    "df = pd.DataFrame.from_dict({\"quantities\": numbers})\n",
    "print(df)\n",
    "print(sum(numbers))"
   ]
  },
  {
   "cell_type": "code",
   "execution_count": 13,
   "id": "e2ec4fc9",
   "metadata": {},
   "outputs": [
    {
     "name": "stdout",
     "output_type": "stream",
     "text": [
      "Training set size 2312\n",
      "Validation set size 289\n",
      "Test set size 295\n"
     ]
    }
   ],
   "source": [
    "# normalize data\n",
    "X_full = basics.normalize_arr(X_full)\n",
    "\n",
    "# partition into 80:10:10\n",
    "partitions = basics.split_full(X_full, y_full)\n",
    "\n",
    "X_train, y_train = partitions[0]\n",
    "X_val, y_val = partitions[1]\n",
    "X_test, y_test = partitions[2]\n",
    "\n",
    "print('Training set size', len(X_train))\n",
    "print('Validation set size', len(X_val))\n",
    "print('Test set size', len(X_test))"
   ]
  },
  {
   "cell_type": "code",
   "execution_count": 14,
   "id": "7b557c8c",
   "metadata": {
    "scrolled": true
   },
   "outputs": [
    {
     "name": "stdout",
     "output_type": "stream",
     "text": [
      "Model: \"sequential\"\n",
      "_________________________________________________________________\n",
      " Layer (type)                Output Shape              Param #   \n",
      "=================================================================\n",
      " reshape (Reshape)           (None, 128, 22, 1)        0         \n",
      "                                                                 \n",
      " conv2d (Conv2D)             (None, 126, 20, 32)       320       \n",
      "                                                                 \n",
      " conv2d_1 (Conv2D)           (None, 124, 18, 64)       18496     \n",
      "                                                                 \n",
      " max_pooling2d (MaxPooling2D  (None, 62, 9, 64)        0         \n",
      " )                                                               \n",
      "                                                                 \n",
      " dropout (Dropout)           (None, 62, 9, 64)         0         \n",
      "                                                                 \n",
      " flatten (Flatten)           (None, 35712)             0         \n",
      "                                                                 \n",
      " dense (Dense)               (None, 128)               4571264   \n"
     ]
    },
    {
     "name": "stderr",
     "output_type": "stream",
     "text": [
      "2022-05-07 18:32:38.292107: I tensorflow/core/platform/cpu_feature_guard.cc:151] This TensorFlow binary is optimized with oneAPI Deep Neural Network Library (oneDNN) to use the following CPU instructions in performance-critical operations:  AVX2 FMA\n",
      "To enable them in other operations, rebuild TensorFlow with the appropriate compiler flags.\n"
     ]
    },
    {
     "name": "stdout",
     "output_type": "stream",
     "text": [
      "                                                                 \n",
      " dropout_1 (Dropout)         (None, 128)               0         \n",
      "                                                                 \n",
      " dense_1 (Dense)             (None, 10)                1290      \n",
      "                                                                 \n",
      "=================================================================\n",
      "Total params: 4,591,370\n",
      "Trainable params: 4,591,370\n",
      "Non-trainable params: 0\n",
      "_________________________________________________________________\n"
     ]
    }
   ],
   "source": [
    "# INPUTS ARE NORMALIZED\n",
    "\n",
    "model = tf.keras.models.Sequential()\n",
    "# model.add(tf.keras.layers.Input(shape=(sample_w,)))\n",
    "model.add(tf.keras.layers.Reshape((128, 22, 1), input_shape=(sample_w,)))\n",
    "model.add(tf.keras.layers.Conv2D(32, 3, activation='relu'))\n",
    "model.add(tf.keras.layers.Conv2D(64, 3, activation='relu'))\n",
    "model.add(tf.keras.layers.MaxPooling2D())\n",
    "model.add(tf.keras.layers.Dropout(0.25))\n",
    "model.add(tf.keras.layers.Flatten())\n",
    "model.add(tf.keras.layers.Dense(128, activation=\"relu\"))\n",
    "model.add(tf.keras.layers.Dropout(0.5))\n",
    "model.add(tf.keras.layers.Dense(10, activation=\"softmax\"))\n",
    "\n",
    "model.build()\n",
    "model.summary()"
   ]
  },
  {
   "cell_type": "code",
   "execution_count": 15,
   "id": "829aab90",
   "metadata": {},
   "outputs": [],
   "source": [
    "model.compile(loss=\"sparse_categorical_crossentropy\",\n",
    "             optimizer=\"adam\",\n",
    "             metrics=[\"accuracy\"])"
   ]
  },
  {
   "cell_type": "code",
   "execution_count": 16,
   "id": "3cb6e607",
   "metadata": {},
   "outputs": [
    {
     "name": "stdout",
     "output_type": "stream",
     "text": [
      "Epoch 1/30\n",
      "73/73 [==============================] - 9s 120ms/step - loss: 2.1572 - accuracy: 0.2457 - val_loss: 1.4054 - val_accuracy: 0.6194\n",
      "Epoch 2/30\n",
      "73/73 [==============================] - 7s 99ms/step - loss: 1.2750 - accuracy: 0.5381 - val_loss: 0.7286 - val_accuracy: 0.7993\n",
      "Epoch 3/30\n",
      "73/73 [==============================] - 8s 106ms/step - loss: 0.8617 - accuracy: 0.6830 - val_loss: 0.5584 - val_accuracy: 0.8512\n",
      "Epoch 4/30\n",
      "73/73 [==============================] - 9s 120ms/step - loss: 0.6828 - accuracy: 0.7599 - val_loss: 0.3464 - val_accuracy: 0.8927\n",
      "Epoch 5/30\n",
      "73/73 [==============================] - 8s 111ms/step - loss: 0.5433 - accuracy: 0.7958 - val_loss: 0.2727 - val_accuracy: 0.9377\n",
      "Epoch 6/30\n",
      "73/73 [==============================] - 8s 109ms/step - loss: 0.4745 - accuracy: 0.8335 - val_loss: 0.2398 - val_accuracy: 0.9377\n",
      "Epoch 7/30\n",
      "73/73 [==============================] - 8s 107ms/step - loss: 0.3890 - accuracy: 0.8573 - val_loss: 0.2376 - val_accuracy: 0.9446\n",
      "Epoch 8/30\n",
      "73/73 [==============================] - 8s 113ms/step - loss: 0.3538 - accuracy: 0.8698 - val_loss: 0.2218 - val_accuracy: 0.9516\n",
      "Epoch 9/30\n",
      "73/73 [==============================] - 8s 113ms/step - loss: 0.3557 - accuracy: 0.8772 - val_loss: 0.2660 - val_accuracy: 0.9412\n",
      "Epoch 10/30\n",
      "73/73 [==============================] - 8s 113ms/step - loss: 0.3194 - accuracy: 0.8815 - val_loss: 0.2141 - val_accuracy: 0.9446\n",
      "Epoch 11/30\n",
      "73/73 [==============================] - 8s 110ms/step - loss: 0.2761 - accuracy: 0.8966 - val_loss: 0.2075 - val_accuracy: 0.9550\n",
      "Epoch 12/30\n",
      "73/73 [==============================] - 8s 113ms/step - loss: 0.2771 - accuracy: 0.9018 - val_loss: 0.1949 - val_accuracy: 0.9516\n",
      "Epoch 13/30\n",
      "73/73 [==============================] - 8s 107ms/step - loss: 0.2253 - accuracy: 0.9148 - val_loss: 0.1808 - val_accuracy: 0.9585\n",
      "Epoch 14/30\n",
      "73/73 [==============================] - 8s 107ms/step - loss: 0.2165 - accuracy: 0.9178 - val_loss: 0.2715 - val_accuracy: 0.9550\n",
      "Epoch 15/30\n",
      "73/73 [==============================] - 8s 108ms/step - loss: 0.2221 - accuracy: 0.9126 - val_loss: 0.2581 - val_accuracy: 0.9516\n",
      "Epoch 16/30\n",
      "73/73 [==============================] - 8s 107ms/step - loss: 0.1935 - accuracy: 0.9217 - val_loss: 0.2063 - val_accuracy: 0.9585\n",
      "Epoch 17/30\n",
      "73/73 [==============================] - 8s 116ms/step - loss: 0.2199 - accuracy: 0.9178 - val_loss: 0.2368 - val_accuracy: 0.9516\n",
      "Epoch 18/30\n",
      "73/73 [==============================] - 8s 106ms/step - loss: 0.1843 - accuracy: 0.9295 - val_loss: 0.2340 - val_accuracy: 0.9516\n",
      "Epoch 19/30\n",
      "73/73 [==============================] - 9s 118ms/step - loss: 0.1805 - accuracy: 0.9286 - val_loss: 0.2222 - val_accuracy: 0.9516\n",
      "Epoch 20/30\n",
      "73/73 [==============================] - 8s 103ms/step - loss: 0.1818 - accuracy: 0.9252 - val_loss: 0.2155 - val_accuracy: 0.9516\n",
      "Epoch 21/30\n",
      "73/73 [==============================] - 9s 121ms/step - loss: 0.1954 - accuracy: 0.9282 - val_loss: 0.1962 - val_accuracy: 0.9585\n",
      "Epoch 22/30\n",
      "73/73 [==============================] - 8s 110ms/step - loss: 0.1649 - accuracy: 0.9412 - val_loss: 0.2084 - val_accuracy: 0.9516\n",
      "Epoch 23/30\n",
      "73/73 [==============================] - 9s 124ms/step - loss: 0.1401 - accuracy: 0.9481 - val_loss: 0.2311 - val_accuracy: 0.9654\n",
      "Epoch 24/30\n",
      "73/73 [==============================] - 8s 116ms/step - loss: 0.1377 - accuracy: 0.9498 - val_loss: 0.2340 - val_accuracy: 0.9654\n",
      "Epoch 25/30\n",
      "73/73 [==============================] - 8s 103ms/step - loss: 0.1528 - accuracy: 0.9403 - val_loss: 0.1873 - val_accuracy: 0.9585\n",
      "Epoch 26/30\n",
      "73/73 [==============================] - 8s 116ms/step - loss: 0.1318 - accuracy: 0.9477 - val_loss: 0.1896 - val_accuracy: 0.9689\n",
      "Epoch 27/30\n",
      "73/73 [==============================] - 8s 107ms/step - loss: 0.1420 - accuracy: 0.9485 - val_loss: 0.1873 - val_accuracy: 0.9689\n",
      "Epoch 28/30\n",
      "73/73 [==============================] - 7s 100ms/step - loss: 0.1428 - accuracy: 0.9455 - val_loss: 0.1968 - val_accuracy: 0.9619\n",
      "Epoch 29/30\n",
      "73/73 [==============================] - 7s 100ms/step - loss: 0.1081 - accuracy: 0.9554 - val_loss: 0.2476 - val_accuracy: 0.9689\n",
      "Epoch 30/30\n",
      "73/73 [==============================] - 7s 100ms/step - loss: 0.1140 - accuracy: 0.9602 - val_loss: 0.2236 - val_accuracy: 0.9723\n"
     ]
    }
   ],
   "source": [
    "history = model.fit(X_train, y_train, epochs=30,\n",
    "                   validation_data=(X_val, y_val))"
   ]
  },
  {
   "cell_type": "code",
   "execution_count": 17,
   "id": "73a4dafa",
   "metadata": {},
   "outputs": [
    {
     "name": "stdout",
     "output_type": "stream",
     "text": [
      "10/10 [==============================] - 0s 24ms/step - loss: 0.2105 - accuracy: 0.9559\n"
     ]
    },
    {
     "data": {
      "text/plain": [
       "[0.21047404408454895, 0.9559321999549866]"
      ]
     },
     "execution_count": 17,
     "metadata": {},
     "output_type": "execute_result"
    }
   ],
   "source": [
    "model.evaluate(X_test, y_test)"
   ]
  },
  {
   "cell_type": "code",
   "execution_count": 18,
   "id": "0226ff54",
   "metadata": {},
   "outputs": [
    {
     "data": {
      "image/png": "[encoded data removed]",
      "text/plain": [
       "<Figure size 720x576 with 2 Axes>"
      ]
     },
     "metadata": {
      "needs_background": "light"
     },
     "output_type": "display_data"
    }
   ],
   "source": [
    "y_pred = np.argmax(model.predict(X_test), axis=1)\n",
    "\n",
    "all_labels = list(range(10))\n",
    "\n",
    "confusion_mtx = tf.math.confusion_matrix(y_test, y_pred)\n",
    "plt.figure(figsize=(10, 8))\n",
    "sns.heatmap(confusion_mtx,\n",
    "            xticklabels=all_labels,\n",
    "            yticklabels=all_labels,\n",
    "            annot=True, fmt='g')\n",
    "plt.xlabel('Prediction')\n",
    "plt.ylabel('Label')\n",
    "plt.show()"
   ]
  },
  {
   "cell_type": "code",
   "execution_count": 43,
   "id": "049ca96d",
   "metadata": {},
   "outputs": [],
   "source": [
    "# model.save(\"model_v5.h5\")"
   ]
  },
  {
   "cell_type": "code",
   "execution_count": null,
   "id": "177d4f2c",
   "metadata": {},
   "outputs": [],
   "source": []
  }
 ],
 "metadata": {
  "kernelspec": {
   "display_name": "Python 3 (ipykernel)",
   "language": "python",
   "name": "python3"
  },
  "language_info": {
   "codemirror_mode": {
    "name": "ipython",
    "version": 3
   },
   "file_extension": ".py",
   "mimetype": "text/x-python",
   "name": "python",
   "nbconvert_exporter": "python",
   "pygments_lexer": "ipython3",
   "version": "3.7.7"
  }
 },
 "nbformat": 4,
 "nbformat_minor": 5
}
