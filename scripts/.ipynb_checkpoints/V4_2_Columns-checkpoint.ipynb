{
 "cells": [
  {
   "cell_type": "code",
   "execution_count": 1,
   "id": "58c5d74a",
   "metadata": {},
   "outputs": [],
   "source": [
    "import random\n",
    "\n",
    "# for data, model, training\n",
    "import pandas as pd\n",
    "import numpy as np\n",
    "import tensorflow as tf\n",
    "import librosa\n",
    "\n",
    "import matplotlib.pyplot as plt\n",
    "import seaborn as sns\n",
    "\n",
    "import basics\n",
    "\n",
    "# Set the seed value for experiment reproducibility.\n",
    "seed = 42\n",
    "random.seed(42)\n",
    "tf.random.set_seed(seed)\n",
    "np.random.seed(seed)"
   ]
  },
  {
   "cell_type": "code",
   "execution_count": 2,
   "id": "b0c14066",
   "metadata": {},
   "outputs": [
    {
     "name": "stdout",
     "output_type": "stream",
     "text": [
      "['./recordings/2_jackson_13.wav', './recordings/6_george_34.wav', './recordings/7_george_5.wav', './recordings/1_yweweler_21.wav', './recordings/2_george_42.wav']\n"
     ]
    }
   ],
   "source": [
    "filenames = basics.get_and_shuffle_filenames(\"./recordings\")\n",
    "\n",
    "print(filenames[:5])"
   ]
  },
  {
   "cell_type": "code",
   "execution_count": 3,
   "id": "d9ba658e",
   "metadata": {},
   "outputs": [
    {
     "name": "stdout",
     "output_type": "stream",
     "text": [
      "5632\n"
     ]
    }
   ],
   "source": [
    "X_unfiltered = [(file_path, basics.decode_audio(file_path)) for file_path in filenames]\n",
    "\n",
    "# to remove outliers \n",
    "max_length = basics.get_max_length(X_unfiltered)\n",
    "print(max_length)"
   ]
  },
  {
   "cell_type": "code",
   "execution_count": 4,
   "id": "4a0b2050",
   "metadata": {},
   "outputs": [
    {
     "name": "stdout",
     "output_type": "stream",
     "text": [
      "(2312, 2816)\n",
      "2312\n",
      "2816\n",
      "[2 6 7 1 2 6 6 4 3 2]\n"
     ]
    }
   ],
   "source": [
    "X_full = [] # padded X values 0-7\n",
    "y_full = []\n",
    "\n",
    "numbers = [0] * 8\n",
    "\n",
    "for file_path, audio in X_unfiltered:\n",
    "    x_val = audio\n",
    "    y_val = basics.get_label(file_path)\n",
    "    signal_length = audio.shape[0]\n",
    "    \n",
    "    if y_val > 7:\n",
    "        continue\n",
    "    if signal_length > max_length:\n",
    "        numbers[y_val] += 1\n",
    "        continue\n",
    "        \n",
    "    x_val = np.pad(\n",
    "        x_val, (0, max_length - signal_length), \n",
    "        'constant', constant_values=(0, 0))\n",
    "\n",
    "    x_spect = basics.spect(x_val, max_length)\n",
    "    x_spect = x_spect.flatten()\n",
    "\n",
    "    X_full.append(x_spect)\n",
    "    y_full.append(y_val)\n",
    "\n",
    "X_full = np.array(X_full)\n",
    "y_full = np.array(y_full)\n",
    "\n",
    "print(X_full.shape)\n",
    "\n",
    "num_samples, sample_w = X_full.shape\n",
    "print(num_samples)\n",
    "print(sample_w)\n",
    "\n",
    "print(y_full[:10])"
   ]
  },
  {
   "cell_type": "code",
   "execution_count": 5,
   "id": "fa5cda69",
   "metadata": {},
   "outputs": [
    {
     "name": "stdout",
     "output_type": "stream",
     "text": [
      "   quantities\n",
      "0          12\n",
      "1           9\n",
      "2           7\n",
      "3           9\n",
      "4           3\n",
      "5           8\n",
      "6          29\n",
      "7          11\n",
      "88\n"
     ]
    }
   ],
   "source": [
    "# dropped outliers\n",
    "df = pd.DataFrame.from_dict({\"quantities\": numbers})\n",
    "print(df)\n",
    "print(sum(numbers))"
   ]
  },
  {
   "cell_type": "code",
   "execution_count": 6,
   "id": "e7c6c677",
   "metadata": {},
   "outputs": [
    {
     "name": "stdout",
     "output_type": "stream",
     "text": [
      "Training set size 1848\n",
      "Validation set size 231\n",
      "Test set size 233\n"
     ]
    }
   ],
   "source": [
    "# normalize data\n",
    "X_full = basics.normalize_arr(X_full)\n",
    "\n",
    "# partition into 80:10:10\n",
    "partitions = basics.split_full(X_full, y_full)\n",
    "\n",
    "X_train, y_train = partitions[0]\n",
    "X_val, y_val = partitions[1]\n",
    "X_test, y_test = partitions[2]\n",
    "\n",
    "print('Training set size', len(X_train))\n",
    "print('Validation set size', len(X_val))\n",
    "print('Test set size', len(X_test))"
   ]
  },
  {
   "cell_type": "code",
   "execution_count": 7,
   "id": "ca02ea9f",
   "metadata": {
    "scrolled": true
   },
   "outputs": [
    {
     "name": "stdout",
     "output_type": "stream",
     "text": [
      "WARNING:tensorflow:From /Library/Frameworks/Python.framework/Versions/3.7/lib/python3.7/site-packages/tensorflow_core/python/ops/resource_variable_ops.py:1630: calling BaseResourceVariable.__init__ (from tensorflow.python.ops.resource_variable_ops) with constraint is deprecated and will be removed in a future version.\n",
      "Instructions for updating:\n",
      "If using Keras pass *_constraint arguments to layers.\n",
      "Model: \"sequential\"\n",
      "_________________________________________________________________\n",
      "Layer (type)                 Output Shape              Param #   \n",
      "=================================================================\n",
      "reshape (Reshape)            (None, 128, 22, 1)        0         \n",
      "_________________________________________________________________\n",
      "conv2d (Conv2D)              (None, 125, 19, 64)       1088      \n",
      "_________________________________________________________________\n",
      "dropout (Dropout)            (None, 125, 19, 64)       0         \n",
      "_________________________________________________________________\n",
      "average_pooling2d (AveragePo (None, 62, 9, 64)         0         \n",
      "_________________________________________________________________\n",
      "conv2d_1 (Conv2D)            (None, 59, 6, 16)         16400     \n",
      "_________________________________________________________________\n",
      "dropout_1 (Dropout)          (None, 59, 6, 16)         0         \n",
      "_________________________________________________________________\n",
      "average_pooling2d_1 (Average (None, 29, 3, 16)         0         \n",
      "_________________________________________________________________\n",
      "flatten (Flatten)            (None, 1392)              0         \n",
      "_________________________________________________________________\n",
      "dropout_2 (Dropout)          (None, 1392)              0         \n",
      "_________________________________________________________________\n",
      "dense (Dense)                (None, 70)                97510     \n",
      "_________________________________________________________________\n",
      "dense_1 (Dense)              (None, 8)                 568       \n",
      "=================================================================\n",
      "Total params: 115,566\n",
      "Trainable params: 115,566\n",
      "Non-trainable params: 0\n",
      "_________________________________________________________________\n"
     ]
    }
   ],
   "source": [
    "# INPUTS ARE NORMALIZED\n",
    "\n",
    "model = tf.keras.models.Sequential()\n",
    "model.add(tf.keras.layers.Reshape((128, 22, 1), input_shape=(sample_w,)))\n",
    "model.add(tf.keras.layers.Conv2D(64, (4, 4), activation='relu', input_shape=(128, 22, 1)))\n",
    "model.add(tf.keras.layers.Dropout(0.25))\n",
    "model.add(tf.keras.layers.AveragePooling2D(2,2))\n",
    "model.add(tf.keras.layers.Conv2D(16, (4, 4), activation='relu'))\n",
    "model.add(tf.keras.layers.Dropout(0.25))\n",
    "model.add(tf.keras.layers.AveragePooling2D(2,2))\n",
    " \n",
    "model.add(tf.keras.layers.Flatten())\n",
    "\n",
    "model.add(tf.keras.layers.Dropout(0.15))    \n",
    "model.add(tf.keras.layers.Dense(70, activation='relu'))\n",
    "model.add(tf.keras.layers.Dense(8, activation='softmax'))\n",
    "\n",
    "model.build()\n",
    "model.summary()"
   ]
  },
  {
   "cell_type": "code",
   "execution_count": 8,
   "id": "d4c0b4e2",
   "metadata": {},
   "outputs": [],
   "source": [
    "model.compile(loss=\"sparse_categorical_crossentropy\",\n",
    "             optimizer=\"adam\",\n",
    "             metrics=[\"accuracy\"])"
   ]
  },
  {
   "cell_type": "code",
   "execution_count": 9,
   "id": "b4e4acc5",
   "metadata": {},
   "outputs": [
    {
     "name": "stdout",
     "output_type": "stream",
     "text": [
      "Train on 1848 samples, validate on 231 samples\n",
      "Epoch 1/30\n",
      "1848/1848 [==============================] - 5s 3ms/sample - loss: 2.0067 - acc: 0.2100 - val_loss: 1.8663 - val_acc: 0.3030\n",
      "Epoch 2/30\n",
      "1848/1848 [==============================] - 5s 3ms/sample - loss: 1.4194 - acc: 0.5027 - val_loss: 1.1691 - val_acc: 0.6147\n",
      "Epoch 3/30\n",
      "1848/1848 [==============================] - 5s 3ms/sample - loss: 0.8951 - acc: 0.6856 - val_loss: 0.7850 - val_acc: 0.7532\n",
      "Epoch 4/30\n",
      "1848/1848 [==============================] - 5s 3ms/sample - loss: 0.6303 - acc: 0.7798 - val_loss: 0.5598 - val_acc: 0.8485\n",
      "Epoch 5/30\n",
      "1848/1848 [==============================] - 5s 3ms/sample - loss: 0.4964 - acc: 0.8209 - val_loss: 0.4801 - val_acc: 0.8528\n",
      "Epoch 6/30\n",
      "1848/1848 [==============================] - 6s 3ms/sample - loss: 0.4115 - acc: 0.8550 - val_loss: 0.4594 - val_acc: 0.8528\n",
      "Epoch 7/30\n",
      "1848/1848 [==============================] - 5s 3ms/sample - loss: 0.3060 - acc: 0.9004 - val_loss: 0.3646 - val_acc: 0.9004\n",
      "Epoch 8/30\n",
      "1848/1848 [==============================] - 5s 3ms/sample - loss: 0.2662 - acc: 0.9102 - val_loss: 0.3996 - val_acc: 0.9004\n",
      "Epoch 9/30\n",
      "1848/1848 [==============================] - 5s 3ms/sample - loss: 0.2518 - acc: 0.9167 - val_loss: 0.3270 - val_acc: 0.8918\n",
      "Epoch 10/30\n",
      "1848/1848 [==============================] - 5s 3ms/sample - loss: 0.2369 - acc: 0.9237 - val_loss: 0.3037 - val_acc: 0.9048\n",
      "Epoch 11/30\n",
      "1848/1848 [==============================] - 5s 2ms/sample - loss: 0.1999 - acc: 0.9378 - val_loss: 0.3185 - val_acc: 0.9091\n",
      "Epoch 12/30\n",
      "1848/1848 [==============================] - 5s 3ms/sample - loss: 0.1814 - acc: 0.9367 - val_loss: 0.3252 - val_acc: 0.9091\n",
      "Epoch 13/30\n",
      "1848/1848 [==============================] - 5s 2ms/sample - loss: 0.1520 - acc: 0.9513 - val_loss: 0.2830 - val_acc: 0.9134\n",
      "Epoch 14/30\n",
      "1848/1848 [==============================] - 6s 3ms/sample - loss: 0.1281 - acc: 0.9578 - val_loss: 0.2494 - val_acc: 0.9264\n",
      "Epoch 15/30\n",
      "1848/1848 [==============================] - 5s 3ms/sample - loss: 0.1189 - acc: 0.9605 - val_loss: 0.2434 - val_acc: 0.9351\n",
      "Epoch 16/30\n",
      "1848/1848 [==============================] - 5s 3ms/sample - loss: 0.1246 - acc: 0.9627 - val_loss: 0.2513 - val_acc: 0.9307\n",
      "Epoch 17/30\n",
      "1848/1848 [==============================] - 5s 3ms/sample - loss: 0.1275 - acc: 0.9600 - val_loss: 0.2399 - val_acc: 0.9351\n",
      "Epoch 18/30\n",
      "1848/1848 [==============================] - 5s 3ms/sample - loss: 0.0928 - acc: 0.9719 - val_loss: 0.3373 - val_acc: 0.9134\n",
      "Epoch 19/30\n",
      "1848/1848 [==============================] - 5s 3ms/sample - loss: 0.1119 - acc: 0.9621 - val_loss: 0.2619 - val_acc: 0.9221\n",
      "Epoch 20/30\n",
      "1848/1848 [==============================] - 5s 3ms/sample - loss: 0.0961 - acc: 0.9681 - val_loss: 0.2568 - val_acc: 0.9394\n",
      "Epoch 21/30\n",
      "1848/1848 [==============================] - 5s 3ms/sample - loss: 0.0884 - acc: 0.9708 - val_loss: 0.2565 - val_acc: 0.9307\n",
      "Epoch 22/30\n",
      "1848/1848 [==============================] - 5s 2ms/sample - loss: 0.0887 - acc: 0.9692 - val_loss: 0.2495 - val_acc: 0.9437\n",
      "Epoch 23/30\n",
      "1848/1848 [==============================] - 5s 2ms/sample - loss: 0.0795 - acc: 0.9729 - val_loss: 0.3237 - val_acc: 0.9351\n",
      "Epoch 24/30\n",
      "1848/1848 [==============================] - 5s 3ms/sample - loss: 0.0795 - acc: 0.9746 - val_loss: 0.2527 - val_acc: 0.9394\n",
      "Epoch 25/30\n",
      "1848/1848 [==============================] - 5s 2ms/sample - loss: 0.0603 - acc: 0.9805 - val_loss: 0.2398 - val_acc: 0.9394\n",
      "Epoch 26/30\n",
      "1848/1848 [==============================] - 5s 2ms/sample - loss: 0.0689 - acc: 0.9740 - val_loss: 0.2771 - val_acc: 0.9221\n",
      "Epoch 27/30\n",
      "1848/1848 [==============================] - 5s 3ms/sample - loss: 0.0599 - acc: 0.9811 - val_loss: 0.2542 - val_acc: 0.9307\n",
      "Epoch 28/30\n",
      "1848/1848 [==============================] - 6s 3ms/sample - loss: 0.0633 - acc: 0.9794 - val_loss: 0.2923 - val_acc: 0.9351\n",
      "Epoch 29/30\n",
      "1848/1848 [==============================] - 5s 3ms/sample - loss: 0.0475 - acc: 0.9854 - val_loss: 0.3095 - val_acc: 0.9264\n",
      "Epoch 30/30\n",
      "1848/1848 [==============================] - 6s 3ms/sample - loss: 0.0477 - acc: 0.9811 - val_loss: 0.3173 - val_acc: 0.9394\n"
     ]
    }
   ],
   "source": [
    "history = model.fit(X_train, y_train, epochs=30,\n",
    "                   validation_data=(X_val, y_val))"
   ]
  },
  {
   "cell_type": "code",
   "execution_count": 10,
   "id": "31ce3853",
   "metadata": {},
   "outputs": [
    {
     "name": "stdout",
     "output_type": "stream",
     "text": [
      "233/233 [==============================] - 0s 521us/sample - loss: 0.2643 - acc: 0.9442\n"
     ]
    },
    {
     "data": {
      "text/plain": [
       "[0.2643019302064641, 0.944206]"
      ]
     },
     "execution_count": 10,
     "metadata": {},
     "output_type": "execute_result"
    }
   ],
   "source": [
    "model.evaluate(X_test, y_test)"
   ]
  },
  {
   "cell_type": "code",
   "execution_count": 13,
   "id": "f49dbcc8",
   "metadata": {},
   "outputs": [
    {
     "data": {
      "image/png": "[encoded data removed]",
      "text/plain": [
       "<Figure size 720x576 with 2 Axes>"
      ]
     },
     "metadata": {
      "needs_background": "light"
     },
     "output_type": "display_data"
    }
   ],
   "source": [
    "y_pred = np.argmax(model.predict(X_test), axis=1)\n",
    "\n",
    "all_labels = list(range(8))\n",
    "\n",
    "confusion_mtx = confusion_matrix(y_test, y_pred)\n",
    "plt.figure(figsize=(10, 8))\n",
    "sns.heatmap(confusion_mtx, xticklabels=all_labels, yticklabels=all_labels, annot=True, fmt='g')\n",
    "\n",
    "plt.xlabel('Prediction')\n",
    "plt.ylabel('Label')\n",
    "plt.show()"
   ]
  },
  {
   "cell_type": "code",
   "execution_count": 16,
   "id": "64b90426",
   "metadata": {},
   "outputs": [],
   "source": [
    "# model.save(\"v8_new.h5\")"
   ]
  },
  {
   "cell_type": "code",
   "execution_count": null,
   "id": "6763a0b3",
   "metadata": {},
   "outputs": [],
   "source": []
  }
 ],
 "metadata": {
  "kernelspec": {
   "display_name": "Python 3 (ipykernel)",
   "language": "python",
   "name": "python3"
  },
  "language_info": {
   "codemirror_mode": {
    "name": "ipython",
    "version": 3
   },
   "file_extension": ".py",
   "mimetype": "text/x-python",
   "name": "python",
   "nbconvert_exporter": "python",
   "pygments_lexer": "ipython3",
   "version": "3.7.7"
  }
 },
 "nbformat": 4,
 "nbformat_minor": 5
}
