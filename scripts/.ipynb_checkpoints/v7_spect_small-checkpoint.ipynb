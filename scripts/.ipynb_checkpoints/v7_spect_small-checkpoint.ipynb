{
 "cells": [
  {
   "cell_type": "code",
   "execution_count": 1,
   "id": "d2426841",
   "metadata": {},
   "outputs": [],
   "source": [
    "import wave\n",
    "import glob\n",
    "import random\n",
    "\n",
    "# for data, model, training\n",
    "import pandas as pd\n",
    "import numpy as np\n",
    "import tensorflow as tf\n",
    "from tensorflow.keras import layers\n",
    "from tensorflow.keras import models\n",
    "from scipy import signal\n",
    "\n",
    "import librosa\n",
    "import librosa.display\n",
    "\n",
    "# for visuals and statistics\n",
    "import matplotlib.pyplot as plt\n",
    "import seaborn as sns\n",
    "\n",
    "# Set the seed value for experiment reproducibility.\n",
    "seed = 42\n",
    "random.seed(42)\n",
    "tf.random.set_seed(seed)\n",
    "np.random.seed(seed)"
   ]
  },
  {
   "cell_type": "code",
   "execution_count": 2,
   "id": "7178b3c4",
   "metadata": {},
   "outputs": [
    {
     "name": "stdout",
     "output_type": "stream",
     "text": [
      "['../recordings/2_jackson_13.wav', '../recordings/6_george_34.wav', '../recordings/7_george_5.wav', '../recordings/1_yweweler_21.wav', '../recordings/2_george_42.wav']\n"
     ]
    }
   ],
   "source": [
    "def get_and_shuffle_filenames(dir_name):\n",
    "    filenames = glob.glob(str(data_dir) + \"/*\")\n",
    "    random.shuffle(filenames)\n",
    "    return filenames\n",
    "\n",
    "data_dir = \"../recordings\"\n",
    "filenames = get_and_shuffle_filenames(data_dir)\n",
    "\n",
    "print(filenames[:5])"
   ]
  },
  {
   "cell_type": "code",
   "execution_count": 3,
   "id": "7ef34144",
   "metadata": {},
   "outputs": [],
   "source": [
    "# https://www.tensorflow.org/tutorials/audio/simple_audio\n",
    "\n",
    "def decode_audio(file_path):\n",
    "    # read file to get buffer                                                                                               \n",
    "    ifile = wave.open(file_path)\n",
    "    samples = ifile.getnframes()\n",
    "    audio = ifile.readframes(samples)\n",
    "\n",
    "    # convert buffer to float32 using NumPy                                                                                 \n",
    "    audio_as_np_int16 = np.frombuffer(audio, dtype=np.int16)\n",
    "    audio_as_np_float32 = audio_as_np_int16.astype(np.float32)\n",
    "    \n",
    "    # get largest absolute value\n",
    "    max_val = np.max(\n",
    "        np.absolute(\n",
    "            [np.max(audio_as_np_float32), np.min(audio_as_np_float32)]))\n",
    "    audio_normalized = audio_as_np_float32 / max_val\n",
    "\n",
    "    return audio_normalized\n",
    "\n",
    "def get_label(file_path):\n",
    "    # label is in the filename\n",
    "    parts = file_path.split(\"/\")\n",
    "    label = int(parts[2].split(\"_\")[0])\n",
    "\n",
    "    return label\n"
   ]
  },
  {
   "cell_type": "code",
   "execution_count": 4,
   "id": "9bf2071f",
   "metadata": {},
   "outputs": [
    {
     "name": "stdout",
     "output_type": "stream",
     "text": [
      "3499.4746666666665\n",
      "1180.9471707171701\n",
      "5888\n"
     ]
    }
   ],
   "source": [
    "# to remove outliers \n",
    "X_unfiltered = [(file_path, decode_audio(file_path)) for file_path in filenames]\n",
    "X_lengths = [audio.shape[0] for _, audio in X_unfiltered]\n",
    "\n",
    "max_length = int(np.mean(X_lengths) + 2 * np.std(X_lengths))\n",
    "max_length = int(np.ceil(5861 / 256) * 256)\n",
    "print(np.mean(X_lengths))\n",
    "print(np.std(X_lengths))\n",
    "print(max_length)"
   ]
  },
  {
   "cell_type": "code",
   "execution_count": 5,
   "id": "0b14597a",
   "metadata": {},
   "outputs": [],
   "source": [
    "def mel_spec(signal):\n",
    "    mel = librosa.feature.melspectrogram(y=signal, sr=8000, n_fft=256, hop_length=256)\n",
    "    mel = librosa.power_to_db(mel, ref=np.max)\n",
    "    return mel\n",
    "\n",
    "\n",
    "def spect(signal):\n",
    "    spectogram = []\n",
    "    for i in range(23):\n",
    "        window_fft = np.fft.rfft(signal[i * 256: (i + 1) * 256])[:-1]\n",
    "        window_fft = list(np.abs(window_fft))\n",
    "        spectogram.append(window_fft)\n",
    "    spectogram = np.array(spectogram)\n",
    "    spectogram = librosa.power_to_db(spectogram, ref=np.max)\n",
    "#     return np.transpose(spectogram)\n",
    "    return spectogram"
   ]
  },
  {
   "cell_type": "code",
   "execution_count": 6,
   "id": "7bb3405d",
   "metadata": {},
   "outputs": [
    {
     "name": "stdout",
     "output_type": "stream",
     "text": [
      "(2913, 2944)\n",
      "2913\n",
      "2944\n",
      "[2 6 7 1 2 6 6 4 8 3]\n"
     ]
    }
   ],
   "source": [
    "# padding function from\n",
    "# https://towardsdatascience.com/audio-deep-learning-made-simple-sound-classification-step-by-step-cebc936bbe5\n",
    "\n",
    "X_full = [] # padded X values\n",
    "y_full = []\n",
    "\n",
    "numbers = [0] * 10\n",
    "\n",
    "for file_path, audio in X_unfiltered:\n",
    "    x_val = audio\n",
    "    y_val = get_label(file_path)\n",
    "    \n",
    "    signal_length = audio.shape[0]\n",
    "    if signal_length > max_length:\n",
    "        numbers[y_val] += 1\n",
    "    else:\n",
    "        pad_len = max_length - signal_length\n",
    "        \n",
    "        x_val = np.pad(\n",
    "            x_val, (0, pad_len), \n",
    "            'constant', constant_values=(0, 0))\n",
    "        \n",
    "#         mel_x = mel_spec(x_val)\n",
    "        s_x = spect(x_val)\n",
    "        s_x = s_x.flatten()\n",
    "        \n",
    "        X_full.append(s_x)\n",
    "        y_full.append(y_val)\n",
    "\n",
    "X_full = np.array(X_full)\n",
    "y_full = np.array(y_full)\n",
    "\n",
    "print(X_full.shape)\n",
    "\n",
    "num_samples, sample_w = X_full.shape\n",
    "print(num_samples)\n",
    "print(sample_w)\n",
    "\n",
    "print(y_full[:10])"
   ]
  },
  {
   "cell_type": "code",
   "execution_count": 7,
   "id": "63b6980a",
   "metadata": {},
   "outputs": [
    {
     "name": "stdout",
     "output_type": "stream",
     "text": [
      "   quantities\n",
      "0          10\n",
      "1           8\n",
      "2           6\n",
      "3           5\n",
      "4           3\n",
      "5           6\n",
      "6          22\n",
      "7          11\n",
      "8           6\n",
      "9          10\n",
      "87\n"
     ]
    }
   ],
   "source": [
    "# quantities = {\"y\": list(range(10)), \"quantities\": numbers}\n",
    "df = pd.DataFrame.from_dict({\"quantities\": numbers})\n",
    "print(df)\n",
    "print(sum(numbers))"
   ]
  },
  {
   "cell_type": "code",
   "execution_count": 8,
   "id": "2f39c8b9",
   "metadata": {},
   "outputs": [],
   "source": [
    "mean = np.mean(X_full)\n",
    "std = np.std(X_full)\n",
    "X_full = X_full - mean\n",
    "X_full = X_full / std"
   ]
  },
  {
   "cell_type": "code",
   "execution_count": 9,
   "id": "3505629a",
   "metadata": {},
   "outputs": [],
   "source": [
    "# rows = 3\n",
    "# cols = 3\n",
    "# n = rows * cols\n",
    "# fig, axes = plt.subplots(rows, cols, figsize=(12, 14))\n",
    "\n",
    "# for i, (audio, label) in enumerate(list(zip(X_full, y_full))[:n]):\n",
    "#     r = i // cols\n",
    "#     c = i % cols\n",
    "#     ax = axes[r][c]\n",
    "    \n",
    "#     librosa.display.specshow(audio, sr=8000, hop_length=256, x_axis='time', ax=axes[r][c])\n",
    "# #     librosa.display.specshow(audio, y_axis='mel', fmax=8000, x_axis='time', ax=axes[r][c]);\n",
    "# #     plt.title('Mel Spectrogram');\n",
    "# #     plt.colorbar(format='%+2.0f dB');\n",
    "    \n",
    "# #     ax.plot(audio)\n",
    "# #     ax.set_yticks(np.arange(-1,1.5,0.5))\n",
    "#     ax.set_title(label)\n",
    "\n",
    "# plt.show()"
   ]
  },
  {
   "cell_type": "code",
   "execution_count": 10,
   "id": "e2ec4fc9",
   "metadata": {},
   "outputs": [
    {
     "name": "stdout",
     "output_type": "stream",
     "text": [
      "Training set size 2328\n",
      "Validation set size 291\n",
      "Test set size 294\n"
     ]
    }
   ],
   "source": [
    "tenth = int(num_samples * 0.1)\n",
    "eightyth = tenth * 8\n",
    "\n",
    "X_train = X_full[:eightyth]\n",
    "y_train = y_full[:eightyth]\n",
    "\n",
    "X_val = X_full[eightyth: eightyth + tenth]\n",
    "y_val = y_full[eightyth: eightyth + tenth]\n",
    "\n",
    "X_test = X_full[eightyth + tenth:]\n",
    "y_test = y_full[eightyth + tenth:]\n",
    "\n",
    "print('Training set size', len(X_train))\n",
    "print('Validation set size', len(X_val))\n",
    "print('Test set size', len(X_test))"
   ]
  },
  {
   "cell_type": "code",
   "execution_count": 11,
   "id": "7b557c8c",
   "metadata": {
    "scrolled": true
   },
   "outputs": [
    {
     "name": "stdout",
     "output_type": "stream",
     "text": [
      "Model: \"sequential\"\n",
      "_________________________________________________________________\n",
      " Layer (type)                Output Shape              Param #   \n",
      "=================================================================\n",
      " reshape (Reshape)           (None, 128, 23, 1)        0         \n",
      "                                                                 \n",
      " conv2d (Conv2D)             (None, 125, 20, 64)       1088      \n",
      "                                                                 \n",
      " dropout (Dropout)           (None, 125, 20, 64)       0         \n",
      "                                                                 \n",
      " average_pooling2d (AverageP  (None, 62, 10, 64)       0         \n",
      " ooling2D)                                                       \n",
      "                                                                 \n",
      " conv2d_1 (Conv2D)           (None, 59, 7, 16)         16400     \n",
      "                                                                 \n",
      " dropout_1 (Dropout)         (None, 59, 7, 16)         0         \n",
      "                                                                 \n",
      " average_pooling2d_1 (Averag  (None, 29, 3, 16)        0         \n",
      " ePooling2D)                                                     \n",
      "                                                                 \n",
      " flatten (Flatten)           (None, 1392)              0         \n",
      "                                                                 \n",
      " dropout_2 (Dropout)         (None, 1392)              0         \n",
      "                                                                 \n",
      " dense (Dense)               (None, 70)                97510     \n",
      "                                                                 \n",
      " dense_1 (Dense)             (None, 10)                710       \n",
      "                                                                 \n",
      "=================================================================\n",
      "Total params: 115,708\n",
      "Trainable params: 115,708\n",
      "Non-trainable params: 0\n",
      "_________________________________________________________________\n"
     ]
    },
    {
     "name": "stderr",
     "output_type": "stream",
     "text": [
      "2022-05-03 22:22:24.411437: I tensorflow/core/platform/cpu_feature_guard.cc:151] This TensorFlow binary is optimized with oneAPI Deep Neural Network Library (oneDNN) to use the following CPU instructions in performance-critical operations:  AVX2 FMA\n",
      "To enable them in other operations, rebuild TensorFlow with the appropriate compiler flags.\n"
     ]
    }
   ],
   "source": [
    "# INPUTS ARE NORMALIZED\n",
    "\n",
    "model = tf.keras.models.Sequential()\n",
    "# model.add(tf.keras.layers.Input(shape=(sample_w,)))\n",
    "model.add(tf.keras.layers.Reshape((128, 23, 1), input_shape=(sample_w,)))\n",
    "model.add(tf.keras.layers.Conv2D(64, (4, 4), activation='relu', input_shape=(128, 23, 1)))\n",
    "model.add(tf.keras.layers.Dropout(0.25))\n",
    "model.add(tf.keras.layers.AveragePooling2D(2,2))\n",
    "model.add(tf.keras.layers.Conv2D(16, (4, 4), activation='relu'))\n",
    "model.add(tf.keras.layers.Dropout(0.25))\n",
    "model.add(tf.keras.layers.AveragePooling2D(2,2))\n",
    " \n",
    "model.add(tf.keras.layers.Flatten())\n",
    "\n",
    "model.add(tf.keras.layers.Dropout(0.15))    \n",
    "model.add(tf.keras.layers.Dense(70, activation='relu'))\n",
    "model.add(tf.keras.layers.Dense(10, activation='softmax'))\n",
    "\n",
    "# model.add(tf.keras.layers.Conv2D(32, 3, activation='relu'))\n",
    "# model.add(tf.keras.layers.Conv2D(64, 3, activation='relu'))\n",
    "# model.add(tf.keras.layers.MaxPooling2D())\n",
    "# model.add(tf.keras.layers.Dropout(0.25))\n",
    "# model.add(tf.keras.layers.Flatten())\n",
    "# model.add(tf.keras.layers.Dense(128, activation=\"relu\"))\n",
    "# model.add(tf.keras.layers.Dropout(0.5))\n",
    "# model.add(tf.keras.layers.Dense(10, activation=\"softmax\"))\n",
    "\n",
    "model.build()\n",
    "model.summary()"
   ]
  },
  {
   "cell_type": "code",
   "execution_count": 12,
   "id": "829aab90",
   "metadata": {},
   "outputs": [],
   "source": [
    "model.compile(loss=\"sparse_categorical_crossentropy\",\n",
    "             optimizer=\"adam\",\n",
    "             metrics=[\"accuracy\"])"
   ]
  },
  {
   "cell_type": "code",
   "execution_count": 13,
   "id": "3cb6e607",
   "metadata": {},
   "outputs": [
    {
     "name": "stdout",
     "output_type": "stream",
     "text": [
      "Epoch 1/30\n",
      "73/73 [==============================] - 6s 68ms/step - loss: 2.2589 - accuracy: 0.1418 - val_loss: 2.2329 - val_accuracy: 0.1649\n",
      "Epoch 2/30\n",
      "73/73 [==============================] - 5s 63ms/step - loss: 2.1976 - accuracy: 0.1723 - val_loss: 2.2056 - val_accuracy: 0.2027\n",
      "Epoch 3/30\n",
      "73/73 [==============================] - 5s 68ms/step - loss: 2.0884 - accuracy: 0.2431 - val_loss: 1.8580 - val_accuracy: 0.3986\n",
      "Epoch 4/30\n",
      "73/73 [==============================] - 5s 66ms/step - loss: 1.5664 - accuracy: 0.4532 - val_loss: 1.3374 - val_accuracy: 0.5739\n",
      "Epoch 5/30\n",
      "73/73 [==============================] - 6s 80ms/step - loss: 1.2241 - accuracy: 0.5571 - val_loss: 1.1336 - val_accuracy: 0.6186\n",
      "Epoch 6/30\n",
      "73/73 [==============================] - 5s 67ms/step - loss: 1.0727 - accuracy: 0.6087 - val_loss: 1.1277 - val_accuracy: 0.6048\n",
      "Epoch 7/30\n",
      "73/73 [==============================] - 5s 72ms/step - loss: 0.9680 - accuracy: 0.6439 - val_loss: 0.8737 - val_accuracy: 0.7045\n",
      "Epoch 8/30\n",
      "73/73 [==============================] - 5s 70ms/step - loss: 0.8591 - accuracy: 0.6727 - val_loss: 0.8587 - val_accuracy: 0.6907\n",
      "Epoch 9/30\n",
      "73/73 [==============================] - 5s 72ms/step - loss: 0.7455 - accuracy: 0.7354 - val_loss: 0.7476 - val_accuracy: 0.7629\n",
      "Epoch 10/30\n",
      "73/73 [==============================] - 6s 80ms/step - loss: 0.6959 - accuracy: 0.7496 - val_loss: 0.6638 - val_accuracy: 0.7560\n",
      "Epoch 11/30\n",
      "73/73 [==============================] - 5s 73ms/step - loss: 0.6238 - accuracy: 0.7844 - val_loss: 0.5835 - val_accuracy: 0.7938\n",
      "Epoch 12/30\n",
      "73/73 [==============================] - 5s 72ms/step - loss: 0.5963 - accuracy: 0.7771 - val_loss: 0.5309 - val_accuracy: 0.8316\n",
      "Epoch 13/30\n",
      "73/73 [==============================] - 5s 70ms/step - loss: 0.5458 - accuracy: 0.7951 - val_loss: 0.5193 - val_accuracy: 0.8144\n",
      "Epoch 14/30\n",
      "73/73 [==============================] - 6s 77ms/step - loss: 0.5133 - accuracy: 0.8153 - val_loss: 0.5530 - val_accuracy: 0.8007\n",
      "Epoch 15/30\n",
      "73/73 [==============================] - 7s 95ms/step - loss: 0.4878 - accuracy: 0.8239 - val_loss: 0.4577 - val_accuracy: 0.8557\n",
      "Epoch 16/30\n",
      "73/73 [==============================] - 7s 95ms/step - loss: 0.4455 - accuracy: 0.8419 - val_loss: 0.5120 - val_accuracy: 0.8213\n",
      "Epoch 17/30\n",
      "73/73 [==============================] - 7s 89ms/step - loss: 0.4343 - accuracy: 0.8415 - val_loss: 0.4092 - val_accuracy: 0.8694\n",
      "Epoch 18/30\n",
      "73/73 [==============================] - 6s 82ms/step - loss: 0.3801 - accuracy: 0.8617 - val_loss: 0.4588 - val_accuracy: 0.8488\n",
      "Epoch 19/30\n",
      "73/73 [==============================] - 7s 89ms/step - loss: 0.3626 - accuracy: 0.8703 - val_loss: 0.4044 - val_accuracy: 0.8591\n",
      "Epoch 20/30\n",
      "73/73 [==============================] - 6s 82ms/step - loss: 0.3898 - accuracy: 0.8638 - val_loss: 0.4167 - val_accuracy: 0.8694\n",
      "Epoch 21/30\n",
      "73/73 [==============================] - 6s 85ms/step - loss: 0.3376 - accuracy: 0.8784 - val_loss: 0.4205 - val_accuracy: 0.8729\n",
      "Epoch 22/30\n",
      "73/73 [==============================] - 6s 82ms/step - loss: 0.3256 - accuracy: 0.8802 - val_loss: 0.4549 - val_accuracy: 0.8660\n",
      "Epoch 23/30\n",
      "73/73 [==============================] - 6s 79ms/step - loss: 0.2928 - accuracy: 0.8978 - val_loss: 0.3666 - val_accuracy: 0.8763\n",
      "Epoch 24/30\n",
      "73/73 [==============================] - 6s 77ms/step - loss: 0.2981 - accuracy: 0.8918 - val_loss: 0.4068 - val_accuracy: 0.8694\n",
      "Epoch 25/30\n",
      "73/73 [==============================] - 6s 76ms/step - loss: 0.2798 - accuracy: 0.9038 - val_loss: 0.3603 - val_accuracy: 0.8935\n",
      "Epoch 26/30\n",
      "73/73 [==============================] - 6s 80ms/step - loss: 0.2573 - accuracy: 0.9111 - val_loss: 0.4053 - val_accuracy: 0.8625\n",
      "Epoch 27/30\n",
      "73/73 [==============================] - 6s 84ms/step - loss: 0.2699 - accuracy: 0.9081 - val_loss: 0.3307 - val_accuracy: 0.9107\n",
      "Epoch 28/30\n",
      "73/73 [==============================] - 6s 83ms/step - loss: 0.2430 - accuracy: 0.9119 - val_loss: 0.3553 - val_accuracy: 0.8729\n",
      "Epoch 29/30\n",
      "73/73 [==============================] - 6s 83ms/step - loss: 0.2200 - accuracy: 0.9265 - val_loss: 0.3184 - val_accuracy: 0.8969\n",
      "Epoch 30/30\n",
      "73/73 [==============================] - 6s 78ms/step - loss: 0.2120 - accuracy: 0.9304 - val_loss: 0.3580 - val_accuracy: 0.8866\n"
     ]
    }
   ],
   "source": [
    "history = model.fit(X_train, y_train, epochs=30,\n",
    "                   validation_data=(X_val, y_val))"
   ]
  },
  {
   "cell_type": "code",
   "execution_count": 14,
   "id": "73a4dafa",
   "metadata": {},
   "outputs": [
    {
     "name": "stdout",
     "output_type": "stream",
     "text": [
      "10/10 [==============================] - 0s 12ms/step - loss: 0.3908 - accuracy: 0.8673\n"
     ]
    },
    {
     "data": {
      "text/plain": [
       "[0.3907763659954071, 0.8673469424247742]"
      ]
     },
     "execution_count": 14,
     "metadata": {},
     "output_type": "execute_result"
    }
   ],
   "source": [
    "model.evaluate(X_test, y_test)"
   ]
  },
  {
   "cell_type": "code",
   "execution_count": 15,
   "id": "0226ff54",
   "metadata": {},
   "outputs": [
    {
     "data": {
      "image/png": "[encoded data removed]",
      "text/plain": [
       "<Figure size 720x576 with 2 Axes>"
      ]
     },
     "metadata": {
      "needs_background": "light"
     },
     "output_type": "display_data"
    }
   ],
   "source": [
    "y_pred = np.argmax(model.predict(X_test), axis=1)\n",
    "\n",
    "all_labels = list(range(10))\n",
    "\n",
    "confusion_mtx = tf.math.confusion_matrix(y_test, y_pred)\n",
    "plt.figure(figsize=(10, 8))\n",
    "sns.heatmap(confusion_mtx,\n",
    "            xticklabels=all_labels,\n",
    "            yticklabels=all_labels,\n",
    "            annot=True, fmt='g')\n",
    "plt.xlabel('Prediction')\n",
    "plt.ylabel('Label')\n",
    "plt.show()"
   ]
  },
  {
   "cell_type": "code",
   "execution_count": 43,
   "id": "049ca96d",
   "metadata": {},
   "outputs": [],
   "source": [
    "# model.save(\"model_v5.h5\")"
   ]
  },
  {
   "cell_type": "code",
   "execution_count": null,
   "id": "177d4f2c",
   "metadata": {},
   "outputs": [],
   "source": []
  }
 ],
 "metadata": {
  "kernelspec": {
   "display_name": "Python 3 (ipykernel)",
   "language": "python",
   "name": "python3"
  },
  "language_info": {
   "codemirror_mode": {
    "name": "ipython",
    "version": 3
   },
   "file_extension": ".py",
   "mimetype": "text/x-python",
   "name": "python",
   "nbconvert_exporter": "python",
   "pygments_lexer": "ipython3",
   "version": "3.7.7"
  }
 },
 "nbformat": 4,
 "nbformat_minor": 5
}
