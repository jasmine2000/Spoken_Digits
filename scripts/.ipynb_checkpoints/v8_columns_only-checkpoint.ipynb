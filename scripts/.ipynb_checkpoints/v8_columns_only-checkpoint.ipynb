{
 "cells": [
  {
   "cell_type": "code",
   "execution_count": 14,
   "metadata": {},
   "outputs": [],
   "source": [
    "import wave\n",
    "import glob\n",
    "import random\n",
    "\n",
    "# for data, model, training\n",
    "import pandas as pd\n",
    "import numpy as np\n",
    "import tensorflow as tf\n",
    "from scipy import signal\n",
    "\n",
    "import librosa\n",
    "import librosa.display\n",
    "\n",
    "# for visuals and statistics\n",
    "import matplotlib.pyplot as plt\n",
    "import seaborn as sns\n",
    "\n",
    "# Set the seed value for experiment reproducibility.\n",
    "seed = 42\n",
    "random.seed(42)\n",
    "tf.random.set_random_seed(seed)\n",
    "np.random.seed(seed)"
   ]
  },
  {
   "cell_type": "code",
   "execution_count": 15,
   "metadata": {},
   "outputs": [
    {
     "name": "stdout",
     "output_type": "stream",
     "text": [
      "['./recordings/2_jackson_13.wav', './recordings/6_george_34.wav', './recordings/7_george_5.wav', './recordings/1_yweweler_21.wav', './recordings/2_george_42.wav']\n"
     ]
    }
   ],
   "source": [
    "def get_and_shuffle_filenames(dir_name):\n",
    "    filenames = glob.glob(str(data_dir) + \"/*\")\n",
    "    random.shuffle(filenames)\n",
    "    return filenames\n",
    "\n",
    "data_dir = \"./recordings\"\n",
    "filenames = get_and_shuffle_filenames(data_dir)\n",
    "\n",
    "print(filenames[:5])"
   ]
  },
  {
   "cell_type": "code",
   "execution_count": 16,
   "metadata": {},
   "outputs": [],
   "source": [
    "# https://www.tensorflow.org/tutorials/audio/simple_audio\n",
    "\n",
    "def decode_audio(file_path):\n",
    "    # read file to get buffer                                                                                               \n",
    "    ifile = wave.open(file_path)\n",
    "    samples = ifile.getnframes()\n",
    "    audio = ifile.readframes(samples)\n",
    "\n",
    "    # convert buffer to float32 using NumPy                                                                                 \n",
    "    audio_as_np_int16 = np.frombuffer(audio, dtype=np.int16)\n",
    "    audio_as_np_float32 = audio_as_np_int16.astype(np.float32)\n",
    "    \n",
    "    # get largest absolute value\n",
    "    max_val = np.max(\n",
    "        np.absolute(\n",
    "            [np.max(audio_as_np_float32), np.min(audio_as_np_float32)]))\n",
    "    audio_normalized = audio_as_np_float32 / max_val\n",
    "\n",
    "    return audio_normalized\n",
    "\n",
    "def get_label(file_path):\n",
    "    # label is in the filename\n",
    "    parts = file_path.split(\"/\")\n",
    "    label = int(parts[2].split(\"_\")[0])\n",
    "\n",
    "    return label\n"
   ]
  },
  {
   "cell_type": "code",
   "execution_count": 33,
   "metadata": {},
   "outputs": [
    {
     "name": "stdout",
     "output_type": "stream",
     "text": [
      "3499.4746666666665\n",
      "1180.9471707171701\n",
      "5632\n"
     ]
    }
   ],
   "source": [
    "# to remove outliers \n",
    "X_unfiltered = [(file_path, decode_audio(file_path)) for file_path in filenames]\n",
    "X_lengths = [audio.shape[0] for _, audio in X_unfiltered]\n",
    "\n",
    "max_length = int(np.mean(X_lengths) + 2 * np.std(X_lengths))\n",
    "max_length = int(np.floor(max_length / 256) * 256)\n",
    "print(np.mean(X_lengths))\n",
    "print(np.std(X_lengths))\n",
    "print(max_length)"
   ]
  },
  {
   "cell_type": "code",
   "execution_count": 38,
   "metadata": {},
   "outputs": [],
   "source": [
    "range_val = int(max_length/256)\n",
    "\n",
    "def spect(signal):\n",
    "    spectogram = []\n",
    "    for i in range(range_val):\n",
    "        window_fft = np.fft.rfft(signal[i * 256: (i + 1) * 256])[:-1]\n",
    "        window_fft = list(np.abs(window_fft))\n",
    "        spectogram.append(window_fft)\n",
    "    spectogram = np.array(spectogram)\n",
    "    spectogram = librosa.amplitude_to_db(spectogram, ref=np.max)\n",
    "    spectogram = spectogram / 20\n",
    "    return spectogram"
   ]
  },
  {
   "cell_type": "code",
   "execution_count": 39,
   "metadata": {},
   "outputs": [
    {
     "name": "stdout",
     "output_type": "stream",
     "text": [
      "(2312, 2816)\n",
      "2312\n",
      "2816\n",
      "[2 6 7 1 2 6 6 4 3 2]\n"
     ]
    }
   ],
   "source": [
    "# padding function from\n",
    "# https://towardsdatascience.com/audio-deep-learning-made-simple-sound-classification-step-by-step-cebc936bbe5\n",
    "\n",
    "X_full = [] # padded X values\n",
    "y_full = []\n",
    "\n",
    "numbers = [0] * 10\n",
    "\n",
    "for file_path, audio in X_unfiltered:\n",
    "    x_val = audio\n",
    "    y_val = get_label(file_path)\n",
    "    \n",
    "    if y_val > 7:\n",
    "        continue\n",
    "    \n",
    "    signal_length = audio.shape[0]\n",
    "    if signal_length > max_length:\n",
    "        numbers[y_val] += 1\n",
    "    else:\n",
    "        pad_len = max_length - signal_length\n",
    "        \n",
    "        x_val = np.pad(\n",
    "            x_val, (0, pad_len), \n",
    "            'constant', constant_values=(0, 0))\n",
    "        \n",
    "#         mel_x = mel_spec(x_val)\n",
    "        s_x = spect(x_val)\n",
    "        s_x = s_x.flatten()\n",
    "        \n",
    "        X_full.append(s_x)\n",
    "        y_full.append(y_val)\n",
    "\n",
    "X_full = np.array(X_full)\n",
    "y_full = np.array(y_full)\n",
    "\n",
    "print(X_full.shape)\n",
    "\n",
    "num_samples, sample_w = X_full.shape\n",
    "print(num_samples)\n",
    "print(sample_w)\n",
    "\n",
    "print(y_full[:10])"
   ]
  },
  {
   "cell_type": "code",
   "execution_count": 40,
   "metadata": {},
   "outputs": [
    {
     "name": "stdout",
     "output_type": "stream",
     "text": [
      "   quantities\n",
      "0          12\n",
      "1           9\n",
      "2           7\n",
      "3           9\n",
      "4           3\n",
      "5           8\n",
      "6          29\n",
      "7          11\n",
      "8           0\n",
      "9           0\n",
      "88\n"
     ]
    }
   ],
   "source": [
    "# quantities = {\"y\": list(range(10)), \"quantities\": numbers}\n",
    "df = pd.DataFrame.from_dict({\"quantities\": numbers})\n",
    "print(df)\n",
    "print(sum(numbers))"
   ]
  },
  {
   "cell_type": "code",
   "execution_count": 41,
   "metadata": {},
   "outputs": [],
   "source": [
    "mean = np.mean(X_full)\n",
    "std = np.std(X_full)\n",
    "X_full = X_full - mean\n",
    "X_full = X_full / std"
   ]
  },
  {
   "cell_type": "code",
   "execution_count": 42,
   "metadata": {},
   "outputs": [],
   "source": [
    "# rows = 3\n",
    "# cols = 3\n",
    "# n = rows * cols\n",
    "# fig, axes = plt.subplots(rows, cols, figsize=(12, 14))\n",
    "\n",
    "# for i, (audio, label) in enumerate(list(zip(X_full, y_full))[:n]):\n",
    "#     r = i // cols\n",
    "#     c = i % cols\n",
    "#     ax = axes[r][c]\n",
    "    \n",
    "#     librosa.display.specshow(audio, sr=8000, hop_length=256, x_axis='time', ax=axes[r][c])\n",
    "# #     librosa.display.specshow(audio, y_axis='mel', fmax=8000, x_axis='time', ax=axes[r][c]);\n",
    "# #     plt.title('Mel Spectrogram');\n",
    "# #     plt.colorbar(format='%+2.0f dB');\n",
    "    \n",
    "# #     ax.plot(audio)\n",
    "# #     ax.set_yticks(np.arange(-1,1.5,0.5))\n",
    "#     ax.set_title(label)\n",
    "\n",
    "# plt.show()"
   ]
  },
  {
   "cell_type": "code",
   "execution_count": 43,
   "metadata": {},
   "outputs": [
    {
     "name": "stdout",
     "output_type": "stream",
     "text": [
      "Training set size 1848\n",
      "Validation set size 231\n",
      "Test set size 233\n"
     ]
    }
   ],
   "source": [
    "tenth = int(num_samples * 0.1)\n",
    "eightyth = tenth * 8\n",
    "\n",
    "X_train = X_full[:eightyth]\n",
    "y_train = y_full[:eightyth]\n",
    "\n",
    "X_val = X_full[eightyth: eightyth + tenth]\n",
    "y_val = y_full[eightyth: eightyth + tenth]\n",
    "\n",
    "X_test = X_full[eightyth + tenth:]\n",
    "y_test = y_full[eightyth + tenth:]\n",
    "\n",
    "print('Training set size', len(X_train))\n",
    "print('Validation set size', len(X_val))\n",
    "print('Test set size', len(X_test))"
   ]
  },
  {
   "cell_type": "code",
   "execution_count": 45,
   "metadata": {
    "scrolled": true
   },
   "outputs": [
    {
     "name": "stdout",
     "output_type": "stream",
     "text": [
      "Model: \"sequential_3\"\n",
      "_________________________________________________________________\n",
      "Layer (type)                 Output Shape              Param #   \n",
      "=================================================================\n",
      "reshape_3 (Reshape)          (None, 128, 22, 1)        0         \n",
      "_________________________________________________________________\n",
      "conv2d_6 (Conv2D)            (None, 125, 19, 64)       1088      \n",
      "_________________________________________________________________\n",
      "dropout_9 (Dropout)          (None, 125, 19, 64)       0         \n",
      "_________________________________________________________________\n",
      "average_pooling2d_6 (Average (None, 62, 9, 64)         0         \n",
      "_________________________________________________________________\n",
      "conv2d_7 (Conv2D)            (None, 59, 6, 16)         16400     \n",
      "_________________________________________________________________\n",
      "dropout_10 (Dropout)         (None, 59, 6, 16)         0         \n",
      "_________________________________________________________________\n",
      "average_pooling2d_7 (Average (None, 29, 3, 16)         0         \n",
      "_________________________________________________________________\n",
      "flatten_3 (Flatten)          (None, 1392)              0         \n",
      "_________________________________________________________________\n",
      "dropout_11 (Dropout)         (None, 1392)              0         \n",
      "_________________________________________________________________\n",
      "dense_6 (Dense)              (None, 70)                97510     \n",
      "_________________________________________________________________\n",
      "dense_7 (Dense)              (None, 8)                 568       \n",
      "=================================================================\n",
      "Total params: 115,566\n",
      "Trainable params: 115,566\n",
      "Non-trainable params: 0\n",
      "_________________________________________________________________\n"
     ]
    }
   ],
   "source": [
    "# INPUTS ARE NORMALIZED\n",
    "\n",
    "model = tf.keras.models.Sequential()\n",
    "model.add(tf.keras.layers.Reshape((128, 22, 1), input_shape=(sample_w,)))\n",
    "model.add(tf.keras.layers.Conv2D(64, (4, 4), activation='relu', input_shape=(128, 22, 1)))\n",
    "model.add(tf.keras.layers.Dropout(0.25))\n",
    "model.add(tf.keras.layers.AveragePooling2D(2,2))\n",
    "model.add(tf.keras.layers.Conv2D(16, (4, 4), activation='relu'))\n",
    "model.add(tf.keras.layers.Dropout(0.25))\n",
    "model.add(tf.keras.layers.AveragePooling2D(2,2))\n",
    " \n",
    "model.add(tf.keras.layers.Flatten())\n",
    "\n",
    "model.add(tf.keras.layers.Dropout(0.15))    \n",
    "model.add(tf.keras.layers.Dense(70, activation='relu'))\n",
    "model.add(tf.keras.layers.Dense(8, activation='softmax'))\n",
    "\n",
    "model.build()\n",
    "model.summary()"
   ]
  },
  {
   "cell_type": "code",
   "execution_count": 46,
   "metadata": {},
   "outputs": [],
   "source": [
    "model.compile(loss=\"sparse_categorical_crossentropy\",\n",
    "             optimizer=\"adam\",\n",
    "             metrics=[\"accuracy\"])"
   ]
  },
  {
   "cell_type": "code",
   "execution_count": 47,
   "metadata": {},
   "outputs": [
    {
     "name": "stdout",
     "output_type": "stream",
     "text": [
      "Train on 1848 samples, validate on 231 samples\n",
      "Epoch 1/30\n",
      "1848/1848 [==============================] - 5s 2ms/sample - loss: 1.9490 - acc: 0.2229 - val_loss: 1.7063 - val_acc: 0.3896\n",
      "Epoch 2/30\n",
      "1848/1848 [==============================] - 4s 2ms/sample - loss: 1.3261 - acc: 0.5173 - val_loss: 0.9876 - val_acc: 0.7056\n",
      "Epoch 3/30\n",
      "1848/1848 [==============================] - 4s 2ms/sample - loss: 0.8815 - acc: 0.6775 - val_loss: 0.8144 - val_acc: 0.7229\n",
      "Epoch 4/30\n",
      "1848/1848 [==============================] - 4s 2ms/sample - loss: 0.6058 - acc: 0.7879 - val_loss: 0.5424 - val_acc: 0.8312\n",
      "Epoch 5/30\n",
      "1848/1848 [==============================] - 4s 2ms/sample - loss: 0.5128 - acc: 0.8236 - val_loss: 0.5515 - val_acc: 0.8398\n",
      "Epoch 6/30\n",
      "1848/1848 [==============================] - 4s 2ms/sample - loss: 0.4144 - acc: 0.8561 - val_loss: 0.4591 - val_acc: 0.8788\n",
      "Epoch 7/30\n",
      "1848/1848 [==============================] - 4s 2ms/sample - loss: 0.3428 - acc: 0.8907 - val_loss: 0.4248 - val_acc: 0.8658\n",
      "Epoch 8/30\n",
      "1848/1848 [==============================] - 4s 2ms/sample - loss: 0.2750 - acc: 0.9058 - val_loss: 0.3240 - val_acc: 0.9004\n",
      "Epoch 9/30\n",
      "1848/1848 [==============================] - 4s 2ms/sample - loss: 0.2400 - acc: 0.9286 - val_loss: 0.4151 - val_acc: 0.8788\n",
      "Epoch 10/30\n",
      "1848/1848 [==============================] - 4s 2ms/sample - loss: 0.2280 - acc: 0.9275 - val_loss: 0.3464 - val_acc: 0.9048\n",
      "Epoch 11/30\n",
      "1848/1848 [==============================] - 4s 2ms/sample - loss: 0.1891 - acc: 0.9378 - val_loss: 0.3267 - val_acc: 0.9134\n",
      "Epoch 12/30\n",
      "1848/1848 [==============================] - 5s 2ms/sample - loss: 0.1698 - acc: 0.9459 - val_loss: 0.2893 - val_acc: 0.9177\n",
      "Epoch 13/30\n",
      "1848/1848 [==============================] - 5s 3ms/sample - loss: 0.1688 - acc: 0.9443 - val_loss: 0.3341 - val_acc: 0.9134\n",
      "Epoch 14/30\n",
      "1848/1848 [==============================] - 5s 3ms/sample - loss: 0.1381 - acc: 0.9502 - val_loss: 0.2795 - val_acc: 0.9221\n",
      "Epoch 15/30\n",
      "1848/1848 [==============================] - 4s 2ms/sample - loss: 0.1522 - acc: 0.9513 - val_loss: 0.3243 - val_acc: 0.9048\n",
      "Epoch 16/30\n",
      "1848/1848 [==============================] - 4s 2ms/sample - loss: 0.1349 - acc: 0.9551 - val_loss: 0.2595 - val_acc: 0.9351\n",
      "Epoch 17/30\n",
      "1848/1848 [==============================] - 4s 2ms/sample - loss: 0.1242 - acc: 0.9583 - val_loss: 0.3046 - val_acc: 0.9091\n",
      "Epoch 18/30\n",
      "1848/1848 [==============================] - 4s 2ms/sample - loss: 0.1065 - acc: 0.9654 - val_loss: 0.2980 - val_acc: 0.9134\n",
      "Epoch 19/30\n",
      "1848/1848 [==============================] - 4s 2ms/sample - loss: 0.0966 - acc: 0.9713 - val_loss: 0.3353 - val_acc: 0.9048\n",
      "Epoch 20/30\n",
      "1848/1848 [==============================] - 4s 2ms/sample - loss: 0.0939 - acc: 0.9675 - val_loss: 0.3022 - val_acc: 0.9221\n",
      "Epoch 21/30\n",
      "1848/1848 [==============================] - 4s 2ms/sample - loss: 0.0773 - acc: 0.9719 - val_loss: 0.3624 - val_acc: 0.9221\n",
      "Epoch 22/30\n",
      "1848/1848 [==============================] - 4s 2ms/sample - loss: 0.0858 - acc: 0.9681 - val_loss: 0.2691 - val_acc: 0.9481\n",
      "Epoch 23/30\n",
      "1848/1848 [==============================] - 4s 2ms/sample - loss: 0.0646 - acc: 0.9773 - val_loss: 0.2949 - val_acc: 0.9351\n",
      "Epoch 24/30\n",
      "1848/1848 [==============================] - 4s 2ms/sample - loss: 0.0764 - acc: 0.9719 - val_loss: 0.3123 - val_acc: 0.9221\n",
      "Epoch 25/30\n",
      "1848/1848 [==============================] - 4s 2ms/sample - loss: 0.0695 - acc: 0.9751 - val_loss: 0.2995 - val_acc: 0.9307\n",
      "Epoch 26/30\n",
      "1848/1848 [==============================] - 4s 2ms/sample - loss: 0.0707 - acc: 0.9746 - val_loss: 0.3278 - val_acc: 0.9307\n",
      "Epoch 27/30\n",
      "1848/1848 [==============================] - 4s 2ms/sample - loss: 0.0727 - acc: 0.9762 - val_loss: 0.3042 - val_acc: 0.9394\n",
      "Epoch 28/30\n",
      "1848/1848 [==============================] - 4s 2ms/sample - loss: 0.0544 - acc: 0.9827 - val_loss: 0.2952 - val_acc: 0.9524\n",
      "Epoch 29/30\n",
      "1848/1848 [==============================] - 4s 2ms/sample - loss: 0.0580 - acc: 0.9832 - val_loss: 0.3543 - val_acc: 0.9307\n",
      "Epoch 30/30\n",
      "1848/1848 [==============================] - 5s 3ms/sample - loss: 0.0572 - acc: 0.9800 - val_loss: 0.4151 - val_acc: 0.9177\n"
     ]
    }
   ],
   "source": [
    "history = model.fit(X_train, y_train, epochs=30,\n",
    "                   validation_data=(X_val, y_val))"
   ]
  },
  {
   "cell_type": "code",
   "execution_count": 48,
   "metadata": {},
   "outputs": [
    {
     "name": "stdout",
     "output_type": "stream",
     "text": [
      "233/233 [==============================] - 0s 455us/sample - loss: 0.3022 - acc: 0.9056\n"
     ]
    },
    {
     "data": {
      "text/plain": [
       "[0.3021807824721152, 0.9055794]"
      ]
     },
     "execution_count": 48,
     "metadata": {},
     "output_type": "execute_result"
    }
   ],
   "source": [
    "model.evaluate(X_test, y_test)"
   ]
  },
  {
   "cell_type": "code",
   "execution_count": 49,
   "metadata": {},
   "outputs": [
    {
     "ename": "NotImplementedError",
     "evalue": "Cannot convert a symbolic Tensor (confusion_matrix_2/SparseTensorDenseAdd:0) to a numpy array.",
     "output_type": "error",
     "traceback": [
      "\u001b[0;31m---------------------------------------------------------------------------\u001b[0m",
      "\u001b[0;31mNotImplementedError\u001b[0m                       Traceback (most recent call last)",
      "\u001b[0;32m<ipython-input-49-7aa6541e6152>\u001b[0m in \u001b[0;36m<module>\u001b[0;34m\u001b[0m\n\u001b[1;32m      8\u001b[0m             \u001b[0mxticklabels\u001b[0m\u001b[0;34m=\u001b[0m\u001b[0mall_labels\u001b[0m\u001b[0;34m,\u001b[0m\u001b[0;34m\u001b[0m\u001b[0;34m\u001b[0m\u001b[0m\n\u001b[1;32m      9\u001b[0m             \u001b[0myticklabels\u001b[0m\u001b[0;34m=\u001b[0m\u001b[0mall_labels\u001b[0m\u001b[0;34m,\u001b[0m\u001b[0;34m\u001b[0m\u001b[0;34m\u001b[0m\u001b[0m\n\u001b[0;32m---> 10\u001b[0;31m             annot=True, fmt='g')\n\u001b[0m\u001b[1;32m     11\u001b[0m \u001b[0mplt\u001b[0m\u001b[0;34m.\u001b[0m\u001b[0mxlabel\u001b[0m\u001b[0;34m(\u001b[0m\u001b[0;34m'Prediction'\u001b[0m\u001b[0;34m)\u001b[0m\u001b[0;34m\u001b[0m\u001b[0;34m\u001b[0m\u001b[0m\n\u001b[1;32m     12\u001b[0m \u001b[0mplt\u001b[0m\u001b[0;34m.\u001b[0m\u001b[0mylabel\u001b[0m\u001b[0;34m(\u001b[0m\u001b[0;34m'Label'\u001b[0m\u001b[0;34m)\u001b[0m\u001b[0;34m\u001b[0m\u001b[0;34m\u001b[0m\u001b[0m\n",
      "\u001b[0;32m/Library/Frameworks/Python.framework/Versions/3.7/lib/python3.7/site-packages/seaborn/_decorators.py\u001b[0m in \u001b[0;36minner_f\u001b[0;34m(*args, **kwargs)\u001b[0m\n\u001b[1;32m     44\u001b[0m             )\n\u001b[1;32m     45\u001b[0m         \u001b[0mkwargs\u001b[0m\u001b[0;34m.\u001b[0m\u001b[0mupdate\u001b[0m\u001b[0;34m(\u001b[0m\u001b[0;34m{\u001b[0m\u001b[0mk\u001b[0m\u001b[0;34m:\u001b[0m \u001b[0marg\u001b[0m \u001b[0;32mfor\u001b[0m \u001b[0mk\u001b[0m\u001b[0;34m,\u001b[0m \u001b[0marg\u001b[0m \u001b[0;32min\u001b[0m \u001b[0mzip\u001b[0m\u001b[0;34m(\u001b[0m\u001b[0msig\u001b[0m\u001b[0;34m.\u001b[0m\u001b[0mparameters\u001b[0m\u001b[0;34m,\u001b[0m \u001b[0margs\u001b[0m\u001b[0;34m)\u001b[0m\u001b[0;34m}\u001b[0m\u001b[0;34m)\u001b[0m\u001b[0;34m\u001b[0m\u001b[0;34m\u001b[0m\u001b[0m\n\u001b[0;32m---> 46\u001b[0;31m         \u001b[0;32mreturn\u001b[0m \u001b[0mf\u001b[0m\u001b[0;34m(\u001b[0m\u001b[0;34m**\u001b[0m\u001b[0mkwargs\u001b[0m\u001b[0;34m)\u001b[0m\u001b[0;34m\u001b[0m\u001b[0;34m\u001b[0m\u001b[0m\n\u001b[0m\u001b[1;32m     47\u001b[0m     \u001b[0;32mreturn\u001b[0m \u001b[0minner_f\u001b[0m\u001b[0;34m\u001b[0m\u001b[0;34m\u001b[0m\u001b[0m\n\u001b[1;32m     48\u001b[0m \u001b[0;34m\u001b[0m\u001b[0m\n",
      "\u001b[0;32m/Library/Frameworks/Python.framework/Versions/3.7/lib/python3.7/site-packages/seaborn/matrix.py\u001b[0m in \u001b[0;36mheatmap\u001b[0;34m(data, vmin, vmax, cmap, center, robust, annot, fmt, annot_kws, linewidths, linecolor, cbar, cbar_kws, cbar_ax, square, xticklabels, yticklabels, mask, ax, **kwargs)\u001b[0m\n\u001b[1;32m    540\u001b[0m     plotter = _HeatMapper(data, vmin, vmax, cmap, center, robust, annot, fmt,\n\u001b[1;32m    541\u001b[0m                           \u001b[0mannot_kws\u001b[0m\u001b[0;34m,\u001b[0m \u001b[0mcbar\u001b[0m\u001b[0;34m,\u001b[0m \u001b[0mcbar_kws\u001b[0m\u001b[0;34m,\u001b[0m \u001b[0mxticklabels\u001b[0m\u001b[0;34m,\u001b[0m\u001b[0;34m\u001b[0m\u001b[0;34m\u001b[0m\u001b[0m\n\u001b[0;32m--> 542\u001b[0;31m                           yticklabels, mask)\n\u001b[0m\u001b[1;32m    543\u001b[0m \u001b[0;34m\u001b[0m\u001b[0m\n\u001b[1;32m    544\u001b[0m     \u001b[0;31m# Add the pcolormesh kwargs here\u001b[0m\u001b[0;34m\u001b[0m\u001b[0;34m\u001b[0m\u001b[0;34m\u001b[0m\u001b[0m\n",
      "\u001b[0;32m/Library/Frameworks/Python.framework/Versions/3.7/lib/python3.7/site-packages/seaborn/matrix.py\u001b[0m in \u001b[0;36m__init__\u001b[0;34m(self, data, vmin, vmax, cmap, center, robust, annot, fmt, annot_kws, cbar, cbar_kws, xticklabels, yticklabels, mask)\u001b[0m\n\u001b[1;32m    103\u001b[0m             \u001b[0mplot_data\u001b[0m \u001b[0;34m=\u001b[0m \u001b[0mdata\u001b[0m\u001b[0;34m.\u001b[0m\u001b[0mvalues\u001b[0m\u001b[0;34m\u001b[0m\u001b[0;34m\u001b[0m\u001b[0m\n\u001b[1;32m    104\u001b[0m         \u001b[0;32melse\u001b[0m\u001b[0;34m:\u001b[0m\u001b[0;34m\u001b[0m\u001b[0;34m\u001b[0m\u001b[0m\n\u001b[0;32m--> 105\u001b[0;31m             \u001b[0mplot_data\u001b[0m \u001b[0;34m=\u001b[0m \u001b[0mnp\u001b[0m\u001b[0;34m.\u001b[0m\u001b[0masarray\u001b[0m\u001b[0;34m(\u001b[0m\u001b[0mdata\u001b[0m\u001b[0;34m)\u001b[0m\u001b[0;34m\u001b[0m\u001b[0;34m\u001b[0m\u001b[0m\n\u001b[0m\u001b[1;32m    106\u001b[0m             \u001b[0mdata\u001b[0m \u001b[0;34m=\u001b[0m \u001b[0mpd\u001b[0m\u001b[0;34m.\u001b[0m\u001b[0mDataFrame\u001b[0m\u001b[0;34m(\u001b[0m\u001b[0mplot_data\u001b[0m\u001b[0;34m)\u001b[0m\u001b[0;34m\u001b[0m\u001b[0;34m\u001b[0m\u001b[0m\n\u001b[1;32m    107\u001b[0m \u001b[0;34m\u001b[0m\u001b[0m\n",
      "\u001b[0;32m/Library/Frameworks/Python.framework/Versions/3.7/lib/python3.7/site-packages/numpy/core/_asarray.py\u001b[0m in \u001b[0;36masarray\u001b[0;34m(a, dtype, order)\u001b[0m\n\u001b[1;32m     83\u001b[0m \u001b[0;34m\u001b[0m\u001b[0m\n\u001b[1;32m     84\u001b[0m     \"\"\"\n\u001b[0;32m---> 85\u001b[0;31m     \u001b[0;32mreturn\u001b[0m \u001b[0marray\u001b[0m\u001b[0;34m(\u001b[0m\u001b[0ma\u001b[0m\u001b[0;34m,\u001b[0m \u001b[0mdtype\u001b[0m\u001b[0;34m,\u001b[0m \u001b[0mcopy\u001b[0m\u001b[0;34m=\u001b[0m\u001b[0;32mFalse\u001b[0m\u001b[0;34m,\u001b[0m \u001b[0morder\u001b[0m\u001b[0;34m=\u001b[0m\u001b[0morder\u001b[0m\u001b[0;34m)\u001b[0m\u001b[0;34m\u001b[0m\u001b[0;34m\u001b[0m\u001b[0m\n\u001b[0m\u001b[1;32m     86\u001b[0m \u001b[0;34m\u001b[0m\u001b[0m\n\u001b[1;32m     87\u001b[0m \u001b[0;34m\u001b[0m\u001b[0m\n",
      "\u001b[0;32m/Library/Frameworks/Python.framework/Versions/3.7/lib/python3.7/site-packages/tensorflow_core/python/framework/ops.py\u001b[0m in \u001b[0;36m__array__\u001b[0;34m(self)\u001b[0m\n\u001b[1;32m    734\u001b[0m   \u001b[0;32mdef\u001b[0m \u001b[0m__array__\u001b[0m\u001b[0;34m(\u001b[0m\u001b[0mself\u001b[0m\u001b[0;34m)\u001b[0m\u001b[0;34m:\u001b[0m\u001b[0;34m\u001b[0m\u001b[0;34m\u001b[0m\u001b[0m\n\u001b[1;32m    735\u001b[0m     raise NotImplementedError(\"Cannot convert a symbolic Tensor ({}) to a numpy\"\n\u001b[0;32m--> 736\u001b[0;31m                               \" array.\".format(self.name))\n\u001b[0m\u001b[1;32m    737\u001b[0m \u001b[0;34m\u001b[0m\u001b[0m\n\u001b[1;32m    738\u001b[0m   \u001b[0;32mdef\u001b[0m \u001b[0m__len__\u001b[0m\u001b[0;34m(\u001b[0m\u001b[0mself\u001b[0m\u001b[0;34m)\u001b[0m\u001b[0;34m:\u001b[0m\u001b[0;34m\u001b[0m\u001b[0;34m\u001b[0m\u001b[0m\n",
      "\u001b[0;31mNotImplementedError\u001b[0m: Cannot convert a symbolic Tensor (confusion_matrix_2/SparseTensorDenseAdd:0) to a numpy array."
     ]
    },
    {
     "data": {
      "text/plain": [
       "<Figure size 720x576 with 0 Axes>"
      ]
     },
     "metadata": {},
     "output_type": "display_data"
    }
   ],
   "source": [
    "y_pred = np.argmax(model.predict(X_test), axis=1)\n",
    "\n",
    "all_labels = list(range(8))\n",
    "\n",
    "confusion_mtx = tf.math.confusion_matrix(y_test, y_pred)\n",
    "plt.figure(figsize=(10, 8))\n",
    "sns.heatmap(confusion_mtx,\n",
    "            xticklabels=all_labels,\n",
    "            yticklabels=all_labels,\n",
    "            annot=True, fmt='g')\n",
    "plt.xlabel('Prediction')\n",
    "plt.ylabel('Label')\n",
    "plt.show()"
   ]
  },
  {
   "cell_type": "code",
   "execution_count": 50,
   "metadata": {},
   "outputs": [],
   "source": [
    "model.save(\"v8_small_7.h5\")"
   ]
  },
  {
   "cell_type": "code",
   "execution_count": null,
   "metadata": {},
   "outputs": [],
   "source": []
  }
 ],
 "metadata": {
  "kernelspec": {
   "display_name": "Python 3",
   "language": "python",
   "name": "python3"
  },
  "language_info": {
   "codemirror_mode": {
    "name": "ipython",
    "version": 3
   },
   "file_extension": ".py",
   "mimetype": "text/x-python",
   "name": "python",
   "nbconvert_exporter": "python",
   "pygments_lexer": "ipython3",
   "version": "3.7.7"
  }
 },
 "nbformat": 4,
 "nbformat_minor": 5
}
