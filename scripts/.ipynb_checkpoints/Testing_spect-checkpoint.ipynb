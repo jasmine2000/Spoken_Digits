{
 "cells": [
  {
   "cell_type": "code",
   "execution_count": 1,
   "metadata": {},
   "outputs": [],
   "source": [
    "import wave\n",
    "import glob\n",
    "import random\n",
    "\n",
    "# for data, model, training\n",
    "import pandas as pd\n",
    "import numpy as np\n",
    "import tensorflow as tf\n",
    "from tensorflow.keras import layers\n",
    "from tensorflow.keras import models\n",
    "from scipy import signal\n",
    "\n",
    "import librosa\n",
    "import librosa.display\n",
    "\n",
    "# for visuals and statistics\n",
    "import matplotlib.pyplot as plt\n",
    "import seaborn as sns\n",
    "\n",
    "# Set the seed value for experiment reproducibility.\n",
    "seed = 42\n",
    "random.seed(42)\n",
    "tf.random.set_random_seed(seed)\n",
    "np.random.seed(seed)"
   ]
  },
  {
   "cell_type": "code",
   "execution_count": 2,
   "metadata": {},
   "outputs": [
    {
     "name": "stdout",
     "output_type": "stream",
     "text": [
      "['./recordings/2_jackson_13.wav', './recordings/6_george_34.wav', './recordings/7_george_5.wav', './recordings/1_yweweler_21.wav', './recordings/2_george_42.wav']\n"
     ]
    }
   ],
   "source": [
    "def get_and_shuffle_filenames(dir_name):\n",
    "    filenames = glob.glob(str(data_dir) + \"/*\")\n",
    "    random.shuffle(filenames)\n",
    "    return filenames\n",
    "\n",
    "data_dir = \"./recordings\"\n",
    "filenames = get_and_shuffle_filenames(data_dir)\n",
    "\n",
    "print(filenames[:5])"
   ]
  },
  {
   "cell_type": "code",
   "execution_count": 3,
   "metadata": {},
   "outputs": [],
   "source": [
    "# https://www.tensorflow.org/tutorials/audio/simple_audio\n",
    "\n",
    "def decode_audio(file_path):\n",
    "    # read file to get buffer                                                                                               \n",
    "    ifile = wave.open(file_path)\n",
    "    samples = ifile.getnframes()\n",
    "    audio = ifile.readframes(samples)\n",
    "\n",
    "    # convert buffer to float32 using NumPy                                                                                 \n",
    "    audio_as_np_int16 = np.frombuffer(audio, dtype=np.int16)\n",
    "    audio_as_np_float32 = audio_as_np_int16.astype(np.float32)\n",
    "    \n",
    "    # get largest absolute value\n",
    "    max_val = np.max(\n",
    "        np.absolute(\n",
    "            [np.max(audio_as_np_float32), np.min(audio_as_np_float32)]))\n",
    "    audio_normalized = audio_as_np_float32 / max_val\n",
    "\n",
    "    return audio_normalized\n",
    "\n",
    "def get_label(file_path):\n",
    "    # label is in the filename\n",
    "    parts = file_path.split(\"/\")\n",
    "    label = int(parts[2].split(\"_\")[0])\n",
    "\n",
    "    return label\n"
   ]
  },
  {
   "cell_type": "code",
   "execution_count": 4,
   "metadata": {},
   "outputs": [
    {
     "name": "stdout",
     "output_type": "stream",
     "text": [
      "3499.4746666666665\n",
      "1180.9471707171701\n",
      "5861\n"
     ]
    }
   ],
   "source": [
    "# to remove outliers \n",
    "X_unfiltered = [(file_path, decode_audio(file_path)) for file_path in filenames]\n",
    "X_lengths = [audio.shape[0] for _, audio in X_unfiltered]\n",
    "\n",
    "max_length = int(np.mean(X_lengths) + 2 * np.std(X_lengths))\n",
    "print(np.mean(X_lengths))\n",
    "print(np.std(X_lengths))\n",
    "print(max_length)"
   ]
  },
  {
   "cell_type": "code",
   "execution_count": 8,
   "metadata": {},
   "outputs": [],
   "source": [
    "def spect(signal):\n",
    "    spectogram = np.array([[]])\n",
    "    for i in range(23):\n",
    "        window_fft = np.fft.rfft(signal[i * 256: (i + 1) * 256])[:-1]\n",
    "        window_fft = np.abs(window_fft) / 20\n",
    "        spectogram = np.append(spectogram, window_fft)\n",
    "        break\n",
    "    spectogram = np.array(spectogram)\n",
    "    spectogram = librosa.amplitude_to_db(spectogram, ref=np.max)\n",
    "    return spectogram"
   ]
  },
  {
   "cell_type": "code",
   "execution_count": 9,
   "metadata": {},
   "outputs": [
    {
     "name": "stdout",
     "output_type": "stream",
     "text": [
      "-21.66779739873474\n",
      "10.53476079667956\n",
      "[-1.30474902 -1.94590297 -0.94619636 -0.00911999 -0.01218169 -0.43948709\n",
      " -0.1617689   0.28056043  0.5993244   1.14326905  1.4278225   1.26931729\n",
      "  1.77146238  1.28760339  1.35690005  1.21453511  0.11155465  0.66462038\n",
      " -0.22953543  0.67056314  0.81456547  1.26067926  0.65766089  0.70312877\n",
      "  0.65872128 -0.43925741 -0.52643484  0.47232693 -0.20943846 -0.59652329\n",
      " -0.21836718 -2.19296312 -0.74731535 -1.71058039 -1.73161973 -1.6176972\n",
      " -1.11318044 -1.33446365 -1.23701542 -1.33210912 -2.77675598 -1.62078209\n",
      " -1.48217492 -1.24853816 -1.48182966 -1.61052528 -1.33138512 -1.46279609\n",
      " -0.99211193 -1.07067379 -0.52024418 -0.93342042 -1.07697976 -0.44670709\n",
      " -1.655791    0.71551945  0.90692244  0.18123309  1.03213291 -0.37020292\n",
      "  0.64610297  0.21180795 -0.4941242  -0.2305033  -0.13707033  0.00373452\n",
      " -1.40849494  0.04640555 -0.79130466 -0.67625952 -1.33351095 -0.43478972\n",
      " -0.62582124 -0.2287262   0.35141794  0.04077022  0.88385248  0.9728663\n",
      "  0.40704676  0.72178637  1.12763445  2.05679064  1.49761478  1.20806685\n",
      "  0.40740476  0.80053635  0.183564    0.03860898 -0.64422227  0.03074812\n",
      " -0.28745683 -0.97152211 -1.13630407 -1.70269099 -0.03288274 -1.02464539\n",
      " -0.3185659   0.67802874 -0.38903061  0.52392004  0.82855336  0.81441882\n",
      "  1.16954284  0.31120483  0.53955769  1.00226431  0.49913755  0.65580131\n",
      "  1.48992957  1.56736418  1.32521436  1.39682084  1.48474065  0.95452878\n",
      "  0.19932858  0.71880867  1.44528844  0.9067404   0.6625351   0.61077726\n",
      "  0.67579502  0.92613483  0.5695035   0.14967343  0.06076272  0.54128748\n",
      " -0.17312617 -0.36696898]\n"
     ]
    }
   ],
   "source": [
    "# padding function from\n",
    "# https://towardsdatascience.com/audio-deep-learning-made-simple-sound-classification-step-by-step-cebc936bbe5\n",
    "\n",
    "\n",
    "_, x_val = X_unfiltered[0]\n",
    "\n",
    "# pad_len = max_length - len(x_val)\n",
    "\n",
    "# x_val = np.pad(\n",
    "#     x_val, (0, pad_len), \n",
    "#     'constant', constant_values=(0, 0))\n",
    "\n",
    "spec_x = spect(x_val[:256])\n",
    "\n",
    "mean = np.mean(spec_x)\n",
    "std = np.std(spec_x)\n",
    "spec_x = spec_x - mean\n",
    "spec_x = spec_x / std\n",
    "\n",
    "print(mean)\n",
    "print(std)\n",
    "\n",
    "print(spec_x[:129])\n",
    "\n"
   ]
  },
  {
   "cell_type": "code",
   "execution_count": 25,
   "metadata": {},
   "outputs": [
    {
     "data": {
      "text/plain": [
       "array([28.+0.j        , -4.+9.65685425j, -4.+4.j        , -4.+1.65685425j,\n",
       "       -4.+0.j        ])"
      ]
     },
     "execution_count": 25,
     "metadata": {},
     "output_type": "execute_result"
    }
   ],
   "source": [
    "np.fft.rfft([0, 1, 2, 3, 4, 5, 6, 7])"
   ]
  },
  {
   "cell_type": "code",
   "execution_count": 26,
   "metadata": {},
   "outputs": [
    {
     "data": {
      "text/plain": [
       "array([28.        , 10.45250372,  5.65685425,  4.3295688 ,  4.        ])"
      ]
     },
     "execution_count": 26,
     "metadata": {},
     "output_type": "execute_result"
    }
   ],
   "source": [
    "abs(np.fft.rfft([0, 1, 2, 3, 4, 5, 6, 7]))"
   ]
  },
  {
   "cell_type": "code",
   "execution_count": null,
   "metadata": {},
   "outputs": [],
   "source": []
  }
 ],
 "metadata": {
  "kernelspec": {
   "display_name": "Python 3",
   "language": "python",
   "name": "python3"
  },
  "language_info": {
   "codemirror_mode": {
    "name": "ipython",
    "version": 3
   },
   "file_extension": ".py",
   "mimetype": "text/x-python",
   "name": "python",
   "nbconvert_exporter": "python",
   "pygments_lexer": "ipython3",
   "version": "3.7.7"
  }
 },
 "nbformat": 4,
 "nbformat_minor": 5
}
