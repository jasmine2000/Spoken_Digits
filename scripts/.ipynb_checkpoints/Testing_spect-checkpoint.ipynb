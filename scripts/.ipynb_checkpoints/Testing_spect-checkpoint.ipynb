{
 "cells": [
  {
   "cell_type": "code",
   "execution_count": 2,
   "metadata": {},
   "outputs": [],
   "source": [
    "import wave\n",
    "import glob\n",
    "import random\n",
    "\n",
    "# for data, model, training\n",
    "import pandas as pd\n",
    "import numpy as np\n",
    "import tensorflow as tf\n",
    "from tensorflow.keras import layers\n",
    "from tensorflow.keras import models\n",
    "from scipy import signal\n",
    "\n",
    "import librosa\n",
    "import librosa.display\n",
    "\n",
    "# for visuals and statistics\n",
    "import matplotlib.pyplot as plt\n",
    "import seaborn as sns\n",
    "\n",
    "# Set the seed value for experiment reproducibility.\n",
    "seed = 42\n",
    "random.seed(42)\n",
    "tf.random.set_random_seed(seed)\n",
    "np.random.seed(seed)"
   ]
  },
  {
   "cell_type": "code",
   "execution_count": 5,
   "metadata": {},
   "outputs": [
    {
     "name": "stdout",
     "output_type": "stream",
     "text": [
      "['./recordings/2_jackson_13.wav', './recordings/6_george_34.wav', './recordings/7_george_5.wav', './recordings/1_yweweler_21.wav', './recordings/2_george_42.wav']\n"
     ]
    }
   ],
   "source": [
    "def get_and_shuffle_filenames(dir_name):\n",
    "    filenames = glob.glob(str(data_dir) + \"/*\")\n",
    "    random.shuffle(filenames)\n",
    "    return filenames\n",
    "\n",
    "data_dir = \"./recordings\"\n",
    "filenames = get_and_shuffle_filenames(data_dir)\n",
    "\n",
    "print(filenames[:5])"
   ]
  },
  {
   "cell_type": "code",
   "execution_count": 6,
   "metadata": {},
   "outputs": [],
   "source": [
    "# https://www.tensorflow.org/tutorials/audio/simple_audio\n",
    "\n",
    "def decode_audio(file_path):\n",
    "    # read file to get buffer                                                                                               \n",
    "    ifile = wave.open(file_path)\n",
    "    samples = ifile.getnframes()\n",
    "    audio = ifile.readframes(samples)\n",
    "\n",
    "    # convert buffer to float32 using NumPy                                                                                 \n",
    "    audio_as_np_int16 = np.frombuffer(audio, dtype=np.int16)\n",
    "    audio_as_np_float32 = audio_as_np_int16.astype(np.float32)\n",
    "    \n",
    "    # get largest absolute value\n",
    "    max_val = np.max(\n",
    "        np.absolute(\n",
    "            [np.max(audio_as_np_float32), np.min(audio_as_np_float32)]))\n",
    "    audio_normalized = audio_as_np_float32 / max_val\n",
    "\n",
    "    return audio_normalized\n",
    "\n",
    "def get_label(file_path):\n",
    "    # label is in the filename\n",
    "    parts = file_path.split(\"/\")\n",
    "    label = int(parts[2].split(\"_\")[0])\n",
    "\n",
    "    return label\n"
   ]
  },
  {
   "cell_type": "code",
   "execution_count": 7,
   "metadata": {},
   "outputs": [
    {
     "name": "stdout",
     "output_type": "stream",
     "text": [
      "3499.4746666666665\n",
      "1180.9471707171701\n",
      "5861\n"
     ]
    }
   ],
   "source": [
    "# to remove outliers \n",
    "X_unfiltered = [(file_path, decode_audio(file_path)) for file_path in filenames]\n",
    "X_lengths = [audio.shape[0] for _, audio in X_unfiltered]\n",
    "\n",
    "max_length = int(np.mean(X_lengths) + 2 * np.std(X_lengths))\n",
    "print(np.mean(X_lengths))\n",
    "print(np.std(X_lengths))\n",
    "print(max_length)"
   ]
  },
  {
   "cell_type": "code",
   "execution_count": 24,
   "metadata": {},
   "outputs": [],
   "source": [
    "def spect(signal):\n",
    "    spectogram = np.array([[]])\n",
    "    for i in range(23):\n",
    "        window_fft = np.fft.rfft(signal[i * 256: (i + 1) * 256])[:-1]\n",
    "        window_fft = np.abs(window_fft)\n",
    "        spectogram = np.append(spectogram, window_fft)\n",
    "        break\n",
    "    spectogram = np.array(spectogram)\n",
    "    spectogram = librosa.amplitude_to_db(spectogram, ref=np.max)\n",
    "    return spectogram"
   ]
  },
  {
   "cell_type": "code",
   "execution_count": 25,
   "metadata": {},
   "outputs": [
    {
     "name": "stdout",
     "output_type": "stream",
     "text": [
      "0.10676692\n",
      "[-35.41301618 -42.16741971 -31.63574968 -21.76387435 -21.79612863\n",
      " -26.29768879 -23.37199405 -18.71216037 -15.35405817  -9.6237314\n",
      "  -6.62602895  -8.2958434   -3.00586492  -8.10320372  -7.37317991\n",
      "  -8.87296058 -20.49259586 -14.66618063 -24.08589822 -14.6035751\n",
      " -13.08654499  -8.38684294 -14.73949728 -14.26050398 -14.72832629\n",
      " -26.29526913 -27.21366248 -16.69194615 -23.87418149 -27.95202755\n",
      " -23.96824344 -44.77013932 -29.54058586 -39.68835259 -39.90999706\n",
      " -38.70985044 -33.39488708 -35.72605273 -34.69945898 -35.7012483\n",
      " -50.92025742 -38.74234902 -37.28215563 -34.8208483  -37.2785184\n",
      " -38.63429601 -35.69362118 -37.07800429 -32.11945928 -32.94708966\n",
      " -27.1484454  -31.50115825 -33.01352157 -26.37374978 -39.11115952\n",
      " -14.12997115 -12.11358638 -19.75855015 -10.7945241  -25.56779663\n",
      " -14.86125714 -19.43645126 -26.87327767 -24.09609453 -23.11180057\n",
      " -21.62845507 -36.50595466 -21.17892605 -30.00400271 -28.79202965\n",
      " -35.71601624 -26.24820308 -28.26067449 -24.07737321 -17.9656935\n",
      " -21.23829286 -12.35662299 -11.41888369 -17.37965715 -14.06395067\n",
      "  -9.78843818   0.          -5.89078396  -8.94110213 -17.37588566\n",
      " -13.23433844 -19.73399461 -21.26106102 -28.45452492 -21.34387333\n",
      " -24.69608635 -31.90255043 -33.63848895 -39.60523964 -22.01420917\n",
      " -32.46219149 -25.02381293 -14.52492681 -25.76614185 -16.1484251\n",
      " -12.93918594 -13.08808997  -9.34694329 -18.38932894 -15.98368619\n",
      " -11.10918264 -16.40950266 -14.75908742  -5.97174578  -5.15599067\n",
      "  -7.7069811   -6.95262395  -6.02640979 -11.612065   -19.56791849\n",
      " -14.09532004  -6.44202938 -12.11550423 -14.68814861 -15.23340503\n",
      " -14.54845853 -11.91118855 -15.66821423 -20.09102362 -21.02767671\n",
      " -15.96546326 -23.49164021 -25.53372781]\n"
     ]
    }
   ],
   "source": [
    "# padding function from\n",
    "# https://towardsdatascience.com/audio-deep-learning-made-simple-sound-classification-step-by-step-cebc936bbe5\n",
    "\n",
    "\n",
    "_, x_val = X_unfiltered[0]\n",
    "\n",
    "# pad_len = max_length - len(x_val)\n",
    "\n",
    "# x_val = np.pad(\n",
    "#     x_val, (0, pad_len), \n",
    "#     'constant', constant_values=(0, 0))\n",
    "\n",
    "spec_x = spect(x_val)\n",
    "\n",
    "print(spec_x[:129])\n",
    "\n"
   ]
  },
  {
   "cell_type": "code",
   "execution_count": 25,
   "metadata": {},
   "outputs": [
    {
     "data": {
      "text/plain": [
       "array([28.+0.j        , -4.+9.65685425j, -4.+4.j        , -4.+1.65685425j,\n",
       "       -4.+0.j        ])"
      ]
     },
     "execution_count": 25,
     "metadata": {},
     "output_type": "execute_result"
    }
   ],
   "source": [
    "np.fft.rfft([0, 1, 2, 3, 4, 5, 6, 7])"
   ]
  },
  {
   "cell_type": "code",
   "execution_count": 26,
   "metadata": {},
   "outputs": [
    {
     "data": {
      "text/plain": [
       "array([28.        , 10.45250372,  5.65685425,  4.3295688 ,  4.        ])"
      ]
     },
     "execution_count": 26,
     "metadata": {},
     "output_type": "execute_result"
    }
   ],
   "source": [
    "abs(np.fft.rfft([0, 1, 2, 3, 4, 5, 6, 7]))"
   ]
  },
  {
   "cell_type": "code",
   "execution_count": null,
   "metadata": {},
   "outputs": [],
   "source": []
  }
 ],
 "metadata": {
  "kernelspec": {
   "display_name": "Python 3",
   "language": "python",
   "name": "python3"
  },
  "language_info": {
   "codemirror_mode": {
    "name": "ipython",
    "version": 3
   },
   "file_extension": ".py",
   "mimetype": "text/x-python",
   "name": "python",
   "nbconvert_exporter": "python",
   "pygments_lexer": "ipython3",
   "version": "3.7.7"
  }
 },
 "nbformat": 4,
 "nbformat_minor": 5
}
