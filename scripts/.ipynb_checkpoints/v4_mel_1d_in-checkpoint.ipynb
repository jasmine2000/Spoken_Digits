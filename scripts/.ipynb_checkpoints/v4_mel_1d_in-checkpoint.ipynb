{
 "cells": [
  {
   "cell_type": "code",
   "execution_count": 1,
   "id": "e4859548",
   "metadata": {},
   "outputs": [],
   "source": [
    "import wave\n",
    "import glob\n",
    "import random\n",
    "\n",
    "# for data, model, training\n",
    "import pandas as pd\n",
    "import numpy as np\n",
    "import tensorflow as tf\n",
    "from tensorflow.keras import layers\n",
    "from tensorflow.keras import models\n",
    "from scipy import signal\n",
    "\n",
    "import librosa\n",
    "import librosa.display\n",
    "\n",
    "# for visuals and statistics\n",
    "import matplotlib.pyplot as plt\n",
    "import seaborn as sns\n",
    "\n",
    "# Set the seed value for experiment reproducibility.\n",
    "seed = 42\n",
    "random.seed(42)\n",
    "tf.random.set_seed(seed)\n",
    "np.random.seed(seed)"
   ]
  },
  {
   "cell_type": "code",
   "execution_count": 2,
   "id": "1f726f73",
   "metadata": {},
   "outputs": [
    {
     "name": "stdout",
     "output_type": "stream",
     "text": [
      "['../recordings/2_jackson_13.wav', '../recordings/6_george_34.wav', '../recordings/7_george_5.wav', '../recordings/1_yweweler_21.wav', '../recordings/2_george_42.wav']\n"
     ]
    }
   ],
   "source": [
    "def get_and_shuffle_filenames(dir_name):\n",
    "    filenames = glob.glob(str(data_dir) + \"/*\")\n",
    "    random.shuffle(filenames)\n",
    "    return filenames\n",
    "\n",
    "data_dir = \"../recordings\"\n",
    "filenames = get_and_shuffle_filenames(data_dir)\n",
    "\n",
    "print(filenames[:5])"
   ]
  },
  {
   "cell_type": "code",
   "execution_count": 3,
   "id": "0840a257",
   "metadata": {},
   "outputs": [],
   "source": [
    "# https://www.tensorflow.org/tutorials/audio/simple_audio\n",
    "\n",
    "def decode_audio(file_path):\n",
    "    # read file to get buffer                                                                                               \n",
    "    ifile = wave.open(file_path)\n",
    "    samples = ifile.getnframes()\n",
    "    audio = ifile.readframes(samples)\n",
    "\n",
    "    # convert buffer to float32 using NumPy                                                                                 \n",
    "    audio_as_np_int16 = np.frombuffer(audio, dtype=np.int16)\n",
    "    audio_as_np_float32 = audio_as_np_int16.astype(np.float32)\n",
    "    \n",
    "    # get largest absolute value\n",
    "    max_val = np.max(\n",
    "        np.absolute(\n",
    "            [np.max(audio_as_np_float32), np.min(audio_as_np_float32)]))\n",
    "    audio_normalized = audio_as_np_float32 / max_val\n",
    "\n",
    "    return audio_normalized\n",
    "\n",
    "def get_label(file_path):\n",
    "    # label is in the filename\n",
    "    parts = file_path.split(\"/\")\n",
    "    label = int(parts[2].split(\"_\")[0])\n",
    "\n",
    "    return label\n"
   ]
  },
  {
   "cell_type": "code",
   "execution_count": 4,
   "id": "b79f56e9",
   "metadata": {},
   "outputs": [
    {
     "name": "stdout",
     "output_type": "stream",
     "text": [
      "3499.4746666666665\n",
      "1180.9471707171701\n",
      "5861\n"
     ]
    }
   ],
   "source": [
    "# to remove outliers \n",
    "X_unfiltered = [(file_path, decode_audio(file_path)) for file_path in filenames]\n",
    "X_lengths = [audio.shape[0] for _, audio in X_unfiltered]\n",
    "\n",
    "max_length = int(np.mean(X_lengths) + 2 * np.std(X_lengths))\n",
    "print(np.mean(X_lengths))\n",
    "print(np.std(X_lengths))\n",
    "print(max_length)"
   ]
  },
  {
   "cell_type": "code",
   "execution_count": 5,
   "id": "aa9fb227",
   "metadata": {},
   "outputs": [],
   "source": [
    "def mel_spec(signal):\n",
    "    mel_spect = librosa.feature.melspectrogram(y=signal, sr=8000, n_fft=248, hop_length=248)\n",
    "    mel_spect = librosa.power_to_db(mel_spect, ref=np.max)\n",
    "    return mel_spect"
   ]
  },
  {
   "cell_type": "code",
   "execution_count": 7,
   "id": "6ec43109",
   "metadata": {},
   "outputs": [
    {
     "name": "stdout",
     "output_type": "stream",
     "text": [
      "2911\n",
      "3072\n",
      "[2 6 7 1 2 6 6 4 8 3]\n"
     ]
    }
   ],
   "source": [
    "# padding function from\n",
    "# https://towardsdatascience.com/audio-deep-learning-made-simple-sound-classification-step-by-step-cebc936bbe5\n",
    "\n",
    "X_full = [] # padded X values\n",
    "y_full = []\n",
    "\n",
    "numbers = [0] * 10\n",
    "\n",
    "for file_path, audio in X_unfiltered:\n",
    "    x_val = audio\n",
    "    y_val = get_label(file_path)\n",
    "    \n",
    "    signal_length = audio.shape[0]\n",
    "    if signal_length > max_length:\n",
    "        numbers[y_val] += 1\n",
    "    else:\n",
    "        pad_len = max_length - signal_length\n",
    "        \n",
    "        x_val = np.pad(\n",
    "            x_val, (0, pad_len), \n",
    "            'constant', constant_values=(0, 0))\n",
    "        \n",
    "        mel_x = mel_spec(x_val)\n",
    "        \n",
    "        X_full.append(mel_x.flatten())\n",
    "        y_full.append(y_val)\n",
    "\n",
    "X_full = np.array(X_full)\n",
    "y_full = np.array(y_full)\n",
    "\n",
    "num_samples, sample_w = X_full.shape\n",
    "print(num_samples)\n",
    "print(sample_w)\n",
    "print(y_full[:10])"
   ]
  },
  {
   "cell_type": "code",
   "execution_count": 8,
   "id": "e1350616",
   "metadata": {},
   "outputs": [
    {
     "name": "stdout",
     "output_type": "stream",
     "text": [
      "   quantities\n",
      "0          11\n",
      "1           8\n",
      "2           6\n",
      "3           5\n",
      "4           3\n",
      "5           6\n",
      "6          23\n",
      "7          11\n",
      "8           6\n",
      "9          10\n",
      "89\n"
     ]
    }
   ],
   "source": [
    "# quantities = {\"y\": list(range(10)), \"quantities\": numbers}\n",
    "df = pd.DataFrame.from_dict({\"quantities\": numbers})\n",
    "print(df)\n",
    "print(sum(numbers))"
   ]
  },
  {
   "cell_type": "code",
   "execution_count": 9,
   "id": "957899b0",
   "metadata": {},
   "outputs": [],
   "source": [
    "mean = np.mean(X_full)\n",
    "std = np.std(X_full)\n",
    "X_full = X_full - mean\n",
    "X_full = X_full / std"
   ]
  },
  {
   "cell_type": "code",
   "execution_count": 10,
   "id": "50ba8ee7",
   "metadata": {},
   "outputs": [],
   "source": [
    "# rows = 3\n",
    "# cols = 3\n",
    "# n = rows * cols\n",
    "# fig, axes = plt.subplots(rows, cols, figsize=(12, 14))\n",
    "\n",
    "# for i, (audio, label) in enumerate(list(zip(X_full, y_full))[:n]):\n",
    "#     r = i // cols\n",
    "#     c = i % cols\n",
    "#     ax = axes[r][c]\n",
    "    \n",
    "#     librosa.display.specshow(audio, y_axis='mel', fmax=8000, x_axis='time', ax=axes[r][c]);\n",
    "# #     plt.title('Mel Spectrogram');\n",
    "# #     plt.colorbar(format='%+2.0f dB');\n",
    "    \n",
    "# #     ax.plot(audio)\n",
    "# #     ax.set_yticks(np.arange(-1,1.5,0.5))\n",
    "#     ax.set_title(label)\n",
    "\n",
    "# plt.show()"
   ]
  },
  {
   "cell_type": "code",
   "execution_count": 11,
   "id": "5e77497b",
   "metadata": {},
   "outputs": [
    {
     "name": "stdout",
     "output_type": "stream",
     "text": [
      "Training set size 2328\n",
      "Validation set size 291\n",
      "Test set size 292\n"
     ]
    }
   ],
   "source": [
    "tenth = int(num_samples * 0.1)\n",
    "eightyth = tenth * 8\n",
    "\n",
    "X_train = X_full[:eightyth]\n",
    "y_train = y_full[:eightyth]\n",
    "\n",
    "X_val = X_full[eightyth: eightyth + tenth]\n",
    "y_val = y_full[eightyth: eightyth + tenth]\n",
    "\n",
    "X_test = X_full[eightyth + tenth:]\n",
    "y_test = y_full[eightyth + tenth:]\n",
    "\n",
    "print('Training set size', len(X_train))\n",
    "print('Validation set size', len(X_val))\n",
    "print('Test set size', len(X_test))"
   ]
  },
  {
   "cell_type": "code",
   "execution_count": 14,
   "id": "6a5a438f",
   "metadata": {
    "scrolled": true
   },
   "outputs": [
    {
     "name": "stdout",
     "output_type": "stream",
     "text": [
      "Model: \"sequential_1\"\n",
      "_________________________________________________________________\n",
      " Layer (type)                Output Shape              Param #   \n",
      "=================================================================\n",
      " reshape (Reshape)           (None, 128, 24, 1)        0         \n",
      "                                                                 \n",
      " conv2d (Conv2D)             (None, 126, 22, 32)       320       \n",
      "                                                                 \n",
      " conv2d_1 (Conv2D)           (None, 124, 20, 64)       18496     \n",
      "                                                                 \n",
      " max_pooling2d (MaxPooling2D  (None, 62, 10, 64)       0         \n",
      " )                                                               \n",
      "                                                                 \n",
      " dropout (Dropout)           (None, 62, 10, 64)        0         \n",
      "                                                                 \n",
      " flatten (Flatten)           (None, 39680)             0         \n",
      "                                                                 \n",
      " dense (Dense)               (None, 128)               5079168   \n",
      "                                                                 \n",
      " dropout_1 (Dropout)         (None, 128)               0         \n",
      "                                                                 \n",
      " dense_1 (Dense)             (None, 10)                1290      \n",
      "                                                                 \n",
      "=================================================================\n",
      "Total params: 5,099,274\n",
      "Trainable params: 5,099,274\n",
      "Non-trainable params: 0\n",
      "_________________________________________________________________\n"
     ]
    }
   ],
   "source": [
    "# INPUTS ARE NORMALIZED\n",
    "\n",
    "model = tf.keras.models.Sequential()\n",
    "# model.add(tf.keras.layers.Input(shape=(sample_w,)))\n",
    "model.add(tf.keras.layers.Reshape((128, 24, 1), input_shape=(sample_w,)))\n",
    "model.add(tf.keras.layers.Conv2D(32, 3, activation='relu'))\n",
    "model.add(tf.keras.layers.Conv2D(64, 3, activation='relu'))\n",
    "model.add(tf.keras.layers.MaxPooling2D())\n",
    "model.add(tf.keras.layers.Dropout(0.25))\n",
    "model.add(tf.keras.layers.Flatten())\n",
    "model.add(tf.keras.layers.Dense(128, activation=\"relu\"))\n",
    "model.add(tf.keras.layers.Dropout(0.5))\n",
    "model.add(tf.keras.layers.Dense(10, activation=\"softmax\"))\n",
    "\n",
    "model.build()\n",
    "model.summary()"
   ]
  },
  {
   "cell_type": "code",
   "execution_count": 15,
   "id": "44f1598d",
   "metadata": {},
   "outputs": [],
   "source": [
    "model.compile(loss=\"sparse_categorical_crossentropy\",\n",
    "             optimizer=\"adam\",\n",
    "             metrics=[\"accuracy\"])"
   ]
  },
  {
   "cell_type": "code",
   "execution_count": 16,
   "id": "0bd417e5",
   "metadata": {},
   "outputs": [
    {
     "name": "stdout",
     "output_type": "stream",
     "text": [
      "Epoch 1/30\n",
      "73/73 [==============================] - 8s 99ms/step - loss: 2.1613 - accuracy: 0.2358 - val_loss: 1.4708 - val_accuracy: 0.5258\n",
      "Epoch 2/30\n",
      "73/73 [==============================] - 8s 109ms/step - loss: 1.3730 - accuracy: 0.5185 - val_loss: 0.7814 - val_accuracy: 0.8282\n",
      "Epoch 3/30\n",
      "73/73 [==============================] - 8s 111ms/step - loss: 0.9286 - accuracy: 0.6632 - val_loss: 0.4510 - val_accuracy: 0.8729\n",
      "Epoch 4/30\n",
      "73/73 [==============================] - 8s 112ms/step - loss: 0.7402 - accuracy: 0.7358 - val_loss: 0.3332 - val_accuracy: 0.9072\n",
      "Epoch 5/30\n",
      "73/73 [==============================] - 8s 109ms/step - loss: 0.6428 - accuracy: 0.7663 - val_loss: 0.2385 - val_accuracy: 0.9210\n",
      "Epoch 6/30\n",
      "73/73 [==============================] - 8s 111ms/step - loss: 0.4998 - accuracy: 0.8204 - val_loss: 0.2526 - val_accuracy: 0.9210\n",
      "Epoch 7/30\n",
      "73/73 [==============================] - 8s 114ms/step - loss: 0.4624 - accuracy: 0.8299 - val_loss: 0.1743 - val_accuracy: 0.9519\n",
      "Epoch 8/30\n",
      "73/73 [==============================] - 9s 123ms/step - loss: 0.3949 - accuracy: 0.8475 - val_loss: 0.1674 - val_accuracy: 0.9416\n",
      "Epoch 9/30\n",
      "73/73 [==============================] - 11s 150ms/step - loss: 0.3728 - accuracy: 0.8552 - val_loss: 0.1652 - val_accuracy: 0.9519\n",
      "Epoch 10/30\n",
      "73/73 [==============================] - 11s 153ms/step - loss: 0.3379 - accuracy: 0.8789 - val_loss: 0.1351 - val_accuracy: 0.9725\n",
      "Epoch 11/30\n",
      "73/73 [==============================] - 11s 149ms/step - loss: 0.2965 - accuracy: 0.8952 - val_loss: 0.1504 - val_accuracy: 0.9519\n",
      "Epoch 12/30\n",
      "73/73 [==============================] - 10s 143ms/step - loss: 0.2776 - accuracy: 0.8969 - val_loss: 0.1142 - val_accuracy: 0.9553\n",
      "Epoch 13/30\n",
      "73/73 [==============================] - 11s 143ms/step - loss: 0.2519 - accuracy: 0.9046 - val_loss: 0.1752 - val_accuracy: 0.9519\n",
      "Epoch 14/30\n",
      "73/73 [==============================] - 9s 125ms/step - loss: 0.2338 - accuracy: 0.9111 - val_loss: 0.1231 - val_accuracy: 0.9588\n",
      "Epoch 15/30\n",
      "73/73 [==============================] - 9s 120ms/step - loss: 0.2163 - accuracy: 0.9201 - val_loss: 0.0823 - val_accuracy: 0.9725\n",
      "Epoch 16/30\n",
      "73/73 [==============================] - 9s 120ms/step - loss: 0.2037 - accuracy: 0.9210 - val_loss: 0.0881 - val_accuracy: 0.9759\n",
      "Epoch 17/30\n",
      "73/73 [==============================] - 9s 123ms/step - loss: 0.2166 - accuracy: 0.9180 - val_loss: 0.0993 - val_accuracy: 0.9656\n",
      "Epoch 18/30\n",
      "73/73 [==============================] - 9s 123ms/step - loss: 0.1884 - accuracy: 0.9265 - val_loss: 0.1277 - val_accuracy: 0.9725\n",
      "Epoch 19/30\n",
      "73/73 [==============================] - 9s 120ms/step - loss: 0.1948 - accuracy: 0.9235 - val_loss: 0.1342 - val_accuracy: 0.9622\n",
      "Epoch 20/30\n",
      "73/73 [==============================] - 10s 134ms/step - loss: 0.1893 - accuracy: 0.9278 - val_loss: 0.1175 - val_accuracy: 0.9588\n",
      "Epoch 21/30\n",
      "73/73 [==============================] - 11s 144ms/step - loss: 0.1633 - accuracy: 0.9356 - val_loss: 0.1146 - val_accuracy: 0.9553\n",
      "Epoch 22/30\n",
      "73/73 [==============================] - 9s 126ms/step - loss: 0.1645 - accuracy: 0.9386 - val_loss: 0.1016 - val_accuracy: 0.9656\n",
      "Epoch 23/30\n",
      "73/73 [==============================] - 9s 119ms/step - loss: 0.1516 - accuracy: 0.9437 - val_loss: 0.0953 - val_accuracy: 0.9794\n",
      "Epoch 24/30\n",
      "73/73 [==============================] - 9s 120ms/step - loss: 0.1564 - accuracy: 0.9450 - val_loss: 0.1097 - val_accuracy: 0.9828\n",
      "Epoch 25/30\n",
      "73/73 [==============================] - 9s 117ms/step - loss: 0.1661 - accuracy: 0.9338 - val_loss: 0.1213 - val_accuracy: 0.9691\n",
      "Epoch 26/30\n",
      "73/73 [==============================] - 9s 120ms/step - loss: 0.1433 - accuracy: 0.9446 - val_loss: 0.1004 - val_accuracy: 0.9759\n",
      "Epoch 27/30\n",
      "73/73 [==============================] - 9s 128ms/step - loss: 0.1437 - accuracy: 0.9454 - val_loss: 0.1089 - val_accuracy: 0.9691\n",
      "Epoch 28/30\n",
      "73/73 [==============================] - 11s 157ms/step - loss: 0.1318 - accuracy: 0.9467 - val_loss: 0.1141 - val_accuracy: 0.9656\n",
      "Epoch 29/30\n",
      "73/73 [==============================] - 10s 132ms/step - loss: 0.1400 - accuracy: 0.9442 - val_loss: 0.1315 - val_accuracy: 0.9656\n",
      "Epoch 30/30\n",
      "73/73 [==============================] - 9s 123ms/step - loss: 0.1068 - accuracy: 0.9570 - val_loss: 0.1512 - val_accuracy: 0.9588\n"
     ]
    }
   ],
   "source": [
    "history = model.fit(X_train, y_train, epochs=30,\n",
    "                   validation_data=(X_val, y_val))"
   ]
  },
  {
   "cell_type": "code",
   "execution_count": 17,
   "id": "9a2ebe2e",
   "metadata": {},
   "outputs": [
    {
     "name": "stdout",
     "output_type": "stream",
     "text": [
      "10/10 [==============================] - 0s 26ms/step - loss: 0.1099 - accuracy: 0.9658\n"
     ]
    },
    {
     "data": {
      "text/plain": [
       "[0.10989414900541306, 0.965753436088562]"
      ]
     },
     "execution_count": 17,
     "metadata": {},
     "output_type": "execute_result"
    }
   ],
   "source": [
    "model.evaluate(X_test, y_test)"
   ]
  },
  {
   "cell_type": "code",
   "execution_count": 18,
   "id": "11bca150",
   "metadata": {},
   "outputs": [
    {
     "data": {
      "image/png": "[encoded data removed]",
      "text/plain": [
       "<Figure size 720x576 with 2 Axes>"
      ]
     },
     "metadata": {
      "needs_background": "light"
     },
     "output_type": "display_data"
    }
   ],
   "source": [
    "y_pred = np.argmax(model.predict(X_test), axis=1)\n",
    "\n",
    "all_labels = list(range(10))\n",
    "\n",
    "confusion_mtx = tf.math.confusion_matrix(y_test, y_pred)\n",
    "plt.figure(figsize=(10, 8))\n",
    "sns.heatmap(confusion_mtx,\n",
    "            xticklabels=all_labels,\n",
    "            yticklabels=all_labels,\n",
    "            annot=True, fmt='g')\n",
    "plt.xlabel('Prediction')\n",
    "plt.ylabel('Label')\n",
    "plt.show()"
   ]
  },
  {
   "cell_type": "code",
   "execution_count": 20,
   "id": "c68e4734",
   "metadata": {},
   "outputs": [],
   "source": [
    "model.save(\"model_v4.h5\")"
   ]
  },
  {
   "cell_type": "code",
   "execution_count": null,
   "id": "8244d235",
   "metadata": {},
   "outputs": [],
   "source": []
  }
 ],
 "metadata": {
  "kernelspec": {
   "display_name": "Python 3 (ipykernel)",
   "language": "python",
   "name": "python3"
  },
  "language_info": {
   "codemirror_mode": {
    "name": "ipython",
    "version": 3
   },
   "file_extension": ".py",
   "mimetype": "text/x-python",
   "name": "python",
   "nbconvert_exporter": "python",
   "pygments_lexer": "ipython3",
   "version": "3.7.7"
  }
 },
 "nbformat": 4,
 "nbformat_minor": 5
}
