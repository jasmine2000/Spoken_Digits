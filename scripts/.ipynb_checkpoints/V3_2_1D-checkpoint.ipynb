{
 "cells": [
  {
   "cell_type": "code",
   "execution_count": 1,
   "id": "e4859548",
   "metadata": {},
   "outputs": [],
   "source": [
    "import random\n",
    "\n",
    "# for data, model, training\n",
    "import pandas as pd\n",
    "import numpy as np\n",
    "import tensorflow as tf\n",
    "import librosa\n",
    "\n",
    "import matplotlib.pyplot as plt\n",
    "import seaborn as sns\n",
    "\n",
    "import basics\n",
    "\n",
    "# Set the seed value for experiment reproducibility.\n",
    "seed = 42\n",
    "random.seed(42)\n",
    "tf.random.set_seed(seed)\n",
    "np.random.seed(seed)"
   ]
  },
  {
   "cell_type": "code",
   "execution_count": 2,
   "id": "1f726f73",
   "metadata": {},
   "outputs": [
    {
     "name": "stdout",
     "output_type": "stream",
     "text": [
      "['./recordings/2_jackson_13.wav', './recordings/6_george_34.wav', './recordings/7_george_5.wav', './recordings/1_yweweler_21.wav', './recordings/2_george_42.wav']\n"
     ]
    }
   ],
   "source": [
    "filenames = basics.get_and_shuffle_filenames(\"./recordings\")\n",
    "\n",
    "print(filenames[:5])"
   ]
  },
  {
   "cell_type": "code",
   "execution_count": 3,
   "id": "b79f56e9",
   "metadata": {},
   "outputs": [
    {
     "name": "stdout",
     "output_type": "stream",
     "text": [
      "5632\n"
     ]
    }
   ],
   "source": [
    "X_unfiltered = [(file_path, basics.decode_audio(file_path)) for file_path in filenames]\n",
    "\n",
    "# to remove outliers \n",
    "max_length = basics.get_max_length(X_unfiltered)\n",
    "print(max_length)"
   ]
  },
  {
   "cell_type": "code",
   "execution_count": 4,
   "id": "aa9fb227",
   "metadata": {},
   "outputs": [],
   "source": [
    "def mel_spec(signal):\n",
    "    mel_spect = librosa.feature.melspectrogram(y=signal, sr=8000, n_fft=248, hop_length=248)\n",
    "    mel_spect = librosa.power_to_db(mel_spect, ref=np.max)\n",
    "    return mel_spect"
   ]
  },
  {
   "cell_type": "code",
   "execution_count": 8,
   "id": "6ec43109",
   "metadata": {},
   "outputs": [
    {
     "name": "stdout",
     "output_type": "stream",
     "text": [
      "2896\n",
      "2944\n"
     ]
    }
   ],
   "source": [
    "X_full = [] # padded X values\n",
    "y_full = []\n",
    "\n",
    "numbers = [0] * 10\n",
    "\n",
    "for file_path, audio in X_unfiltered:\n",
    "    x_val = audio\n",
    "    y_val = basics.get_label(file_path)\n",
    "    \n",
    "    signal_length = audio.shape[0]\n",
    "    if signal_length > max_length:\n",
    "        numbers[y_val] += 1\n",
    "        continue\n",
    "        \n",
    "    x_val = np.pad(\n",
    "        x_val, (0, max_length - signal_length), \n",
    "        'constant', constant_values=(0, 0))\n",
    "\n",
    "    mel_x = mel_spec(x_val).flatten()\n",
    "\n",
    "    X_full.append(mel_x)\n",
    "    y_full.append(y_val)\n",
    "\n",
    "X_full = np.array(X_full)\n",
    "y_full = np.array(y_full)\n",
    "\n",
    "num_samples, sample_w = X_full.shape\n",
    "print(num_samples)\n",
    "print(sample_w)"
   ]
  },
  {
   "cell_type": "code",
   "execution_count": 9,
   "id": "e1350616",
   "metadata": {},
   "outputs": [
    {
     "name": "stdout",
     "output_type": "stream",
     "text": [
      "   quantities\n",
      "0          12\n",
      "1           9\n",
      "2           7\n",
      "3           9\n",
      "4           3\n",
      "5           8\n",
      "6          29\n",
      "7          11\n",
      "8           6\n",
      "9          10\n",
      "104\n"
     ]
    }
   ],
   "source": [
    "# dropped outliers\n",
    "df = pd.DataFrame.from_dict({\"quantities\": numbers})\n",
    "print(df)\n",
    "print(sum(numbers))"
   ]
  },
  {
   "cell_type": "code",
   "execution_count": 10,
   "id": "5e77497b",
   "metadata": {},
   "outputs": [
    {
     "name": "stdout",
     "output_type": "stream",
     "text": [
      "Training set size 2312\n",
      "Validation set size 289\n",
      "Test set size 295\n"
     ]
    }
   ],
   "source": [
    "tenth = int(num_samples * 0.1)\n",
    "eightyth = tenth * 8\n",
    "\n",
    "X_train = X_full[:eightyth]\n",
    "y_train = y_full[:eightyth]\n",
    "\n",
    "X_val = X_full[eightyth: eightyth + tenth]\n",
    "y_val = y_full[eightyth: eightyth + tenth]\n",
    "\n",
    "X_test = X_full[eightyth + tenth:]\n",
    "y_test = y_full[eightyth + tenth:]\n",
    "\n",
    "print('Training set size', len(X_train))\n",
    "print('Validation set size', len(X_val))\n",
    "print('Test set size', len(X_test))"
   ]
  },
  {
   "cell_type": "code",
   "execution_count": 11,
   "id": "6a5a438f",
   "metadata": {
    "scrolled": true
   },
   "outputs": [
    {
     "name": "stdout",
     "output_type": "stream",
     "text": [
      "Model: \"sequential\"\n",
      "_________________________________________________________________\n",
      " Layer (type)                Output Shape              Param #   \n",
      "=================================================================\n",
      " reshape (Reshape)           (None, 128, 23, 1)        0         \n",
      "                                                                 \n",
      " conv2d (Conv2D)             (None, 126, 21, 32)       320       \n",
      "                                                                 \n",
      " conv2d_1 (Conv2D)           (None, 124, 19, 64)       18496     \n",
      "                                                                 \n",
      " max_pooling2d (MaxPooling2D  (None, 62, 9, 64)        0         \n",
      " )                                                               \n",
      "                                                                 \n",
      " dropout (Dropout)           (None, 62, 9, 64)         0         \n",
      "                                                                 \n",
      " flatten (Flatten)           (None, 35712)             0         \n",
      "                                                                 \n",
      " dense (Dense)               (None, 128)               4571264   \n",
      "                                                                 \n",
      " dropout_1 (Dropout)         (None, 128)               0         \n",
      "                                                                 \n",
      " dense_1 (Dense)             (None, 10)                1290      \n",
      "                                                                 \n",
      "=================================================================\n",
      "Total params: 4,591,370\n",
      "Trainable params: 4,591,370\n",
      "Non-trainable params: 0\n",
      "_________________________________________________________________\n"
     ]
    },
    {
     "name": "stderr",
     "output_type": "stream",
     "text": [
      "2022-05-07 18:23:46.885201: I tensorflow/core/platform/cpu_feature_guard.cc:151] This TensorFlow binary is optimized with oneAPI Deep Neural Network Library (oneDNN) to use the following CPU instructions in performance-critical operations:  AVX2 FMA\n",
      "To enable them in other operations, rebuild TensorFlow with the appropriate compiler flags.\n"
     ]
    }
   ],
   "source": [
    "# INPUTS ARE NORMALIZED\n",
    "\n",
    "model = tf.keras.models.Sequential()\n",
    "# model.add(tf.keras.layers.Input(shape=(sample_w,)))\n",
    "model.add(tf.keras.layers.Reshape((128, 23, 1), input_shape=(sample_w,)))\n",
    "model.add(tf.keras.layers.Conv2D(32, 3, activation='relu'))\n",
    "model.add(tf.keras.layers.Conv2D(64, 3, activation='relu'))\n",
    "model.add(tf.keras.layers.MaxPooling2D())\n",
    "model.add(tf.keras.layers.Dropout(0.25))\n",
    "model.add(tf.keras.layers.Flatten())\n",
    "model.add(tf.keras.layers.Dense(128, activation=\"relu\"))\n",
    "model.add(tf.keras.layers.Dropout(0.5))\n",
    "model.add(tf.keras.layers.Dense(10, activation=\"softmax\"))\n",
    "\n",
    "model.build()\n",
    "model.summary()"
   ]
  },
  {
   "cell_type": "code",
   "execution_count": 12,
   "id": "44f1598d",
   "metadata": {},
   "outputs": [],
   "source": [
    "model.compile(loss=\"sparse_categorical_crossentropy\",\n",
    "             optimizer=\"adam\",\n",
    "             metrics=[\"accuracy\"])"
   ]
  },
  {
   "cell_type": "code",
   "execution_count": 13,
   "id": "0bd417e5",
   "metadata": {},
   "outputs": [
    {
     "name": "stdout",
     "output_type": "stream",
     "text": [
      "Epoch 1/30\n",
      "73/73 [==============================] - 9s 117ms/step - loss: 12.5153 - accuracy: 0.2889 - val_loss: 1.1336 - val_accuracy: 0.6920\n",
      "Epoch 2/30\n",
      "73/73 [==============================] - 9s 125ms/step - loss: 0.8918 - accuracy: 0.7067 - val_loss: 0.4537 - val_accuracy: 0.8443\n",
      "Epoch 3/30\n",
      "73/73 [==============================] - 8s 110ms/step - loss: 0.4800 - accuracy: 0.8352 - val_loss: 0.3081 - val_accuracy: 0.9066\n",
      "Epoch 4/30\n",
      "73/73 [==============================] - 8s 112ms/step - loss: 0.4046 - accuracy: 0.8681 - val_loss: 0.2740 - val_accuracy: 0.9100\n",
      "Epoch 5/30\n",
      "73/73 [==============================] - 8s 115ms/step - loss: 0.3461 - accuracy: 0.8862 - val_loss: 0.1684 - val_accuracy: 0.9619\n",
      "Epoch 6/30\n",
      "73/73 [==============================] - 9s 120ms/step - loss: 0.2278 - accuracy: 0.9226 - val_loss: 0.1468 - val_accuracy: 0.9446\n",
      "Epoch 7/30\n",
      "73/73 [==============================] - 8s 111ms/step - loss: 0.1941 - accuracy: 0.9360 - val_loss: 0.1457 - val_accuracy: 0.9550\n",
      "Epoch 8/30\n",
      "73/73 [==============================] - 8s 105ms/step - loss: 0.1787 - accuracy: 0.9399 - val_loss: 0.1688 - val_accuracy: 0.9585\n",
      "Epoch 9/30\n",
      "73/73 [==============================] - 8s 114ms/step - loss: 0.1816 - accuracy: 0.9364 - val_loss: 0.2031 - val_accuracy: 0.9377\n",
      "Epoch 10/30\n",
      "73/73 [==============================] - 8s 111ms/step - loss: 0.1874 - accuracy: 0.9351 - val_loss: 0.1459 - val_accuracy: 0.9758\n",
      "Epoch 11/30\n",
      "73/73 [==============================] - 8s 114ms/step - loss: 0.1311 - accuracy: 0.9546 - val_loss: 0.1296 - val_accuracy: 0.9619\n",
      "Epoch 12/30\n",
      "73/73 [==============================] - 8s 112ms/step - loss: 0.0894 - accuracy: 0.9680 - val_loss: 0.0955 - val_accuracy: 0.9723\n",
      "Epoch 13/30\n",
      "73/73 [==============================] - 8s 110ms/step - loss: 0.1310 - accuracy: 0.9563 - val_loss: 0.1662 - val_accuracy: 0.9516\n",
      "Epoch 14/30\n",
      "73/73 [==============================] - 8s 115ms/step - loss: 0.0973 - accuracy: 0.9645 - val_loss: 0.2119 - val_accuracy: 0.9516\n",
      "Epoch 15/30\n",
      "73/73 [==============================] - 8s 104ms/step - loss: 0.1060 - accuracy: 0.9606 - val_loss: 0.2267 - val_accuracy: 0.9481\n",
      "Epoch 16/30\n",
      "73/73 [==============================] - 8s 106ms/step - loss: 0.1735 - accuracy: 0.9425 - val_loss: 0.2659 - val_accuracy: 0.9308\n",
      "Epoch 17/30\n",
      "73/73 [==============================] - 8s 110ms/step - loss: 0.1063 - accuracy: 0.9619 - val_loss: 0.1416 - val_accuracy: 0.9550\n",
      "Epoch 18/30\n",
      "73/73 [==============================] - 8s 105ms/step - loss: 0.1333 - accuracy: 0.9546 - val_loss: 0.2667 - val_accuracy: 0.9273\n",
      "Epoch 19/30\n",
      "73/73 [==============================] - 8s 111ms/step - loss: 0.1260 - accuracy: 0.9576 - val_loss: 0.2573 - val_accuracy: 0.9412\n",
      "Epoch 20/30\n",
      "73/73 [==============================] - 8s 111ms/step - loss: 0.0926 - accuracy: 0.9684 - val_loss: 0.1228 - val_accuracy: 0.9723\n",
      "Epoch 21/30\n",
      "73/73 [==============================] - 8s 109ms/step - loss: 0.0801 - accuracy: 0.9693 - val_loss: 0.1507 - val_accuracy: 0.9585\n",
      "Epoch 22/30\n",
      "73/73 [==============================] - 8s 110ms/step - loss: 0.0827 - accuracy: 0.9745 - val_loss: 0.1214 - val_accuracy: 0.9758\n",
      "Epoch 23/30\n",
      "73/73 [==============================] - 8s 107ms/step - loss: 0.1036 - accuracy: 0.9667 - val_loss: 0.1099 - val_accuracy: 0.9619\n",
      "Epoch 24/30\n",
      "73/73 [==============================] - 8s 107ms/step - loss: 0.0407 - accuracy: 0.9853 - val_loss: 0.1435 - val_accuracy: 0.9689\n",
      "Epoch 25/30\n",
      "73/73 [==============================] - 8s 105ms/step - loss: 0.0620 - accuracy: 0.9805 - val_loss: 0.0770 - val_accuracy: 0.9792\n",
      "Epoch 26/30\n",
      "73/73 [==============================] - 8s 112ms/step - loss: 0.0699 - accuracy: 0.9814 - val_loss: 0.1005 - val_accuracy: 0.9758\n",
      "Epoch 27/30\n",
      "73/73 [==============================] - 8s 105ms/step - loss: 0.0787 - accuracy: 0.9749 - val_loss: 0.1146 - val_accuracy: 0.9689\n",
      "Epoch 28/30\n",
      "73/73 [==============================] - 8s 115ms/step - loss: 0.0710 - accuracy: 0.9801 - val_loss: 0.0997 - val_accuracy: 0.9723\n",
      "Epoch 29/30\n",
      "73/73 [==============================] - 8s 113ms/step - loss: 0.0635 - accuracy: 0.9823 - val_loss: 0.0807 - val_accuracy: 0.9689\n",
      "Epoch 30/30\n",
      "73/73 [==============================] - 8s 110ms/step - loss: 0.0627 - accuracy: 0.9788 - val_loss: 0.1665 - val_accuracy: 0.9585\n"
     ]
    }
   ],
   "source": [
    "history = model.fit(X_train, y_train, epochs=30,\n",
    "                   validation_data=(X_val, y_val))"
   ]
  },
  {
   "cell_type": "code",
   "execution_count": 14,
   "id": "9a2ebe2e",
   "metadata": {},
   "outputs": [
    {
     "name": "stdout",
     "output_type": "stream",
     "text": [
      "10/10 [==============================] - 0s 25ms/step - loss: 0.3201 - accuracy: 0.9424\n"
     ]
    },
    {
     "data": {
      "text/plain": [
       "[0.32010841369628906, 0.9423728585243225]"
      ]
     },
     "execution_count": 14,
     "metadata": {},
     "output_type": "execute_result"
    }
   ],
   "source": [
    "model.evaluate(X_test, y_test)"
   ]
  },
  {
   "cell_type": "code",
   "execution_count": 15,
   "id": "11bca150",
   "metadata": {},
   "outputs": [
    {
     "data": {
      "image/png": "[encoded data removed]",
      "text/plain": [
       "<Figure size 720x576 with 2 Axes>"
      ]
     },
     "metadata": {
      "needs_background": "light"
     },
     "output_type": "display_data"
    }
   ],
   "source": [
    "y_pred = np.argmax(model.predict(X_test), axis=1)\n",
    "\n",
    "all_labels = list(range(10))\n",
    "\n",
    "confusion_mtx = tf.math.confusion_matrix(y_test, y_pred)\n",
    "plt.figure(figsize=(10, 8))\n",
    "sns.heatmap(confusion_mtx,\n",
    "            xticklabels=all_labels,\n",
    "            yticklabels=all_labels,\n",
    "            annot=True, fmt='g')\n",
    "plt.xlabel('Prediction')\n",
    "plt.ylabel('Label')\n",
    "plt.show()"
   ]
  },
  {
   "cell_type": "code",
   "execution_count": 16,
   "id": "c68e4734",
   "metadata": {},
   "outputs": [],
   "source": [
    "model.save(\"model_v4.h5\")"
   ]
  },
  {
   "cell_type": "code",
   "execution_count": null,
   "id": "8244d235",
   "metadata": {},
   "outputs": [],
   "source": []
  }
 ],
 "metadata": {
  "kernelspec": {
   "display_name": "Python 3 (ipykernel)",
   "language": "python",
   "name": "python3"
  },
  "language_info": {
   "codemirror_mode": {
    "name": "ipython",
    "version": 3
   },
   "file_extension": ".py",
   "mimetype": "text/x-python",
   "name": "python",
   "nbconvert_exporter": "python",
   "pygments_lexer": "ipython3",
   "version": "3.7.7"
  }
 },
 "nbformat": 4,
 "nbformat_minor": 5
}
