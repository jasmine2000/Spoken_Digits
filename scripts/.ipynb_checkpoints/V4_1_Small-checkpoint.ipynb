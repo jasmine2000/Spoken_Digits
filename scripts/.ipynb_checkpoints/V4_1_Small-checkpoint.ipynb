{
 "cells": [
  {
   "cell_type": "code",
   "execution_count": 1,
   "id": "d2426841",
   "metadata": {},
   "outputs": [],
   "source": [
    "import random\n",
    "\n",
    "# for data, model, training\n",
    "import pandas as pd\n",
    "import numpy as np\n",
    "import tensorflow as tf\n",
    "import librosa\n",
    "\n",
    "import matplotlib.pyplot as plt\n",
    "import seaborn as sns\n",
    "\n",
    "import basics\n",
    "\n",
    "# Set the seed value for experiment reproducibility.\n",
    "seed = 42\n",
    "random.seed(42)\n",
    "tf.random.set_seed(seed)\n",
    "np.random.seed(seed)"
   ]
  },
  {
   "cell_type": "code",
   "execution_count": 2,
   "id": "7178b3c4",
   "metadata": {},
   "outputs": [
    {
     "name": "stdout",
     "output_type": "stream",
     "text": [
      "['./recordings/2_jackson_13.wav', './recordings/6_george_34.wav', './recordings/7_george_5.wav', './recordings/1_yweweler_21.wav', './recordings/2_george_42.wav']\n"
     ]
    }
   ],
   "source": [
    "filenames = basics.get_and_shuffle_filenames(\"./recordings\")\n",
    "\n",
    "print(filenames[:5])"
   ]
  },
  {
   "cell_type": "code",
   "execution_count": 3,
   "id": "9bf2071f",
   "metadata": {},
   "outputs": [
    {
     "name": "stdout",
     "output_type": "stream",
     "text": [
      "5632\n"
     ]
    }
   ],
   "source": [
    "X_unfiltered = [(file_path, basics.decode_audio(file_path)) for file_path in filenames]\n",
    "\n",
    "# to remove outliers \n",
    "max_length = basics.get_max_length(X_unfiltered)\n",
    "print(max_length)"
   ]
  },
  {
   "cell_type": "code",
   "execution_count": 4,
   "id": "7bb3405d",
   "metadata": {},
   "outputs": [
    {
     "name": "stdout",
     "output_type": "stream",
     "text": [
      "2896\n",
      "2816\n"
     ]
    }
   ],
   "source": [
    "X_full = [] # padded X values\n",
    "y_full = []\n",
    "\n",
    "numbers = [0] * 10\n",
    "\n",
    "for file_path, audio in X_unfiltered:\n",
    "    x_val = audio\n",
    "    y_val = basics.get_label(file_path)\n",
    "    \n",
    "    signal_length = audio.shape[0]\n",
    "    if signal_length > max_length:\n",
    "        numbers[y_val] += 1\n",
    "        continue\n",
    "        \n",
    "    x_val = np.pad(\n",
    "        x_val, (0, max_length - signal_length), \n",
    "        'constant', constant_values=(0, 0))\n",
    "\n",
    "    spect_x = basics.spect(x_val, max_length).flatten()\n",
    "\n",
    "    X_full.append(spect_x)\n",
    "    y_full.append(y_val)\n",
    "\n",
    "X_full = np.array(X_full)\n",
    "y_full = np.array(y_full)\n",
    "\n",
    "num_samples, sample_w = X_full.shape\n",
    "print(num_samples)\n",
    "print(sample_w)"
   ]
  },
  {
   "cell_type": "code",
   "execution_count": 5,
   "id": "63b6980a",
   "metadata": {},
   "outputs": [
    {
     "name": "stdout",
     "output_type": "stream",
     "text": [
      "   quantities\n",
      "0          12\n",
      "1           9\n",
      "2           7\n",
      "3           9\n",
      "4           3\n",
      "5           8\n",
      "6          29\n",
      "7          11\n",
      "8           6\n",
      "9          10\n",
      "104\n"
     ]
    }
   ],
   "source": [
    "# dropped outliers\n",
    "df = pd.DataFrame.from_dict({\"quantities\": numbers})\n",
    "print(df)\n",
    "print(sum(numbers))"
   ]
  },
  {
   "cell_type": "code",
   "execution_count": 6,
   "id": "e2ec4fc9",
   "metadata": {},
   "outputs": [
    {
     "name": "stdout",
     "output_type": "stream",
     "text": [
      "Training set size 2312\n",
      "Validation set size 289\n",
      "Test set size 295\n"
     ]
    }
   ],
   "source": [
    "# normalize data\n",
    "X_full = basics.normalize_arr(X_full)\n",
    "\n",
    "# partition into 80:10:10\n",
    "partitions = basics.split_full(X_full, y_full)\n",
    "\n",
    "X_train, y_train = partitions[0]\n",
    "X_val, y_val = partitions[1]\n",
    "X_test, y_test = partitions[2]\n",
    "\n",
    "print('Training set size', len(X_train))\n",
    "print('Validation set size', len(X_val))\n",
    "print('Test set size', len(X_test))"
   ]
  },
  {
   "cell_type": "code",
   "execution_count": 7,
   "id": "7b557c8c",
   "metadata": {
    "scrolled": true
   },
   "outputs": [
    {
     "name": "stdout",
     "output_type": "stream",
     "text": [
      "Model: \"sequential\"\n",
      "_________________________________________________________________\n",
      " Layer (type)                Output Shape              Param #   \n",
      "=================================================================\n",
      " reshape (Reshape)           (None, 128, 22, 1)        0         \n",
      "                                                                 \n",
      " conv2d (Conv2D)             (None, 125, 19, 64)       1088      \n",
      "                                                                 \n",
      " dropout (Dropout)           (None, 125, 19, 64)       0         \n",
      "                                                                 \n",
      " average_pooling2d (AverageP  (None, 62, 9, 64)        0         \n",
      " ooling2D)                                                       \n",
      "                                                                 \n",
      " conv2d_1 (Conv2D)           (None, 59, 6, 16)         16400     \n",
      "                                                                 \n",
      " dropout_1 (Dropout)         (None, 59, 6, 16)         0         \n",
      "                                                                 \n",
      " average_pooling2d_1 (Averag  (None, 29, 3, 16)        0         \n",
      " ePooling2D)                                                     \n",
      "                                                                 \n",
      " flatten (Flatten)           (None, 1392)              0         \n",
      "                                                                 \n",
      " dropout_2 (Dropout)         (None, 1392)              0         \n"
     ]
    },
    {
     "name": "stderr",
     "output_type": "stream",
     "text": [
      "2022-05-07 18:34:52.316747: I tensorflow/core/platform/cpu_feature_guard.cc:151] This TensorFlow binary is optimized with oneAPI Deep Neural Network Library (oneDNN) to use the following CPU instructions in performance-critical operations:  AVX2 FMA\n",
      "To enable them in other operations, rebuild TensorFlow with the appropriate compiler flags.\n"
     ]
    },
    {
     "name": "stdout",
     "output_type": "stream",
     "text": [
      "                                                                 \n",
      " dense (Dense)               (None, 70)                97510     \n",
      "                                                                 \n",
      " dense_1 (Dense)             (None, 10)                710       \n",
      "                                                                 \n",
      "=================================================================\n",
      "Total params: 115,708\n",
      "Trainable params: 115,708\n",
      "Non-trainable params: 0\n",
      "_________________________________________________________________\n"
     ]
    }
   ],
   "source": [
    "# INPUTS ARE NORMALIZED\n",
    "\n",
    "model = tf.keras.models.Sequential()\n",
    "model.add(tf.keras.layers.Reshape((128, 22, 1), input_shape=(sample_w,)))\n",
    "model.add(tf.keras.layers.Conv2D(64, (4, 4), activation='relu', input_shape=(128, 23, 1)))\n",
    "model.add(tf.keras.layers.Dropout(0.25))\n",
    "model.add(tf.keras.layers.AveragePooling2D(2,2))\n",
    "model.add(tf.keras.layers.Conv2D(16, (4, 4), activation='relu'))\n",
    "model.add(tf.keras.layers.Dropout(0.25))\n",
    "model.add(tf.keras.layers.AveragePooling2D(2,2))\n",
    " \n",
    "model.add(tf.keras.layers.Flatten())\n",
    "\n",
    "model.add(tf.keras.layers.Dropout(0.15))    \n",
    "model.add(tf.keras.layers.Dense(70, activation='relu'))\n",
    "model.add(tf.keras.layers.Dense(10, activation='softmax'))\n",
    "\n",
    "model.build()\n",
    "model.summary()"
   ]
  },
  {
   "cell_type": "code",
   "execution_count": 8,
   "id": "829aab90",
   "metadata": {},
   "outputs": [],
   "source": [
    "model.compile(loss=\"sparse_categorical_crossentropy\",\n",
    "             optimizer=\"adam\",\n",
    "             metrics=[\"accuracy\"])"
   ]
  },
  {
   "cell_type": "code",
   "execution_count": 9,
   "id": "3cb6e607",
   "metadata": {
    "scrolled": true
   },
   "outputs": [
    {
     "name": "stdout",
     "output_type": "stream",
     "text": [
      "Epoch 1/30\n",
      "73/73 [==============================] - 7s 85ms/step - loss: 2.0058 - accuracy: 0.2829 - val_loss: 1.6236 - val_accuracy: 0.4602\n",
      "Epoch 2/30\n",
      "73/73 [==============================] - 6s 78ms/step - loss: 1.2847 - accuracy: 0.5420 - val_loss: 1.0786 - val_accuracy: 0.5882\n",
      "Epoch 3/30\n",
      "73/73 [==============================] - 6s 80ms/step - loss: 0.9446 - accuracy: 0.6479 - val_loss: 0.8802 - val_accuracy: 0.7163\n",
      "Epoch 4/30\n",
      "73/73 [==============================] - 6s 79ms/step - loss: 0.7427 - accuracy: 0.7409 - val_loss: 0.7740 - val_accuracy: 0.7509\n",
      "Epoch 5/30\n",
      "73/73 [==============================] - 6s 82ms/step - loss: 0.5941 - accuracy: 0.7911 - val_loss: 0.7866 - val_accuracy: 0.7370\n",
      "Epoch 6/30\n",
      "73/73 [==============================] - 6s 82ms/step - loss: 0.5261 - accuracy: 0.8218 - val_loss: 0.5299 - val_accuracy: 0.8270\n",
      "Epoch 7/30\n",
      "73/73 [==============================] - 6s 86ms/step - loss: 0.4683 - accuracy: 0.8408 - val_loss: 0.4993 - val_accuracy: 0.8408\n",
      "Epoch 8/30\n",
      "73/73 [==============================] - 6s 80ms/step - loss: 0.3851 - accuracy: 0.8685 - val_loss: 0.4733 - val_accuracy: 0.8512\n",
      "Epoch 9/30\n",
      "73/73 [==============================] - 7s 96ms/step - loss: 0.3406 - accuracy: 0.8837 - val_loss: 0.4158 - val_accuracy: 0.8858\n",
      "Epoch 10/30\n",
      "73/73 [==============================] - 6s 83ms/step - loss: 0.2980 - accuracy: 0.9018 - val_loss: 0.4031 - val_accuracy: 0.8685\n",
      "Epoch 11/30\n",
      "73/73 [==============================] - 5s 74ms/step - loss: 0.2817 - accuracy: 0.9131 - val_loss: 0.4172 - val_accuracy: 0.8858\n",
      "Epoch 12/30\n",
      "73/73 [==============================] - 5s 65ms/step - loss: 0.2480 - accuracy: 0.9113 - val_loss: 0.3792 - val_accuracy: 0.9100\n",
      "Epoch 13/30\n",
      "73/73 [==============================] - 5s 73ms/step - loss: 0.2212 - accuracy: 0.9243 - val_loss: 0.4178 - val_accuracy: 0.8858\n",
      "Epoch 14/30\n",
      "73/73 [==============================] - 5s 71ms/step - loss: 0.2345 - accuracy: 0.9161 - val_loss: 0.3568 - val_accuracy: 0.8893\n",
      "Epoch 15/30\n",
      "73/73 [==============================] - 6s 76ms/step - loss: 0.1898 - accuracy: 0.9412 - val_loss: 0.4414 - val_accuracy: 0.8754\n",
      "Epoch 16/30\n",
      "73/73 [==============================] - 6s 85ms/step - loss: 0.1833 - accuracy: 0.9373 - val_loss: 0.3208 - val_accuracy: 0.8997\n",
      "Epoch 17/30\n",
      "73/73 [==============================] - 6s 79ms/step - loss: 0.1763 - accuracy: 0.9433 - val_loss: 0.3088 - val_accuracy: 0.9170\n",
      "Epoch 18/30\n",
      "73/73 [==============================] - 6s 77ms/step - loss: 0.1576 - accuracy: 0.9468 - val_loss: 0.3340 - val_accuracy: 0.9031\n",
      "Epoch 19/30\n",
      "73/73 [==============================] - 5s 75ms/step - loss: 0.1385 - accuracy: 0.9529 - val_loss: 0.3273 - val_accuracy: 0.9170\n",
      "Epoch 20/30\n",
      "73/73 [==============================] - 6s 79ms/step - loss: 0.1398 - accuracy: 0.9529 - val_loss: 0.3306 - val_accuracy: 0.9135\n",
      "Epoch 21/30\n",
      "73/73 [==============================] - 7s 92ms/step - loss: 0.1094 - accuracy: 0.9628 - val_loss: 0.2850 - val_accuracy: 0.9135\n",
      "Epoch 22/30\n",
      "73/73 [==============================] - 5s 73ms/step - loss: 0.1128 - accuracy: 0.9602 - val_loss: 0.3040 - val_accuracy: 0.9308\n",
      "Epoch 23/30\n",
      "73/73 [==============================] - 5s 73ms/step - loss: 0.1085 - accuracy: 0.9615 - val_loss: 0.2835 - val_accuracy: 0.9100\n",
      "Epoch 24/30\n",
      "73/73 [==============================] - 6s 78ms/step - loss: 0.1111 - accuracy: 0.9589 - val_loss: 0.2756 - val_accuracy: 0.9343\n",
      "Epoch 25/30\n",
      "73/73 [==============================] - 6s 76ms/step - loss: 0.1034 - accuracy: 0.9589 - val_loss: 0.3166 - val_accuracy: 0.9066\n",
      "Epoch 26/30\n",
      "73/73 [==============================] - 5s 69ms/step - loss: 0.1175 - accuracy: 0.9589 - val_loss: 0.3150 - val_accuracy: 0.9239\n",
      "Epoch 27/30\n",
      "73/73 [==============================] - 5s 73ms/step - loss: 0.1190 - accuracy: 0.9585 - val_loss: 0.2887 - val_accuracy: 0.9239\n",
      "Epoch 28/30\n",
      "73/73 [==============================] - 5s 72ms/step - loss: 0.0753 - accuracy: 0.9745 - val_loss: 0.2753 - val_accuracy: 0.9412\n",
      "Epoch 29/30\n",
      "73/73 [==============================] - 5s 71ms/step - loss: 0.0968 - accuracy: 0.9667 - val_loss: 0.2839 - val_accuracy: 0.9273\n",
      "Epoch 30/30\n",
      "73/73 [==============================] - 5s 68ms/step - loss: 0.1017 - accuracy: 0.9615 - val_loss: 0.2309 - val_accuracy: 0.9412\n"
     ]
    }
   ],
   "source": [
    "history = model.fit(X_train, y_train, epochs=30,\n",
    "                   validation_data=(X_val, y_val))"
   ]
  },
  {
   "cell_type": "code",
   "execution_count": 10,
   "id": "73a4dafa",
   "metadata": {},
   "outputs": [
    {
     "name": "stdout",
     "output_type": "stream",
     "text": [
      "10/10 [==============================] - 0s 11ms/step - loss: 0.2081 - accuracy: 0.9356\n"
     ]
    },
    {
     "data": {
      "text/plain": [
       "[0.2080877125263214, 0.9355932474136353]"
      ]
     },
     "execution_count": 10,
     "metadata": {},
     "output_type": "execute_result"
    }
   ],
   "source": [
    "model.evaluate(X_test, y_test)"
   ]
  },
  {
   "cell_type": "code",
   "execution_count": 11,
   "id": "0226ff54",
   "metadata": {},
   "outputs": [
    {
     "data": {
      "image/png": "[encoded data removed]",
      "text/plain": [
       "<Figure size 720x576 with 2 Axes>"
      ]
     },
     "metadata": {
      "needs_background": "light"
     },
     "output_type": "display_data"
    }
   ],
   "source": [
    "y_pred = np.argmax(model.predict(X_test), axis=1)\n",
    "\n",
    "all_labels = list(range(10))\n",
    "\n",
    "confusion_mtx = tf.math.confusion_matrix(y_test, y_pred)\n",
    "plt.figure(figsize=(10, 8))\n",
    "sns.heatmap(confusion_mtx,\n",
    "            xticklabels=all_labels,\n",
    "            yticklabels=all_labels,\n",
    "            annot=True, fmt='g')\n",
    "plt.xlabel('Prediction')\n",
    "plt.ylabel('Label')\n",
    "plt.show()"
   ]
  },
  {
   "cell_type": "code",
   "execution_count": 43,
   "id": "049ca96d",
   "metadata": {},
   "outputs": [],
   "source": [
    "# model.save(\"model_v5.h5\")"
   ]
  },
  {
   "cell_type": "code",
   "execution_count": null,
   "id": "177d4f2c",
   "metadata": {},
   "outputs": [],
   "source": []
  }
 ],
 "metadata": {
  "kernelspec": {
   "display_name": "Python 3 (ipykernel)",
   "language": "python",
   "name": "python3"
  },
  "language_info": {
   "codemirror_mode": {
    "name": "ipython",
    "version": 3
   },
   "file_extension": ".py",
   "mimetype": "text/x-python",
   "name": "python",
   "nbconvert_exporter": "python",
   "pygments_lexer": "ipython3",
   "version": "3.7.7"
  }
 },
 "nbformat": 4,
 "nbformat_minor": 5
}
