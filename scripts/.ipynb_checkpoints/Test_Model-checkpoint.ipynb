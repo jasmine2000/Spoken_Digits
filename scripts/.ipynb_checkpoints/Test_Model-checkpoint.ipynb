{
 "cells": [
  {
   "cell_type": "code",
   "execution_count": 15,
   "id": "1cf07c96",
   "metadata": {},
   "outputs": [],
   "source": [
    "import tensorflow as tf\n",
    "import numpy as np\n",
    "\n",
    "import basics\n",
    "\n",
    "max_length = 5632"
   ]
  },
  {
   "cell_type": "code",
   "execution_count": 33,
   "id": "54f67e88",
   "metadata": {},
   "outputs": [
    {
     "name": "stdout",
     "output_type": "stream",
     "text": [
      "WARNING:tensorflow:No training configuration found in the save file, so the model was *not* compiled. Compile it manually.\n"
     ]
    }
   ],
   "source": [
    "model = tf.keras.models.load_model('./final_model.h5')"
   ]
  },
  {
   "cell_type": "code",
   "execution_count": 34,
   "id": "4c7ed58f",
   "metadata": {},
   "outputs": [],
   "source": [
    "filenames = basics.get_and_shuffle_filenames(\"./test_recordings\")\n",
    "\n",
    "decoded = []\n",
    "labels = []\n",
    "for filename in filenames:\n",
    "    audio = basics.decode_audio(filename)\n",
    "    audio_8khz = audio[::6]\n",
    "    padded_audio = np.append(audio_8khz, np.zeros(max_length - len(audio_8khz)))\n",
    "    decoded.append(padded_audio)\n",
    "    \n",
    "    label = int(filename.split(\"/\")[-1].split(\".\")[0].split(\"_\")[1])\n",
    "    labels.append(label)"
   ]
  },
  {
   "cell_type": "code",
   "execution_count": 35,
   "id": "0618a234",
   "metadata": {},
   "outputs": [],
   "source": [
    "spects = []\n",
    "for audio in decoded:\n",
    "    spect = basics.spect(audio, max_length).flatten()\n",
    "    spects.append(spect)"
   ]
  },
  {
   "cell_type": "code",
   "execution_count": 36,
   "id": "db3bfed4",
   "metadata": {},
   "outputs": [],
   "source": [
    "mean = np.mean(spects)\n",
    "std = np.std(spects)\n",
    "spects = (spects - mean) / std"
   ]
  },
  {
   "cell_type": "code",
   "execution_count": 37,
   "id": "7fba7d16",
   "metadata": {},
   "outputs": [
    {
     "name": "stdout",
     "output_type": "stream",
     "text": [
      "prediction: 1\n",
      "label: 3\n",
      "prediction: 1\n",
      "label: 1\n",
      "prediction: 2\n",
      "label: 2\n",
      "prediction: 5\n",
      "label: 7\n",
      "prediction: 4\n",
      "label: 4\n",
      "prediction: 3\n",
      "label: 6\n",
      "prediction: 5\n",
      "label: 5\n"
     ]
    }
   ],
   "source": [
    "predictions = model.predict(np.array(spects))\n",
    "for i, prediction in enumerate(predictions):\n",
    "    print(\"prediction:\", np.argmax(prediction))\n",
    "    print(\"label:\", labels[i])"
   ]
  },
  {
   "cell_type": "code",
   "execution_count": null,
   "id": "24e85fe7",
   "metadata": {},
   "outputs": [],
   "source": []
  }
 ],
 "metadata": {
  "kernelspec": {
   "display_name": "Python 3 (ipykernel)",
   "language": "python",
   "name": "python3"
  },
  "language_info": {
   "codemirror_mode": {
    "name": "ipython",
    "version": 3
   },
   "file_extension": ".py",
   "mimetype": "text/x-python",
   "name": "python",
   "nbconvert_exporter": "python",
   "pygments_lexer": "ipython3",
   "version": "3.7.7"
  }
 },
 "nbformat": 4,
 "nbformat_minor": 5
}
