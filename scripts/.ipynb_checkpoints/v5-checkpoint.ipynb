{
 "cells": [
  {
   "cell_type": "code",
   "execution_count": 1,
   "id": "a418458d",
   "metadata": {},
   "outputs": [],
   "source": [
    "import wave\n",
    "import glob\n",
    "import random\n",
    "\n",
    "# for data, model, training\n",
    "import pandas as pd\n",
    "import numpy as np\n",
    "import tensorflow as tf\n",
    "from tensorflow.keras import layers\n",
    "from tensorflow.keras import models\n",
    "from scipy import signal\n",
    "\n",
    "import librosa\n",
    "import librosa.display\n",
    "\n",
    "# for visuals and statistics\n",
    "import matplotlib.pyplot as plt\n",
    "import seaborn as sns\n",
    "\n",
    "# Set the seed value for experiment reproducibility.\n",
    "seed = 42\n",
    "random.seed(42)\n",
    "tf.random.set_seed(seed)\n",
    "np.random.seed(seed)"
   ]
  },
  {
   "cell_type": "code",
   "execution_count": 2,
   "id": "3155a93e",
   "metadata": {},
   "outputs": [
    {
     "name": "stdout",
     "output_type": "stream",
     "text": [
      "['../recordings/2_jackson_13.wav', '../recordings/6_george_34.wav', '../recordings/7_george_5.wav', '../recordings/1_yweweler_21.wav', '../recordings/2_george_42.wav']\n"
     ]
    }
   ],
   "source": [
    "def get_and_shuffle_filenames(dir_name):\n",
    "    filenames = glob.glob(str(data_dir) + \"/*\")\n",
    "    random.shuffle(filenames)\n",
    "    return filenames\n",
    "\n",
    "data_dir = \"../recordings\"\n",
    "filenames = get_and_shuffle_filenames(data_dir)\n",
    "\n",
    "print(filenames[:5])"
   ]
  },
  {
   "cell_type": "code",
   "execution_count": 3,
   "id": "7fb83524",
   "metadata": {},
   "outputs": [],
   "source": [
    "# https://www.tensorflow.org/tutorials/audio/simple_audio\n",
    "\n",
    "def decode_audio(file_path):\n",
    "    # read file to get buffer                                                                                               \n",
    "    ifile = wave.open(file_path)\n",
    "    samples = ifile.getnframes()\n",
    "    audio = ifile.readframes(samples)\n",
    "\n",
    "    # convert buffer to float32 using NumPy                                                                                 \n",
    "    audio_as_np_int16 = np.frombuffer(audio, dtype=np.int16)\n",
    "    audio_as_np_float32 = audio_as_np_int16.astype(np.float32)\n",
    "    \n",
    "    # get largest absolute value\n",
    "    max_val = np.max(\n",
    "        np.absolute(\n",
    "            [np.max(audio_as_np_float32), np.min(audio_as_np_float32)]))\n",
    "    audio_normalized = audio_as_np_float32 / max_val\n",
    "\n",
    "    return audio_normalized\n",
    "\n",
    "def get_label(file_path):\n",
    "    # label is in the filename\n",
    "    parts = file_path.split(\"/\")\n",
    "    label = int(parts[2].split(\"_\")[0])\n",
    "\n",
    "    return label\n"
   ]
  },
  {
   "cell_type": "code",
   "execution_count": 4,
   "id": "ca38f0f0",
   "metadata": {},
   "outputs": [
    {
     "name": "stdout",
     "output_type": "stream",
     "text": [
      "3499.4746666666665\n",
      "1180.9471707171701\n",
      "5861\n"
     ]
    }
   ],
   "source": [
    "# to remove outliers \n",
    "X_unfiltered = [(file_path, decode_audio(file_path)) for file_path in filenames]\n",
    "X_lengths = [audio.shape[0] for _, audio in X_unfiltered]\n",
    "\n",
    "max_length = int(np.mean(X_lengths) + 2 * np.std(X_lengths))\n",
    "print(np.mean(X_lengths))\n",
    "print(np.std(X_lengths))\n",
    "print(max_length)"
   ]
  },
  {
   "cell_type": "code",
   "execution_count": 46,
   "id": "73785aa6",
   "metadata": {},
   "outputs": [
    {
     "name": "stdout",
     "output_type": "stream",
     "text": [
      "<function amax at 0x7f819d0c9c20>\n"
     ]
    }
   ],
   "source": [
    "def mel_spec(signal):\n",
    "    mel = librosa.feature.melspectrogram(y=signal, sr=8000, n_fft=256, hop_length=256)\n",
    "    mel = librosa.power_to_db(mel, ref=np.max)\n",
    "    return mel\n",
    "\n",
    "def spect(signal):\n",
    "    s = np.abs(librosa.stft(y=signal, n_fft=254, hop_length=254))\n",
    "    s = librosa.power_to_db(s, ref=np.max)\n",
    "    return s"
   ]
  },
  {
   "cell_type": "code",
   "execution_count": 32,
   "id": "f4ad86ab",
   "metadata": {},
   "outputs": [
    {
     "name": "stdout",
     "output_type": "stream",
     "text": [
      "(2911, 3072)\n",
      "2911\n",
      "3072\n",
      "[2 6 7 1 2 6 6 4 8 3]\n"
     ]
    }
   ],
   "source": [
    "# padding function from\n",
    "# https://towardsdatascience.com/audio-deep-learning-made-simple-sound-classification-step-by-step-cebc936bbe5\n",
    "\n",
    "X_full = [] # padded X values\n",
    "y_full = []\n",
    "\n",
    "numbers = [0] * 10\n",
    "\n",
    "for file_path, audio in X_unfiltered:\n",
    "    x_val = audio\n",
    "    y_val = get_label(file_path)\n",
    "    \n",
    "    signal_length = audio.shape[0]\n",
    "    if signal_length > max_length:\n",
    "        numbers[y_val] += 1\n",
    "    else:\n",
    "        pad_len = max_length - signal_length\n",
    "        \n",
    "        x_val = np.pad(\n",
    "            x_val, (0, pad_len), \n",
    "            'constant', constant_values=(0, 0))\n",
    "        \n",
    "#         mel_x = mel_spec(x_val)\n",
    "        s_x = spect(x_val)\n",
    "        s_x = s_x.flatten()\n",
    "        \n",
    "        X_full.append(s_x)\n",
    "        y_full.append(y_val)\n",
    "\n",
    "X_full = np.array(X_full)\n",
    "y_full = np.array(y_full)\n",
    "\n",
    "print(X_full.shape)\n",
    "\n",
    "num_samples, sample_w = X_full.shape\n",
    "print(num_samples)\n",
    "print(sample_w)\n",
    "\n",
    "print(y_full[:10])"
   ]
  },
  {
   "cell_type": "code",
   "execution_count": 33,
   "id": "5eb7ccd4",
   "metadata": {},
   "outputs": [
    {
     "name": "stdout",
     "output_type": "stream",
     "text": [
      "   quantities\n",
      "0          11\n",
      "1           8\n",
      "2           6\n",
      "3           5\n",
      "4           3\n",
      "5           6\n",
      "6          23\n",
      "7          11\n",
      "8           6\n",
      "9          10\n",
      "89\n"
     ]
    }
   ],
   "source": [
    "# quantities = {\"y\": list(range(10)), \"quantities\": numbers}\n",
    "df = pd.DataFrame.from_dict({\"quantities\": numbers})\n",
    "print(df)\n",
    "print(sum(numbers))"
   ]
  },
  {
   "cell_type": "code",
   "execution_count": 34,
   "id": "acf80181",
   "metadata": {},
   "outputs": [],
   "source": [
    "mean = np.mean(X_full)\n",
    "std = np.std(X_full)\n",
    "X_full = X_full - mean\n",
    "X_full = X_full / std"
   ]
  },
  {
   "cell_type": "code",
   "execution_count": 36,
   "id": "e6b45165",
   "metadata": {},
   "outputs": [],
   "source": [
    "# rows = 3\n",
    "# cols = 3\n",
    "# n = rows * cols\n",
    "# fig, axes = plt.subplots(rows, cols, figsize=(12, 14))\n",
    "\n",
    "# for i, (audio, label) in enumerate(list(zip(X_full, y_full))[:n]):\n",
    "#     r = i // cols\n",
    "#     c = i % cols\n",
    "#     ax = axes[r][c]\n",
    "    \n",
    "#     librosa.display.specshow(audio, sr=8000, hop_length=256, x_axis='time', ax=axes[r][c])\n",
    "# #     librosa.display.specshow(audio, y_axis='mel', fmax=8000, x_axis='time', ax=axes[r][c]);\n",
    "# #     plt.title('Mel Spectrogram');\n",
    "# #     plt.colorbar(format='%+2.0f dB');\n",
    "    \n",
    "# #     ax.plot(audio)\n",
    "# #     ax.set_yticks(np.arange(-1,1.5,0.5))\n",
    "#     ax.set_title(label)\n",
    "\n",
    "# plt.show()"
   ]
  },
  {
   "cell_type": "code",
   "execution_count": 37,
   "id": "056393d8",
   "metadata": {},
   "outputs": [
    {
     "name": "stdout",
     "output_type": "stream",
     "text": [
      "Training set size 2328\n",
      "Validation set size 291\n",
      "Test set size 292\n"
     ]
    }
   ],
   "source": [
    "tenth = int(num_samples * 0.1)\n",
    "eightyth = tenth * 8\n",
    "\n",
    "X_train = X_full[:eightyth]\n",
    "y_train = y_full[:eightyth]\n",
    "\n",
    "X_val = X_full[eightyth: eightyth + tenth]\n",
    "y_val = y_full[eightyth: eightyth + tenth]\n",
    "\n",
    "X_test = X_full[eightyth + tenth:]\n",
    "y_test = y_full[eightyth + tenth:]\n",
    "\n",
    "print('Training set size', len(X_train))\n",
    "print('Validation set size', len(X_val))\n",
    "print('Test set size', len(X_test))"
   ]
  },
  {
   "cell_type": "code",
   "execution_count": 38,
   "id": "c6ad0e1d",
   "metadata": {
    "scrolled": true
   },
   "outputs": [
    {
     "name": "stdout",
     "output_type": "stream",
     "text": [
      "Model: \"sequential\"\n",
      "_________________________________________________________________\n",
      " Layer (type)                Output Shape              Param #   \n",
      "=================================================================\n",
      " reshape (Reshape)           (None, 128, 24, 1)        0         \n",
      "                                                                 \n",
      " conv2d (Conv2D)             (None, 126, 22, 32)       320       \n",
      "                                                                 \n",
      " conv2d_1 (Conv2D)           (None, 124, 20, 64)       18496     \n",
      "                                                                 \n",
      " max_pooling2d (MaxPooling2D  (None, 62, 10, 64)       0         \n",
      " )                                                               \n",
      "                                                                 \n",
      " dropout (Dropout)           (None, 62, 10, 64)        0         \n",
      "                                                                 \n",
      " flatten (Flatten)           (None, 39680)             0         \n",
      "                                                                 \n",
      " dense (Dense)               (None, 128)               5079168   \n",
      "                                                                 \n",
      " dropout_1 (Dropout)         (None, 128)               0         \n",
      "                                                                 \n",
      " dense_1 (Dense)             (None, 10)                1290      \n",
      "                                                                 \n",
      "=================================================================\n",
      "Total params: 5,099,274\n",
      "Trainable params: 5,099,274\n",
      "Non-trainable params: 0\n",
      "_________________________________________________________________\n"
     ]
    },
    {
     "name": "stderr",
     "output_type": "stream",
     "text": [
      "2022-05-01 10:40:11.422408: I tensorflow/core/platform/cpu_feature_guard.cc:151] This TensorFlow binary is optimized with oneAPI Deep Neural Network Library (oneDNN) to use the following CPU instructions in performance-critical operations:  AVX2 FMA\n",
      "To enable them in other operations, rebuild TensorFlow with the appropriate compiler flags.\n"
     ]
    }
   ],
   "source": [
    "# INPUTS ARE NORMALIZED\n",
    "\n",
    "model = tf.keras.models.Sequential()\n",
    "# model.add(tf.keras.layers.Input(shape=(sample_w,)))\n",
    "model.add(tf.keras.layers.Reshape((128, 24, 1), input_shape=(sample_w,)))\n",
    "model.add(tf.keras.layers.Conv2D(32, 3, activation='relu'))\n",
    "model.add(tf.keras.layers.Conv2D(64, 3, activation='relu'))\n",
    "model.add(tf.keras.layers.MaxPooling2D())\n",
    "model.add(tf.keras.layers.Dropout(0.25))\n",
    "model.add(tf.keras.layers.Flatten())\n",
    "model.add(tf.keras.layers.Dense(128, activation=\"relu\"))\n",
    "model.add(tf.keras.layers.Dropout(0.5))\n",
    "model.add(tf.keras.layers.Dense(10, activation=\"softmax\"))\n",
    "\n",
    "model.build()\n",
    "model.summary()"
   ]
  },
  {
   "cell_type": "code",
   "execution_count": 39,
   "id": "18a158e5",
   "metadata": {},
   "outputs": [],
   "source": [
    "model.compile(loss=\"sparse_categorical_crossentropy\",\n",
    "             optimizer=\"adam\",\n",
    "             metrics=[\"accuracy\"])"
   ]
  },
  {
   "cell_type": "code",
   "execution_count": 40,
   "id": "9fb89641",
   "metadata": {},
   "outputs": [
    {
     "name": "stdout",
     "output_type": "stream",
     "text": [
      "Epoch 1/30\n",
      "73/73 [==============================] - 8s 101ms/step - loss: 2.3626 - accuracy: 0.1405 - val_loss: 2.2077 - val_accuracy: 0.2096\n",
      "Epoch 2/30\n",
      "73/73 [==============================] - 8s 105ms/step - loss: 1.9988 - accuracy: 0.2878 - val_loss: 1.6659 - val_accuracy: 0.5773\n",
      "Epoch 3/30\n",
      "73/73 [==============================] - 9s 118ms/step - loss: 1.4691 - accuracy: 0.4858 - val_loss: 1.0108 - val_accuracy: 0.6770\n",
      "Epoch 4/30\n",
      "73/73 [==============================] - 9s 123ms/step - loss: 1.0711 - accuracy: 0.6392 - val_loss: 0.6966 - val_accuracy: 0.8213\n",
      "Epoch 5/30\n",
      "73/73 [==============================] - 10s 131ms/step - loss: 0.8542 - accuracy: 0.7075 - val_loss: 0.4821 - val_accuracy: 0.8454\n",
      "Epoch 6/30\n",
      "73/73 [==============================] - 9s 128ms/step - loss: 0.6874 - accuracy: 0.7595 - val_loss: 0.3432 - val_accuracy: 0.9072\n",
      "Epoch 7/30\n",
      "73/73 [==============================] - 10s 137ms/step - loss: 0.5859 - accuracy: 0.7874 - val_loss: 0.3219 - val_accuracy: 0.9003\n",
      "Epoch 8/30\n",
      "73/73 [==============================] - 9s 125ms/step - loss: 0.5089 - accuracy: 0.8273 - val_loss: 0.2546 - val_accuracy: 0.9347\n",
      "Epoch 9/30\n",
      "73/73 [==============================] - 10s 134ms/step - loss: 0.4362 - accuracy: 0.8484 - val_loss: 0.2480 - val_accuracy: 0.9313\n",
      "Epoch 10/30\n",
      "73/73 [==============================] - 9s 128ms/step - loss: 0.4096 - accuracy: 0.8604 - val_loss: 0.2145 - val_accuracy: 0.9416\n",
      "Epoch 11/30\n",
      "73/73 [==============================] - 9s 130ms/step - loss: 0.3648 - accuracy: 0.8776 - val_loss: 0.1969 - val_accuracy: 0.9519\n",
      "Epoch 12/30\n",
      "73/73 [==============================] - 10s 129ms/step - loss: 0.3398 - accuracy: 0.8763 - val_loss: 0.1992 - val_accuracy: 0.9381\n",
      "Epoch 13/30\n",
      "73/73 [==============================] - 9s 128ms/step - loss: 0.3217 - accuracy: 0.8892 - val_loss: 0.1707 - val_accuracy: 0.9519\n",
      "Epoch 14/30\n",
      "73/73 [==============================] - 9s 124ms/step - loss: 0.2992 - accuracy: 0.8960 - val_loss: 0.2031 - val_accuracy: 0.9347\n",
      "Epoch 15/30\n",
      "73/73 [==============================] - 8s 112ms/step - loss: 0.2860 - accuracy: 0.9008 - val_loss: 0.1640 - val_accuracy: 0.9519\n",
      "Epoch 16/30\n",
      "73/73 [==============================] - 8s 112ms/step - loss: 0.2532 - accuracy: 0.9098 - val_loss: 0.1455 - val_accuracy: 0.9691\n",
      "Epoch 17/30\n",
      "73/73 [==============================] - 8s 108ms/step - loss: 0.2260 - accuracy: 0.9201 - val_loss: 0.1206 - val_accuracy: 0.9588\n",
      "Epoch 18/30\n",
      "73/73 [==============================] - 8s 105ms/step - loss: 0.2102 - accuracy: 0.9192 - val_loss: 0.1383 - val_accuracy: 0.9656\n",
      "Epoch 19/30\n",
      "73/73 [==============================] - 8s 108ms/step - loss: 0.2160 - accuracy: 0.9149 - val_loss: 0.1556 - val_accuracy: 0.9622\n",
      "Epoch 20/30\n",
      "73/73 [==============================] - 8s 111ms/step - loss: 0.2035 - accuracy: 0.9248 - val_loss: 0.1377 - val_accuracy: 0.9622\n",
      "Epoch 21/30\n",
      "73/73 [==============================] - 8s 103ms/step - loss: 0.2088 - accuracy: 0.9244 - val_loss: 0.1386 - val_accuracy: 0.9691\n",
      "Epoch 22/30\n",
      "73/73 [==============================] - 9s 116ms/step - loss: 0.1936 - accuracy: 0.9274 - val_loss: 0.1508 - val_accuracy: 0.9656\n",
      "Epoch 23/30\n",
      "73/73 [==============================] - 8s 105ms/step - loss: 0.1857 - accuracy: 0.9351 - val_loss: 0.1854 - val_accuracy: 0.9588\n",
      "Epoch 24/30\n",
      "73/73 [==============================] - 8s 104ms/step - loss: 0.1974 - accuracy: 0.9343 - val_loss: 0.1284 - val_accuracy: 0.9656\n",
      "Epoch 25/30\n",
      "73/73 [==============================] - 8s 110ms/step - loss: 0.1756 - accuracy: 0.9394 - val_loss: 0.1369 - val_accuracy: 0.9553\n",
      "Epoch 26/30\n",
      "73/73 [==============================] - 9s 126ms/step - loss: 0.1588 - accuracy: 0.9416 - val_loss: 0.1288 - val_accuracy: 0.9656\n",
      "Epoch 27/30\n",
      "73/73 [==============================] - 8s 112ms/step - loss: 0.1646 - accuracy: 0.9394 - val_loss: 0.1405 - val_accuracy: 0.9622\n",
      "Epoch 28/30\n",
      "73/73 [==============================] - 7s 101ms/step - loss: 0.1462 - accuracy: 0.9536 - val_loss: 0.1246 - val_accuracy: 0.9656\n",
      "Epoch 29/30\n",
      "73/73 [==============================] - 8s 109ms/step - loss: 0.1266 - accuracy: 0.9613 - val_loss: 0.1534 - val_accuracy: 0.9691\n",
      "Epoch 30/30\n",
      "73/73 [==============================] - 8s 110ms/step - loss: 0.1396 - accuracy: 0.9497 - val_loss: 0.1088 - val_accuracy: 0.9656\n"
     ]
    }
   ],
   "source": [
    "history = model.fit(X_train, y_train, epochs=30,\n",
    "                   validation_data=(X_val, y_val))"
   ]
  },
  {
   "cell_type": "code",
   "execution_count": 41,
   "id": "d5621be7",
   "metadata": {},
   "outputs": [
    {
     "name": "stdout",
     "output_type": "stream",
     "text": [
      "10/10 [==============================] - 0s 21ms/step - loss: 0.1420 - accuracy: 0.9623\n"
     ]
    },
    {
     "data": {
      "text/plain": [
       "[0.142026886343956, 0.9623287916183472]"
      ]
     },
     "execution_count": 41,
     "metadata": {},
     "output_type": "execute_result"
    }
   ],
   "source": [
    "model.evaluate(X_test, y_test)"
   ]
  },
  {
   "cell_type": "code",
   "execution_count": 42,
   "id": "12a6dc05",
   "metadata": {},
   "outputs": [
    {
     "data": {
      "image/png": "[encoded data removed]",
      "text/plain": [
       "<Figure size 720x576 with 2 Axes>"
      ]
     },
     "metadata": {
      "needs_background": "light"
     },
     "output_type": "display_data"
    }
   ],
   "source": [
    "y_pred = np.argmax(model.predict(X_test), axis=1)\n",
    "\n",
    "all_labels = list(range(10))\n",
    "\n",
    "confusion_mtx = tf.math.confusion_matrix(y_test, y_pred)\n",
    "plt.figure(figsize=(10, 8))\n",
    "sns.heatmap(confusion_mtx,\n",
    "            xticklabels=all_labels,\n",
    "            yticklabels=all_labels,\n",
    "            annot=True, fmt='g')\n",
    "plt.xlabel('Prediction')\n",
    "plt.ylabel('Label')\n",
    "plt.show()"
   ]
  },
  {
   "cell_type": "code",
   "execution_count": 43,
   "id": "bed3e8d5",
   "metadata": {},
   "outputs": [],
   "source": [
    "model.save(\"model_v5.h5\")"
   ]
  },
  {
   "cell_type": "code",
   "execution_count": null,
   "id": "4f55c2fd",
   "metadata": {},
   "outputs": [],
   "source": []
  }
 ],
 "metadata": {
  "kernelspec": {
   "display_name": "Python 3 (ipykernel)",
   "language": "python",
   "name": "python3"
  },
  "language_info": {
   "codemirror_mode": {
    "name": "ipython",
    "version": 3
   },
   "file_extension": ".py",
   "mimetype": "text/x-python",
   "name": "python",
   "nbconvert_exporter": "python",
   "pygments_lexer": "ipython3",
   "version": "3.7.7"
  }
 },
 "nbformat": 4,
 "nbformat_minor": 5
}
