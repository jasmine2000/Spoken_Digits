{
 "cells": [
  {
   "cell_type": "code",
   "execution_count": 5,
   "id": "a418458d",
   "metadata": {},
   "outputs": [],
   "source": [
    "import random\n",
    "\n",
    "# for data, model, training\n",
    "import pandas as pd\n",
    "import numpy as np\n",
    "import tensorflow as tf\n",
    "import librosa\n",
    "\n",
    "import matplotlib.pyplot as plt\n",
    "import seaborn as sns\n",
    "\n",
    "import basics\n",
    "\n",
    "# Set the seed value for experiment reproducibility.\n",
    "seed = 42\n",
    "random.seed(42)\n",
    "tf.random.set_seed(seed)\n",
    "np.random.seed(seed)"
   ]
  },
  {
   "cell_type": "code",
   "execution_count": 6,
   "id": "3155a93e",
   "metadata": {},
   "outputs": [
    {
     "name": "stdout",
     "output_type": "stream",
     "text": [
      "['./recordings/2_jackson_13.wav', './recordings/6_george_34.wav', './recordings/7_george_5.wav', './recordings/1_yweweler_21.wav', './recordings/2_george_42.wav']\n"
     ]
    }
   ],
   "source": [
    "filenames = basics.get_and_shuffle_filenames(\"./recordings\")\n",
    "\n",
    "print(filenames[:5])"
   ]
  },
  {
   "cell_type": "code",
   "execution_count": 7,
   "id": "ca38f0f0",
   "metadata": {},
   "outputs": [
    {
     "name": "stdout",
     "output_type": "stream",
     "text": [
      "5632\n"
     ]
    }
   ],
   "source": [
    "X_unfiltered = [(file_path, basics.decode_audio(file_path)) for file_path in filenames]\n",
    "\n",
    "# to remove outliers \n",
    "max_length = basics.get_max_length(X_unfiltered)\n",
    "print(max_length)"
   ]
  },
  {
   "cell_type": "code",
   "execution_count": 11,
   "id": "73785aa6",
   "metadata": {},
   "outputs": [],
   "source": [
    "def spect(signal):\n",
    "    s = np.abs(librosa.stft(y=signal, n_fft=256, hop_length=256))[:-1]\n",
    "    s = librosa.power_to_db(s, ref=np.max)\n",
    "    return s"
   ]
  },
  {
   "cell_type": "code",
   "execution_count": 17,
   "id": "f4ad86ab",
   "metadata": {},
   "outputs": [
    {
     "name": "stdout",
     "output_type": "stream",
     "text": [
      "2896\n",
      "2944\n"
     ]
    }
   ],
   "source": [
    "X_full = [] # padded X values\n",
    "y_full = []\n",
    "\n",
    "numbers = [0] * 10\n",
    "\n",
    "for file_path, audio in X_unfiltered:\n",
    "    x_val = audio\n",
    "    y_val = basics.get_label(file_path)\n",
    "    \n",
    "    signal_length = audio.shape[0]\n",
    "    if signal_length > max_length:\n",
    "        numbers[y_val] += 1\n",
    "        continue\n",
    "        \n",
    "    x_val = np.pad(\n",
    "        x_val, (0, max_length - signal_length), \n",
    "        'constant', constant_values=(0, 0))\n",
    "\n",
    "    spect_x = spect(x_val).flatten()\n",
    "\n",
    "    X_full.append(spect_x)\n",
    "    y_full.append(y_val)\n",
    "\n",
    "X_full = np.array(X_full)\n",
    "y_full = np.array(y_full)\n",
    "\n",
    "num_samples, sample_w = X_full.shape\n",
    "print(num_samples)\n",
    "print(sample_w)"
   ]
  },
  {
   "cell_type": "code",
   "execution_count": 18,
   "id": "5eb7ccd4",
   "metadata": {},
   "outputs": [
    {
     "name": "stdout",
     "output_type": "stream",
     "text": [
      "   quantities\n",
      "0          12\n",
      "1           9\n",
      "2           7\n",
      "3           9\n",
      "4           3\n",
      "5           8\n",
      "6          29\n",
      "7          11\n",
      "8           6\n",
      "9          10\n",
      "104\n"
     ]
    }
   ],
   "source": [
    "# dropped outliers\n",
    "df = pd.DataFrame.from_dict({\"quantities\": numbers})\n",
    "print(df)\n",
    "print(sum(numbers))"
   ]
  },
  {
   "cell_type": "code",
   "execution_count": 19,
   "id": "056393d8",
   "metadata": {},
   "outputs": [
    {
     "name": "stdout",
     "output_type": "stream",
     "text": [
      "Training set size 2312\n",
      "Validation set size 289\n",
      "Test set size 295\n"
     ]
    }
   ],
   "source": [
    "# normalize data\n",
    "X_full = basics.normalize_arr(X_full)\n",
    "\n",
    "# partition into 80:10:10\n",
    "partitions = basics.split_full(X_full, y_full)\n",
    "\n",
    "X_train, y_train = partitions[0]\n",
    "X_val, y_val = partitions[1]\n",
    "X_test, y_test = partitions[2]\n",
    "\n",
    "print('Training set size', len(X_train))\n",
    "print('Validation set size', len(X_val))\n",
    "print('Test set size', len(X_test))"
   ]
  },
  {
   "cell_type": "code",
   "execution_count": 20,
   "id": "c6ad0e1d",
   "metadata": {
    "scrolled": true
   },
   "outputs": [
    {
     "name": "stdout",
     "output_type": "stream",
     "text": [
      "Model: \"sequential_1\"\n",
      "_________________________________________________________________\n",
      " Layer (type)                Output Shape              Param #   \n",
      "=================================================================\n",
      " reshape_1 (Reshape)         (None, 128, 23, 1)        0         \n",
      "                                                                 \n",
      " conv2d (Conv2D)             (None, 126, 21, 32)       320       \n",
      "                                                                 \n",
      " conv2d_1 (Conv2D)           (None, 124, 19, 64)       18496     \n",
      "                                                                 \n",
      " max_pooling2d (MaxPooling2D  (None, 62, 9, 64)        0         \n",
      " )                                                               \n",
      "                                                                 \n",
      " dropout (Dropout)           (None, 62, 9, 64)         0         \n",
      "                                                                 \n",
      " flatten (Flatten)           (None, 35712)             0         \n",
      "                                                                 \n",
      " dense (Dense)               (None, 128)               4571264   \n",
      "                                                                 \n",
      " dropout_1 (Dropout)         (None, 128)               0         \n",
      "                                                                 \n",
      " dense_1 (Dense)             (None, 10)                1290      \n",
      "                                                                 \n",
      "=================================================================\n",
      "Total params: 4,591,370\n",
      "Trainable params: 4,591,370\n",
      "Non-trainable params: 0\n",
      "_________________________________________________________________\n"
     ]
    }
   ],
   "source": [
    "# INPUTS ARE NORMALIZED\n",
    "\n",
    "model = tf.keras.models.Sequential()\n",
    "# model.add(tf.keras.layers.Input(shape=(sample_w,)))\n",
    "model.add(tf.keras.layers.Reshape((128, 23, 1), input_shape=(sample_w,)))\n",
    "model.add(tf.keras.layers.Conv2D(32, 3, activation='relu'))\n",
    "model.add(tf.keras.layers.Conv2D(64, 3, activation='relu'))\n",
    "model.add(tf.keras.layers.MaxPooling2D())\n",
    "model.add(tf.keras.layers.Dropout(0.25))\n",
    "model.add(tf.keras.layers.Flatten())\n",
    "model.add(tf.keras.layers.Dense(128, activation=\"relu\"))\n",
    "model.add(tf.keras.layers.Dropout(0.5))\n",
    "model.add(tf.keras.layers.Dense(10, activation=\"softmax\"))\n",
    "\n",
    "model.build()\n",
    "model.summary()"
   ]
  },
  {
   "cell_type": "code",
   "execution_count": 21,
   "id": "18a158e5",
   "metadata": {},
   "outputs": [],
   "source": [
    "model.compile(loss=\"sparse_categorical_crossentropy\",\n",
    "             optimizer=\"adam\",\n",
    "             metrics=[\"accuracy\"])"
   ]
  },
  {
   "cell_type": "code",
   "execution_count": 22,
   "id": "9fb89641",
   "metadata": {},
   "outputs": [
    {
     "name": "stdout",
     "output_type": "stream",
     "text": [
      "Epoch 1/30\n",
      "73/73 [==============================] - 9s 120ms/step - loss: 2.3325 - accuracy: 0.1250 - val_loss: 2.1986 - val_accuracy: 0.1626\n",
      "Epoch 2/30\n",
      "73/73 [==============================] - 9s 124ms/step - loss: 2.0842 - accuracy: 0.2344 - val_loss: 1.7652 - val_accuracy: 0.4775\n",
      "Epoch 3/30\n",
      "73/73 [==============================] - 8s 116ms/step - loss: 1.5818 - accuracy: 0.4520 - val_loss: 1.1068 - val_accuracy: 0.6332\n",
      "Epoch 4/30\n",
      "73/73 [==============================] - 8s 115ms/step - loss: 1.1716 - accuracy: 0.5852 - val_loss: 0.7181 - val_accuracy: 0.8131\n",
      "Epoch 5/30\n",
      "73/73 [==============================] - 8s 114ms/step - loss: 0.9298 - accuracy: 0.6743 - val_loss: 0.5156 - val_accuracy: 0.8512\n",
      "Epoch 6/30\n",
      "73/73 [==============================] - 10s 136ms/step - loss: 0.7664 - accuracy: 0.7158 - val_loss: 0.3745 - val_accuracy: 0.9066\n",
      "Epoch 7/30\n",
      "73/73 [==============================] - 8s 115ms/step - loss: 0.6628 - accuracy: 0.7582 - val_loss: 0.3455 - val_accuracy: 0.9066\n",
      "Epoch 8/30\n",
      "73/73 [==============================] - 9s 116ms/step - loss: 0.5894 - accuracy: 0.7928 - val_loss: 0.3001 - val_accuracy: 0.9204\n",
      "Epoch 9/30\n",
      "73/73 [==============================] - 8s 105ms/step - loss: 0.5161 - accuracy: 0.8101 - val_loss: 0.2267 - val_accuracy: 0.9308\n",
      "Epoch 10/30\n",
      "73/73 [==============================] - 8s 113ms/step - loss: 0.5131 - accuracy: 0.8080 - val_loss: 0.2039 - val_accuracy: 0.9516\n",
      "Epoch 11/30\n",
      "73/73 [==============================] - 8s 105ms/step - loss: 0.4407 - accuracy: 0.8469 - val_loss: 0.1786 - val_accuracy: 0.9481\n",
      "Epoch 12/30\n",
      "73/73 [==============================] - 8s 104ms/step - loss: 0.4140 - accuracy: 0.8560 - val_loss: 0.1684 - val_accuracy: 0.9654\n",
      "Epoch 13/30\n",
      "73/73 [==============================] - 8s 114ms/step - loss: 0.3682 - accuracy: 0.8594 - val_loss: 0.1571 - val_accuracy: 0.9585\n",
      "Epoch 14/30\n",
      "73/73 [==============================] - 9s 122ms/step - loss: 0.3481 - accuracy: 0.8698 - val_loss: 0.1376 - val_accuracy: 0.9689\n",
      "Epoch 15/30\n",
      "73/73 [==============================] - 8s 116ms/step - loss: 0.3417 - accuracy: 0.8785 - val_loss: 0.1799 - val_accuracy: 0.9446\n",
      "Epoch 16/30\n",
      "73/73 [==============================] - 8s 115ms/step - loss: 0.3383 - accuracy: 0.8750 - val_loss: 0.1771 - val_accuracy: 0.9343\n",
      "Epoch 17/30\n",
      "73/73 [==============================] - 8s 108ms/step - loss: 0.3445 - accuracy: 0.8802 - val_loss: 0.1621 - val_accuracy: 0.9550\n",
      "Epoch 18/30\n",
      "73/73 [==============================] - 8s 107ms/step - loss: 0.2865 - accuracy: 0.8945 - val_loss: 0.1193 - val_accuracy: 0.9619\n",
      "Epoch 19/30\n",
      "73/73 [==============================] - 8s 107ms/step - loss: 0.2625 - accuracy: 0.8984 - val_loss: 0.1349 - val_accuracy: 0.9619\n",
      "Epoch 20/30\n",
      "73/73 [==============================] - 8s 115ms/step - loss: 0.2574 - accuracy: 0.9066 - val_loss: 0.0898 - val_accuracy: 0.9723\n",
      "Epoch 21/30\n",
      "73/73 [==============================] - 8s 108ms/step - loss: 0.2808 - accuracy: 0.9005 - val_loss: 0.1577 - val_accuracy: 0.9619\n",
      "Epoch 22/30\n",
      "73/73 [==============================] - 8s 107ms/step - loss: 0.2630 - accuracy: 0.8988 - val_loss: 0.1258 - val_accuracy: 0.9619\n",
      "Epoch 23/30\n",
      "73/73 [==============================] - 8s 106ms/step - loss: 0.2234 - accuracy: 0.9196 - val_loss: 0.1351 - val_accuracy: 0.9585\n",
      "Epoch 24/30\n",
      "73/73 [==============================] - 8s 111ms/step - loss: 0.2216 - accuracy: 0.9139 - val_loss: 0.1300 - val_accuracy: 0.9585\n",
      "Epoch 25/30\n",
      "73/73 [==============================] - 8s 112ms/step - loss: 0.2442 - accuracy: 0.9061 - val_loss: 0.1007 - val_accuracy: 0.9723\n",
      "Epoch 26/30\n",
      "73/73 [==============================] - 8s 109ms/step - loss: 0.2053 - accuracy: 0.9178 - val_loss: 0.1115 - val_accuracy: 0.9619\n",
      "Epoch 27/30\n",
      "73/73 [==============================] - 8s 107ms/step - loss: 0.2015 - accuracy: 0.9234 - val_loss: 0.1057 - val_accuracy: 0.9619\n",
      "Epoch 28/30\n",
      "73/73 [==============================] - 8s 113ms/step - loss: 0.2124 - accuracy: 0.9234 - val_loss: 0.1092 - val_accuracy: 0.9758\n",
      "Epoch 29/30\n",
      "73/73 [==============================] - 8s 113ms/step - loss: 0.2052 - accuracy: 0.9299 - val_loss: 0.1076 - val_accuracy: 0.9585\n",
      "Epoch 30/30\n",
      "73/73 [==============================] - 8s 106ms/step - loss: 0.1981 - accuracy: 0.9239 - val_loss: 0.0847 - val_accuracy: 0.9689\n"
     ]
    }
   ],
   "source": [
    "history = model.fit(X_train, y_train, epochs=30,\n",
    "                   validation_data=(X_val, y_val))"
   ]
  },
  {
   "cell_type": "code",
   "execution_count": 23,
   "id": "d5621be7",
   "metadata": {},
   "outputs": [
    {
     "name": "stdout",
     "output_type": "stream",
     "text": [
      "10/10 [==============================] - 0s 26ms/step - loss: 0.0886 - accuracy: 0.9729\n"
     ]
    },
    {
     "data": {
      "text/plain": [
       "[0.08858558535575867, 0.9728813767433167]"
      ]
     },
     "execution_count": 23,
     "metadata": {},
     "output_type": "execute_result"
    }
   ],
   "source": [
    "model.evaluate(X_test, y_test)"
   ]
  },
  {
   "cell_type": "code",
   "execution_count": 24,
   "id": "12a6dc05",
   "metadata": {},
   "outputs": [
    {
     "data": {
      "image/png": "[encoded data removed]",
      "text/plain": [
       "<Figure size 720x576 with 2 Axes>"
      ]
     },
     "metadata": {
      "needs_background": "light"
     },
     "output_type": "display_data"
    }
   ],
   "source": [
    "y_pred = np.argmax(model.predict(X_test), axis=1)\n",
    "\n",
    "all_labels = list(range(10))\n",
    "\n",
    "confusion_mtx = tf.math.confusion_matrix(y_test, y_pred)\n",
    "plt.figure(figsize=(10, 8))\n",
    "sns.heatmap(confusion_mtx,\n",
    "            xticklabels=all_labels,\n",
    "            yticklabels=all_labels,\n",
    "            annot=True, fmt='g')\n",
    "plt.xlabel('Prediction')\n",
    "plt.ylabel('Label')\n",
    "plt.show()"
   ]
  },
  {
   "cell_type": "code",
   "execution_count": 43,
   "id": "bed3e8d5",
   "metadata": {},
   "outputs": [],
   "source": [
    "model.save(\"model_v5.h5\")"
   ]
  },
  {
   "cell_type": "code",
   "execution_count": null,
   "id": "4f55c2fd",
   "metadata": {},
   "outputs": [],
   "source": []
  }
 ],
 "metadata": {
  "kernelspec": {
   "display_name": "Python 3 (ipykernel)",
   "language": "python",
   "name": "python3"
  },
  "language_info": {
   "codemirror_mode": {
    "name": "ipython",
    "version": 3
   },
   "file_extension": ".py",
   "mimetype": "text/x-python",
   "name": "python",
   "nbconvert_exporter": "python",
   "pygments_lexer": "ipython3",
   "version": "3.7.7"
  }
 },
 "nbformat": 4,
 "nbformat_minor": 5
}
