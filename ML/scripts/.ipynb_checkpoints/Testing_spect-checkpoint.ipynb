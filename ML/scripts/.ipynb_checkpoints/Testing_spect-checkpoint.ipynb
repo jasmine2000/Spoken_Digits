{
 "cells": [
  {
   "cell_type": "code",
   "execution_count": 1,
   "id": "e4859548",
   "metadata": {},
   "outputs": [],
   "source": [
    "import wave\n",
    "import glob\n",
    "import random\n",
    "\n",
    "# for data, model, training\n",
    "import pandas as pd\n",
    "import numpy as np\n",
    "import tensorflow as tf\n",
    "from tensorflow.keras import layers\n",
    "from tensorflow.keras import models\n",
    "from scipy import signal\n",
    "\n",
    "import librosa\n",
    "import librosa.display\n",
    "\n",
    "# for visuals and statistics\n",
    "import matplotlib.pyplot as plt\n",
    "import seaborn as sns\n",
    "\n",
    "# Set the seed value for experiment reproducibility.\n",
    "seed = 42\n",
    "random.seed(42)\n",
    "tf.random.set_seed(seed)\n",
    "np.random.seed(seed)"
   ]
  },
  {
   "cell_type": "code",
   "execution_count": 2,
   "id": "1f726f73",
   "metadata": {},
   "outputs": [
    {
     "name": "stdout",
     "output_type": "stream",
     "text": [
      "['../recordings/2_jackson_13.wav', '../recordings/6_george_34.wav', '../recordings/7_george_5.wav', '../recordings/1_yweweler_21.wav', '../recordings/2_george_42.wav']\n"
     ]
    }
   ],
   "source": [
    "def get_and_shuffle_filenames(dir_name):\n",
    "    filenames = glob.glob(str(data_dir) + \"/*\")\n",
    "    random.shuffle(filenames)\n",
    "    return filenames\n",
    "\n",
    "data_dir = \"../recordings\"\n",
    "filenames = get_and_shuffle_filenames(data_dir)\n",
    "\n",
    "print(filenames[:5])"
   ]
  },
  {
   "cell_type": "code",
   "execution_count": 3,
   "id": "0840a257",
   "metadata": {},
   "outputs": [],
   "source": [
    "# https://www.tensorflow.org/tutorials/audio/simple_audio\n",
    "\n",
    "def decode_audio(file_path):\n",
    "    # read file to get buffer                                                                                               \n",
    "    ifile = wave.open(file_path)\n",
    "    samples = ifile.getnframes()\n",
    "    audio = ifile.readframes(samples)\n",
    "\n",
    "    # convert buffer to float32 using NumPy                                                                                 \n",
    "    audio_as_np_int16 = np.frombuffer(audio, dtype=np.int16)\n",
    "    audio_as_np_float32 = audio_as_np_int16.astype(np.float32)\n",
    "    \n",
    "    # get largest absolute value\n",
    "    max_val = np.max(\n",
    "        np.absolute(\n",
    "            [np.max(audio_as_np_float32), np.min(audio_as_np_float32)]))\n",
    "    audio_normalized = audio_as_np_float32 / max_val\n",
    "\n",
    "    return audio_normalized\n",
    "\n",
    "def get_label(file_path):\n",
    "    # label is in the filename\n",
    "    parts = file_path.split(\"/\")\n",
    "    label = int(parts[2].split(\"_\")[0])\n",
    "\n",
    "    return label\n"
   ]
  },
  {
   "cell_type": "code",
   "execution_count": 4,
   "id": "b79f56e9",
   "metadata": {},
   "outputs": [
    {
     "name": "stdout",
     "output_type": "stream",
     "text": [
      "3499.4746666666665\n",
      "1180.9471707171701\n",
      "5861\n"
     ]
    }
   ],
   "source": [
    "# to remove outliers \n",
    "X_unfiltered = [(file_path, decode_audio(file_path)) for file_path in filenames]\n",
    "X_lengths = [audio.shape[0] for _, audio in X_unfiltered]\n",
    "\n",
    "max_length = int(np.mean(X_lengths) + 2 * np.std(X_lengths))\n",
    "print(np.mean(X_lengths))\n",
    "print(np.std(X_lengths))\n",
    "print(max_length)"
   ]
  },
  {
   "cell_type": "code",
   "execution_count": 27,
   "id": "aa9fb227",
   "metadata": {},
   "outputs": [],
   "source": [
    "def spect(signal):\n",
    "    spectogram = np.array([[]])\n",
    "    for i in range(23):\n",
    "        window_fft = np.fft.rfft(signal[i * 256: (i + 1) * 256])\n",
    "        window_fft = np.abs(window_fft)\n",
    "        spectogram = np.append(spectogram, window_fft)\n",
    "#         spectogram.append(window_fft)\n",
    "    spectogram = np.array(spectogram)\n",
    "#     spectogram = librosa.power_to_db(spectogram, ref=np.max)\n",
    "    return spectogram"
   ]
  },
  {
   "cell_type": "code",
   "execution_count": 29,
   "id": "6ec43109",
   "metadata": {},
   "outputs": [
    {
     "name": "stdout",
     "output_type": "stream",
     "text": [
      "[0.03806885 0.01749241 0.05880755 0.18324278 0.18256358 0.10872668\n",
      " 0.15227229 0.26038296 0.38328134 0.7413683  1.04693359 0.86383026\n",
      " 1.58828099 0.88320272 0.96064204 0.80829995 0.21212448 0.41486954\n",
      " 0.14025736 0.41787061 0.49761485 0.8548274  0.41138241 0.43470575\n",
      " 0.41191183 0.10875698 0.09784473 0.3285665  0.14371811 0.08987092\n",
      " 0.14217015 0.01296324 0.07484991 0.02327035 0.02268406 0.02604522\n",
      " 0.04802598 0.03672129 0.04132831 0.03682631 0.00638569 0.02594795\n",
      " 0.03069819 0.04075474 0.03071105 0.02627277 0.03685866 0.03142826\n",
      " 0.05562213 0.05056687 0.09858216 0.0597259  0.0501816  0.10777874\n",
      " 0.02486925 0.44128791 0.55659752 0.23083044 0.64787971 0.11825806\n",
      " 0.40565583 0.23955102 0.10175522 0.14009281 0.15690275 0.18612205\n",
      " 0.0335678  0.19600822 0.07096112 0.08158665 0.03676375 0.1093479\n",
      " 0.0867335  0.14039509 0.28375002 0.1946731  0.54123944 0.60294319\n",
      " 0.30355523 0.44465487 0.72744251 2.2450219  1.13941356 0.80198358\n",
      " 0.30368707 0.48921939 0.23148393 0.19416347 0.08481923 0.19232109\n",
      " 0.13074234 0.05702865 0.04669777 0.02349409 0.17803694 0.0534701\n",
      " 0.12590122 0.42167149 0.1155882  0.34978351 0.50612907 0.49752635\n",
      " 0.76537349 0.2702428  0.35648091 0.62482939 0.33942627 0.41045562\n",
      " 1.12884235 1.23999818 0.92442467 1.00829911 1.12176037 0.58968127\n",
      " 0.23595254 0.44305188 1.06934813 0.55647463 0.4138216  0.38864254\n",
      " 0.42053065 0.56971959 0.36966631 0.22216181 0.19945124 0.35722959\n",
      " 0.15018915 0.11872282 0.19572616]\n"
     ]
    }
   ],
   "source": [
    "# padding function from\n",
    "# https://towardsdatascience.com/audio-deep-learning-made-simple-sound-classification-step-by-step-cebc936bbe5\n",
    "\n",
    "\n",
    "audio = X_unfiltered[0]\n",
    "\n",
    "pad_len = max_length - signal_length\n",
    "\n",
    "x_val = np.pad(\n",
    "    x_val, (0, pad_len), \n",
    "    'constant', constant_values=(0, 0))\n",
    "\n",
    "width = 8\n",
    "num_arr_str = \"{\"\n",
    "for i in range(int(256/width)):\n",
    "    for j in range(width):\n",
    "        num_arr_str += str(x_val[i * width + j]) + \", \"\n",
    "    num_arr_str += \"\\n\"\n",
    "num_arr_str += \"}\"\n",
    "\n",
    "# print(x_val[:256])\n",
    "# print(num_arr_str)\n",
    "\n",
    "spec_x = spect(x_val)\n",
    "\n",
    "print(spec_x[:129])\n",
    "\n"
   ]
  },
  {
   "cell_type": "code",
   "execution_count": 25,
   "id": "eafe2cf5",
   "metadata": {},
   "outputs": [
    {
     "data": {
      "text/plain": [
       "array([28.+0.j        , -4.+9.65685425j, -4.+4.j        , -4.+1.65685425j,\n",
       "       -4.+0.j        ])"
      ]
     },
     "execution_count": 25,
     "metadata": {},
     "output_type": "execute_result"
    }
   ],
   "source": [
    "np.fft.rfft([0, 1, 2, 3, 4, 5, 6, 7])"
   ]
  },
  {
   "cell_type": "code",
   "execution_count": 26,
   "id": "ac595891",
   "metadata": {},
   "outputs": [
    {
     "data": {
      "text/plain": [
       "array([28.        , 10.45250372,  5.65685425,  4.3295688 ,  4.        ])"
      ]
     },
     "execution_count": 26,
     "metadata": {},
     "output_type": "execute_result"
    }
   ],
   "source": [
    "abs(np.fft.rfft([0, 1, 2, 3, 4, 5, 6, 7]))"
   ]
  },
  {
   "cell_type": "code",
   "execution_count": null,
   "id": "7fa60e79",
   "metadata": {},
   "outputs": [],
   "source": []
  }
 ],
 "metadata": {
  "kernelspec": {
   "display_name": "Python 3 (ipykernel)",
   "language": "python",
   "name": "python3"
  },
  "language_info": {
   "codemirror_mode": {
    "name": "ipython",
    "version": 3
   },
   "file_extension": ".py",
   "mimetype": "text/x-python",
   "name": "python",
   "nbconvert_exporter": "python",
   "pygments_lexer": "ipython3",
   "version": "3.7.7"
  }
 },
 "nbformat": 4,
 "nbformat_minor": 5
}
